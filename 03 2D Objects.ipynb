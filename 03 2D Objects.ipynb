{
 "cells": [
  {
   "cell_type": "markdown",
   "metadata": {},
   "source": [
    "# 03. 2D Objects\n",
    "\n",
    "이번 시간에는 이전에 다뤘던 `Shape`, `RightTri`, `Rectangle`에 SVG형식의 이미지로 주피터 노트북 상에서 알아보기 쉽게 출력해 보는 기능을 추가해 활용해 볼 것이다.\n",
    "\n",
    "Standard Vector Graphics (SVG) 형식에 대해서는 [MDN의 SVG 튜토리얼](https://developer.mozilla.org/ko/docs/Web/SVG/Tutorial) 등을 참고할 것.\n",
    "\n",
    "또 이런 오브젝트와 함께 위치 정보를 포함하여 좌표평면상에서 위치를 가지는 새로운 종류의 2차원 오브젝트도 설계하고 활용해 볼 것이다."
   ]
  },
  {
   "cell_type": "markdown",
   "metadata": {},
   "source": [
    "## Revisiting `Shape`s\n",
    "\n",
    "그래픽 출력 이외에도 도형의 모양을 다루는 데 있어 이전에 비해 달라진 점이 있다.\n",
    " 1. 지난 번까지는 인스턴스 변수 `width`와 `height`에 양의 정수만 오는 것으로 가정했지만 여기서는 음의 정수도 허용한다.\n",
    "    <br>(음의 정수일 때 어떤 모양이 되는지는 클래스 정의 다음에 오는 실행 예제를 참고)\n",
    " 2. 도형을 안쪽을 채우는 색깔(`fill`)과 도형을 그렸을 때 불투명도(`opacity`)도 인스턴스 변수로 추가되었다."
   ]
  },
  {
   "cell_type": "code",
   "execution_count": 2,
   "metadata": {},
   "outputs": [],
   "source": [
    "import io.github.spencerpark.ijava.runtime.*;\n",
    "import org.apache.commons.lang3.tuple.*;\n",
    "\n",
    "abstract class Shape {\n",
    "    // 인스턴스 변수\n",
    "    int width;  // 양과 음의 정수값 모두 가능\n",
    "    int height; // 양과 음의 정수값 모두 가능\n",
    "    String fill; // 도형의 안쪽을 채우는 색깔\n",
    "    double opacity; // 도형을 그렸을 때 투명도\n",
    "    \n",
    "    Shape(int width, int height, String fill, double opacity) {\n",
    "        this.width = width;\n",
    "        this.height = height;\n",
    "        this.fill = fill;\n",
    "        this.opacity = opacity;\n",
    "    }\n",
    "\n",
    "    // 추상 메소드 \n",
    "    abstract double area(); // 넓이 계산\n",
    "    abstract String toSVGshape(Pair<Integer,Integer> point); // SVG 기본 도형 태그 생성\n",
    "    \n",
    "    @Override\n",
    "    public String toString() {\n",
    "        return super.toString()\n",
    "            + String.format(\"(width=%d, height=%d, fill=%s, opacity=%f)\",\n",
    "                            width, height, fill, opacity );\n",
    "    }\n",
    "\n",
    "    void display() { // 이미지 형태로 보여주기 위한 메소드\n",
    "        Pair<Integer,Integer> point = Pair.of( (width<0)? Math.abs(width) :0,\n",
    "                                              (height<0)? Math.abs(height):0 );\n",
    "        String svgStr = String.format(\n",
    "            \"<svg width='%d' height='%d'>%s</svg>\",\n",
    "            Math.abs(width), Math.abs(height), this.toSVGshape(point) );\n",
    "        Display.display(svgStr,\"text/html\");\n",
    "    }\n",
    "}"
   ]
  },
  {
   "cell_type": "code",
   "execution_count": 3,
   "metadata": {},
   "outputs": [],
   "source": [
    "class RightTri extends Shape {\n",
    "    RightTri(int width, int height, String fill, double opacity) {\n",
    "        super(width, height, fill, opacity);\n",
    "    }\n",
    "    \n",
    "    @Override\n",
    "    double area() { return Math.abs(width * height) / 2; } // 삼각형 넓이공식에 맞게\n",
    "    \n",
    "    @Override\n",
    "    String toSVGshape(Pair<Integer,Integer> point) {\n",
    "        int x0 = point.getLeft();\n",
    "        int y0 = point.getRight();\n",
    "        return\n",
    "            String.format(\"<circle cx='%d' cy='%d' r='3' fill='%s' opacity='%f' />\",\n",
    "                          x0,y0, fill, opacity)\n",
    "            +\n",
    "            String.format(\"<polygon points='%d,%d %d,%d %d,%d' fill='%s' opacity='%f' />\",\n",
    "                          x0,y0, x0+width,y0, x0,y0+height, fill, opacity );\n",
    "    }\n",
    "}"
   ]
  },
  {
   "cell_type": "code",
   "execution_count": 4,
   "metadata": {},
   "outputs": [],
   "source": [
    "class Rectangle extends Shape {\n",
    "    Rectangle(int width, int height, String fill, double opacity) {\n",
    "        super(width, height, fill, opacity);\n",
    "    }\n",
    "    \n",
    "    @Override\n",
    "    double area() { return Math.abs(width * height); } // 직사각형 넓이공식에 맞게\n",
    "    \n",
    "    @Override\n",
    "    String toSVGshape(Pair<Integer,Integer> point) {\n",
    "        int x0 = point.getLeft();\n",
    "        int y0 = point.getRight();\n",
    "        return\n",
    "            String.format(\"<circle cx='%d' cy='%d' r='3' fill='%s' opacity='%f' />\",\n",
    "                          x0,y0, fill, opacity)\n",
    "            +\n",
    "            String.format(\"<rect width='%d' height='%d' fill='%s' opacity='%f' />\",\n",
    "                          Math.abs(width), Math.abs(height), fill, opacity );\n",
    "    }\n",
    "}"
   ]
  },
  {
   "cell_type": "code",
   "execution_count": 5,
   "metadata": {},
   "outputs": [
    {
     "data": {
      "text/html": [
       "<svg width='20' height='40'><circle cx='0' cy='0' r='3' fill='red' opacity='0.300000' /><polygon points='0,0 20,0 0,40' fill='red' opacity='0.300000' /></svg>"
      ],
      "text/plain": [
       "<svg width='20' height='40'><circle cx='0' cy='0' r='3' fill='red' opacity='0.300000' /><polygon points='0,0 20,0 0,40' fill='red' opacity='0.300000' /></svg>"
      ]
     },
     "metadata": {},
     "output_type": "display_data"
    }
   ],
   "source": [
    "new RightTri(20,40,\"red\",0.3).display()"
   ]
  },
  {
   "cell_type": "code",
   "execution_count": 6,
   "metadata": {},
   "outputs": [
    {
     "data": {
      "text/html": [
       "<svg width='20' height='40'><circle cx='20' cy='0' r='3' fill='green' opacity='0.300000' /><polygon points='20,0 0,0 20,40' fill='green' opacity='0.300000' /></svg>"
      ],
      "text/plain": [
       "<svg width='20' height='40'><circle cx='20' cy='0' r='3' fill='green' opacity='0.300000' /><polygon points='20,0 0,0 20,40' fill='green' opacity='0.300000' /></svg>"
      ]
     },
     "metadata": {},
     "output_type": "display_data"
    }
   ],
   "source": [
    "new RightTri(-20,40,\"green\",0.3).display()"
   ]
  },
  {
   "cell_type": "code",
   "execution_count": 7,
   "metadata": {},
   "outputs": [
    {
     "data": {
      "text/html": [
       "<svg width='20' height='40'><circle cx='0' cy='40' r='3' fill='purple' opacity='0.300000' /><polygon points='0,40 20,40 0,0' fill='purple' opacity='0.300000' /></svg>"
      ],
      "text/plain": [
       "<svg width='20' height='40'><circle cx='0' cy='40' r='3' fill='purple' opacity='0.300000' /><polygon points='0,40 20,40 0,0' fill='purple' opacity='0.300000' /></svg>"
      ]
     },
     "metadata": {},
     "output_type": "display_data"
    }
   ],
   "source": [
    "new RightTri(20,-40,\"purple\",0.3).display()"
   ]
  },
  {
   "cell_type": "code",
   "execution_count": 8,
   "metadata": {},
   "outputs": [
    {
     "data": {
      "text/html": [
       "<svg width='20' height='40'><circle cx='20' cy='40' r='3' fill='brown' opacity='0.300000' /><polygon points='20,40 0,40 20,0' fill='brown' opacity='0.300000' /></svg>"
      ],
      "text/plain": [
       "<svg width='20' height='40'><circle cx='20' cy='40' r='3' fill='brown' opacity='0.300000' /><polygon points='20,40 0,40 20,0' fill='brown' opacity='0.300000' /></svg>"
      ]
     },
     "metadata": {},
     "output_type": "display_data"
    }
   ],
   "source": [
    "new RightTri(-20,-40,\"brown\",0.3).display()"
   ]
  },
  {
   "cell_type": "code",
   "execution_count": 9,
   "metadata": {},
   "outputs": [
    {
     "data": {
      "text/html": [
       "<svg width='20' height='40'><circle cx='0' cy='0' r='3' fill='red' opacity='0.300000' /><rect width='20' height='40' fill='red' opacity='0.300000' /></svg>"
      ],
      "text/plain": [
       "<svg width='20' height='40'><circle cx='0' cy='0' r='3' fill='red' opacity='0.300000' /><rect width='20' height='40' fill='red' opacity='0.300000' /></svg>"
      ]
     },
     "metadata": {},
     "output_type": "display_data"
    }
   ],
   "source": [
    "new Rectangle(20,40,\"red\",0.3).display()"
   ]
  },
  {
   "cell_type": "code",
   "execution_count": 10,
   "metadata": {},
   "outputs": [
    {
     "data": {
      "text/html": [
       "<svg width='20' height='40'><circle cx='20' cy='0' r='3' fill='green' opacity='0.300000' /><rect width='20' height='40' fill='green' opacity='0.300000' /></svg>"
      ],
      "text/plain": [
       "<svg width='20' height='40'><circle cx='20' cy='0' r='3' fill='green' opacity='0.300000' /><rect width='20' height='40' fill='green' opacity='0.300000' /></svg>"
      ]
     },
     "metadata": {},
     "output_type": "display_data"
    }
   ],
   "source": [
    "new Rectangle(-20,40,\"green\",0.3).display()"
   ]
  },
  {
   "cell_type": "code",
   "execution_count": 11,
   "metadata": {},
   "outputs": [
    {
     "data": {
      "text/html": [
       "<svg width='20' height='40'><circle cx='0' cy='40' r='3' fill='purple' opacity='0.300000' /><rect width='20' height='40' fill='purple' opacity='0.300000' /></svg>"
      ],
      "text/plain": [
       "<svg width='20' height='40'><circle cx='0' cy='40' r='3' fill='purple' opacity='0.300000' /><rect width='20' height='40' fill='purple' opacity='0.300000' /></svg>"
      ]
     },
     "metadata": {},
     "output_type": "display_data"
    }
   ],
   "source": [
    "new Rectangle(20,-40,\"purple\",0.3).display()"
   ]
  },
  {
   "cell_type": "code",
   "execution_count": 12,
   "metadata": {},
   "outputs": [
    {
     "data": {
      "text/html": [
       "<svg width='20' height='40'><circle cx='20' cy='40' r='3' fill='brown' opacity='0.300000' /><rect width='20' height='40' fill='brown' opacity='0.300000' /></svg>"
      ],
      "text/plain": [
       "<svg width='20' height='40'><circle cx='20' cy='40' r='3' fill='brown' opacity='0.300000' /><rect width='20' height='40' fill='brown' opacity='0.300000' /></svg>"
      ]
     },
     "metadata": {},
     "output_type": "display_data"
    }
   ],
   "source": [
    "new Rectangle(-20,-40,\"brown\",0.3).display()"
   ]
  },
  {
   "cell_type": "markdown",
   "metadata": {},
   "source": [
    "지금까지 다룬 도형(`Shape`)은 직각삼각형이나 직사각형과 같은 하나의 모양이 단독으로 있는 것만을 생각하며 그것이 어떤 위치에 배치되는지는 생각하지 않는다.\n",
    "\n",
    "그럼 이런 도형을 이차원에 배치하려면\n",
    " * 어떤 모양을\n",
    " * 어느 위치의 이차원 좌표에\n",
    " \n",
    "배치할지에 대한 정보를 포함한 오브젝트를 만들어 관리해야 할 것이다.\n",
    "\n",
    "이러한 종류(class)의 오브젝트를 `Obj2D`라는 클래스로 설계해 보자."
   ]
  },
  {
   "cell_type": "code",
   "execution_count": 13,
   "metadata": {},
   "outputs": [],
   "source": [
    "class Obj2D {\n",
    "    Pair<Integer, Integer> point;\n",
    "    Shape shape;\n",
    "    \n",
    "    Obj2D(Pair<Integer, Integer> point, Shape shape) {\n",
    "        this.point = point;\n",
    "        this.shape = shape;\n",
    "    }\n",
    "    \n",
    "    @Override\n",
    "    public String toString() {\n",
    "        return\n",
    "            super.toString()\n",
    "            +\n",
    "            String.format(\"( point=%s, shape=%s )\",\n",
    "                          point.toString(), shape.toString() );\n",
    "    }\n",
    "    \n",
    "    String toSVGshape() { return shape.toSVGshape(point); }\n",
    "\n",
    "    void display() { // 이미지 형태로 보여주기 위한 메소드\n",
    "        String svgStr = String.format(\n",
    "            \"<svg width='%d' height='%d'>%s</svg>\",\n",
    "            point.getLeft()+Math.abs(shape.width),\n",
    "            point.getRight()+Math.abs(shape.height),\n",
    "            this.toSVGshape() );\n",
    "        Display.display(svgStr,\"text/html\");\n",
    "    }\n",
    "}"
   ]
  },
  {
   "cell_type": "code",
   "execution_count": 14,
   "metadata": {},
   "outputs": [
    {
     "data": {
      "text/plain": [
       "(150,100)"
      ]
     },
     "execution_count": 14,
     "metadata": {},
     "output_type": "execute_result"
    }
   ],
   "source": [
    "Pair.of(150,100);"
   ]
  },
  {
   "cell_type": "code",
   "execution_count": 15,
   "metadata": {},
   "outputs": [
    {
     "data": {
      "text/plain": [
       "class org.apache.commons.lang3.tuple.ImmutablePair"
      ]
     },
     "execution_count": 15,
     "metadata": {},
     "output_type": "execute_result"
    }
   ],
   "source": [
    "Pair.of(150,100).getClass()"
   ]
  },
  {
   "cell_type": "code",
   "execution_count": 16,
   "metadata": {},
   "outputs": [],
   "source": [
    "Obj2D otri1 = new Obj2D( Pair.of(150,100), new RightTri(30,40,\"red\",0.3) );\n",
    "Obj2D otri2 = new Obj2D( Pair.of(150,100), new RightTri(-30,-40,\"red\",0.3) );"
   ]
  },
  {
   "cell_type": "code",
   "execution_count": 17,
   "metadata": {},
   "outputs": [
    {
     "data": {
      "text/plain": [
       "REPL.$JShell$25$Obj2D@2b5248c5( point=(150,100), shape=REPL.$JShell$15$RightTri@7ae9d676(width=30, height=40, fill=red, opacity=0.300000) )"
      ]
     },
     "execution_count": 17,
     "metadata": {},
     "output_type": "execute_result"
    }
   ],
   "source": [
    "otri1"
   ]
  },
  {
   "cell_type": "code",
   "execution_count": 18,
   "metadata": {},
   "outputs": [
    {
     "data": {
      "text/plain": [
       "REPL.$JShell$25$Obj2D@2302a58e( point=(150,100), shape=REPL.$JShell$15$RightTri@3723dfaa(width=-30, height=-40, fill=red, opacity=0.300000) )"
      ]
     },
     "execution_count": 18,
     "metadata": {},
     "output_type": "execute_result"
    }
   ],
   "source": [
    "otri2"
   ]
  },
  {
   "cell_type": "code",
   "execution_count": 19,
   "metadata": {},
   "outputs": [
    {
     "data": {
      "text/plain": [
       "REPL.$JShell$25$Obj2D@66717dd6( point=(150,100), shape=REPL.$JShell$16$Rectangle@779b9e26(width=30, height=40, fill=blue, opacity=0.300000) )"
      ]
     },
     "execution_count": 19,
     "metadata": {},
     "output_type": "execute_result"
    }
   ],
   "source": [
    "Obj2D orect1 = new Obj2D( Pair.of(150,100), new Rectangle(30,40,\"blue\",0.3) );\n",
    "\n",
    "orect1"
   ]
  },
  {
   "cell_type": "code",
   "execution_count": 20,
   "metadata": {},
   "outputs": [
    {
     "data": {
      "text/plain": [
       "<circle cx='150' cy='100' r='3' fill='blue' opacity='0.300000' /><rect width='30' height='40' fill='blue' opacity='0.300000' />"
      ]
     },
     "execution_count": 20,
     "metadata": {},
     "output_type": "execute_result"
    }
   ],
   "source": [
    "orect1.toSVGshape()"
   ]
  },
  {
   "cell_type": "code",
   "execution_count": 21,
   "metadata": {},
   "outputs": [
    {
     "data": {
      "text/plain": [
       "<circle cx='150' cy='100' r='3' fill='red' opacity='0.300000' /><polygon points='150,100 180,100 150,140' fill='red' opacity='0.300000' />"
      ]
     },
     "execution_count": 21,
     "metadata": {},
     "output_type": "execute_result"
    }
   ],
   "source": [
    "otri1.toSVGshape()"
   ]
  },
  {
   "cell_type": "code",
   "execution_count": 22,
   "metadata": {},
   "outputs": [
    {
     "data": {
      "text/html": [
       "<svg width='180' height='140'><circle cx='150' cy='100' r='3' fill='red' opacity='0.300000' /><polygon points='150,100 180,100 150,140' fill='red' opacity='0.300000' /></svg>"
      ],
      "text/plain": [
       "<svg width='180' height='140'><circle cx='150' cy='100' r='3' fill='red' opacity='0.300000' /><polygon points='150,100 180,100 150,140' fill='red' opacity='0.300000' /></svg>"
      ]
     },
     "metadata": {},
     "output_type": "display_data"
    }
   ],
   "source": [
    "otri1.display()"
   ]
  },
  {
   "cell_type": "code",
   "execution_count": 23,
   "metadata": {},
   "outputs": [
    {
     "data": {
      "text/plain": [
       "<circle cx='150' cy='100' r='3' fill='red' opacity='0.300000' /><polygon points='150,100 120,100 150,60' fill='red' opacity='0.300000' />"
      ]
     },
     "execution_count": 23,
     "metadata": {},
     "output_type": "execute_result"
    }
   ],
   "source": [
    "otri2.toSVGshape()"
   ]
  },
  {
   "cell_type": "code",
   "execution_count": 24,
   "metadata": {},
   "outputs": [
    {
     "data": {
      "text/html": [
       "<svg width='180' height='140'><circle cx='150' cy='100' r='3' fill='red' opacity='0.300000' /><polygon points='150,100 120,100 150,60' fill='red' opacity='0.300000' /></svg>"
      ],
      "text/plain": [
       "<svg width='180' height='140'><circle cx='150' cy='100' r='3' fill='red' opacity='0.300000' /><polygon points='150,100 120,100 150,60' fill='red' opacity='0.300000' /></svg>"
      ]
     },
     "metadata": {},
     "output_type": "display_data"
    }
   ],
   "source": [
    "otri2.display()"
   ]
  },
  {
   "cell_type": "code",
   "execution_count": 25,
   "metadata": {},
   "outputs": [],
   "source": [
    "Obj2D otri3 = new Obj2D( Pair.of(20,30), new RightTri(-30,-40,\"red\",0.3) );"
   ]
  },
  {
   "cell_type": "code",
   "execution_count": 26,
   "metadata": {},
   "outputs": [
    {
     "data": {
      "text/plain": [
       "<circle cx='20' cy='30' r='3' fill='red' opacity='0.300000' /><polygon points='20,30 -10,30 20,-10' fill='red' opacity='0.300000' />"
      ]
     },
     "execution_count": 26,
     "metadata": {},
     "output_type": "execute_result"
    }
   ],
   "source": [
    "otri3.toSVGshape()"
   ]
  },
  {
   "cell_type": "code",
   "execution_count": 27,
   "metadata": {},
   "outputs": [
    {
     "data": {
      "text/html": [
       "<svg width='50' height='70'><circle cx='20' cy='30' r='3' fill='red' opacity='0.300000' /><polygon points='20,30 -10,30 20,-10' fill='red' opacity='0.300000' /></svg>"
      ],
      "text/plain": [
       "<svg width='50' height='70'><circle cx='20' cy='30' r='3' fill='red' opacity='0.300000' /><polygon points='20,30 -10,30 20,-10' fill='red' opacity='0.300000' /></svg>"
      ]
     },
     "metadata": {},
     "output_type": "display_data"
    }
   ],
   "source": [
    "otri3.display()"
   ]
  },
  {
   "cell_type": "markdown",
   "metadata": {},
   "source": [
    "하나의 `Shape` 오브젝트로부터 여러 개의 `Obj2D` 오브젝트를 만들 수 있다."
   ]
  },
  {
   "cell_type": "code",
   "execution_count": 28,
   "metadata": {},
   "outputs": [],
   "source": [
    "Shape s = new RightTri(30,40,\"blue\",0.3);\n",
    "\n",
    "Obj2D o1 = new Obj2D( Pair.of(10,10), s );\n",
    "Obj2D o2 = new Obj2D( Pair.of(60,20), s );\n",
    "Obj2D o3 = new Obj2D( Pair.of(20,60), s );"
   ]
  },
  {
   "cell_type": "code",
   "execution_count": 29,
   "metadata": {},
   "outputs": [
    {
     "data": {
      "text/html": [
       "<svg width='40' height='50'><circle cx='10' cy='10' r='3' fill='blue' opacity='0.300000' /><polygon points='10,10 40,10 10,50' fill='blue' opacity='0.300000' /></svg>"
      ],
      "text/plain": [
       "<svg width='40' height='50'><circle cx='10' cy='10' r='3' fill='blue' opacity='0.300000' /><polygon points='10,10 40,10 10,50' fill='blue' opacity='0.300000' /></svg>"
      ]
     },
     "metadata": {},
     "output_type": "display_data"
    }
   ],
   "source": [
    "o1.display()"
   ]
  },
  {
   "cell_type": "code",
   "execution_count": 30,
   "metadata": {},
   "outputs": [
    {
     "data": {
      "text/html": [
       "<svg width='90' height='60'><circle cx='60' cy='20' r='3' fill='blue' opacity='0.300000' /><polygon points='60,20 90,20 60,60' fill='blue' opacity='0.300000' /></svg>"
      ],
      "text/plain": [
       "<svg width='90' height='60'><circle cx='60' cy='20' r='3' fill='blue' opacity='0.300000' /><polygon points='60,20 90,20 60,60' fill='blue' opacity='0.300000' /></svg>"
      ]
     },
     "metadata": {},
     "output_type": "display_data"
    }
   ],
   "source": [
    "o2.display()"
   ]
  },
  {
   "cell_type": "code",
   "execution_count": 31,
   "metadata": {},
   "outputs": [
    {
     "data": {
      "text/html": [
       "<svg width='50' height='100'><circle cx='20' cy='60' r='3' fill='blue' opacity='0.300000' /><polygon points='20,60 50,60 20,100' fill='blue' opacity='0.300000' /></svg>"
      ],
      "text/plain": [
       "<svg width='50' height='100'><circle cx='20' cy='60' r='3' fill='blue' opacity='0.300000' /><polygon points='20,60 50,60 20,100' fill='blue' opacity='0.300000' /></svg>"
      ]
     },
     "metadata": {},
     "output_type": "display_data"
    }
   ],
   "source": [
    "o3.display()"
   ]
  },
  {
   "cell_type": "markdown",
   "metadata": {},
   "source": [
    "## 2D Transformations\n",
    "(2차원 변환)\n",
    "\n",
    "다음과 같은 2차원 변환을 `Obj2D`의 메소드로 설계하여 구현해 보자.\n",
    "\n",
    " * `translate(int dx, int dy)` : x축으로 `dx`만큼 y축으로 `dy`만큼 이동 변환.\n",
    " * `scale(int rx, int ry)` : x축 방향으로 `rx`의 비율로 y축 방향으로 `ry`의 비율로 크기 (확대) 변환. (단, `rx`나 `ry`가 음수인 경우는 해당 축의 반대 방향으로 대칭변환을 포함하게 됨)\n",
    " * `rotate(k)` : 원점(좌표 (0,0))을 기준으로 반시계방향으로 `90*k`도 회전 변환  "
   ]
  },
  {
   "cell_type": "code",
   "execution_count": 32,
   "metadata": {},
   "outputs": [],
   "source": [
    "class Obj2D {\n",
    "    Pair<Integer, Integer> point;\n",
    "    Shape shape;\n",
    "    \n",
    "    Obj2D(Pair<Integer, Integer> point, Shape shape) {\n",
    "        this.point = point;\n",
    "        this.shape = shape;\n",
    "    }\n",
    "    \n",
    "    @Override\n",
    "    public String toString() {\n",
    "        return\n",
    "            super.toString()\n",
    "            +\n",
    "            String.format(\"( point=%s, shape=%s )\",\n",
    "                          point.toString(), shape.toString() );\n",
    "    }\n",
    "    \n",
    "    String toSVGshape() { return shape.toSVGshape(point); }\n",
    "    \n",
    "    /* // (1)\n",
    "    void translate(int dx, int dy) {\n",
    "        point = Pair.of(point.getLeft()+dx, point.getRight()+dy);\n",
    "    }\n",
    "    */\n",
    "\n",
    "    /* // (2)\n",
    "    Obj2D translate(int dx, int dy) {\n",
    "        point = Pair.of(point.getLeft()+dx, point.getRight()+dy);\n",
    "        return this;\n",
    "    }\n",
    "    */\n",
    "\n",
    "    /*\n",
    "    // (3)\n",
    "    Obj2D translate(int dx, int dy) {\n",
    "        return new Obj2D( Pair.of(point.getLeft()+dx, point.getRight()+dy), shape );\n",
    "    }\n",
    "    */\n",
    "}"
   ]
  },
  {
   "cell_type": "code",
   "execution_count": null,
   "metadata": {},
   "outputs": [],
   "source": []
  }
 ],
 "metadata": {
  "kernelspec": {
   "display_name": "Java",
   "language": "java",
   "name": "java"
  },
  "language_info": {
   "name": "java"
  }
 },
 "nbformat": 4,
 "nbformat_minor": 4
}
