{
 "cells": [
  {
   "cell_type": "markdown",
   "metadata": {},
   "source": [
    "# 05. Interface exercise\n",
    "\n",
    "예전에 다뤘던 `Obj2D` 클래스의 이름을 `Shape`으로 구성된 2차원 객체라는 의미에서\n",
    "`ShapeObj2D`로 클래스의 이름을 바꾸어 정의하자.\n",
    "\n",
    "그리고 이번 강의 노트에서는 여러 개의 `ShapeObj2D`를 포함하는 `GroupObj2D`이라는 클래스를 정의하려고 한다.\n",
    "`GroupObj2D`는 `ShapeObj2D` 배열을 인스턴스 변수로 갖도록 설계하자.\n",
    "\n",
    "`ShapeObj2D`와 `GroupObj2D`는 상속 관계(is-a 관계)가 아닌 포함 관계(has-a 관계)이므로\n",
    "상위(부모)클래스/하위(자녀)클래스 관계로는 나타낼 수 없지만, 공통적으로\n",
    "SVG 형식으로 화면에 내용을 나타낼 수 있는 동작을 하도록 설계하고자 한다.\n",
    "이럴 때 활용할 수 있는 것이 바로 지난 시간에 배웠던 인터페이스다.\n",
    "`ShapeObj2D`와 `GroupObj2D` 모두`ToSVG`라는 인터페이스를 구현하도록 하면 될 것이다.\n",
    "\n",
    "또한 `Displayable`이라는 `display` 메소드를 구현하도록 요구하는 인터페이스를 정의하였다.\n",
    "`ShapeObj2D`와 `GruopObj2D` 뿐만 아니라 `Shape` 클래스도 `Displayable`을 구현한다."
   ]
  },
  {
   "cell_type": "code",
   "execution_count": 75,
   "metadata": {},
   "outputs": [],
   "source": [
    "interface Displayable {\n",
    "    public void display();\n",
    "}\n",
    "\n",
    "interface ToSVG {\n",
    "    public String toSVG();\n",
    "    \n",
    "    // points of the bounding rectangle\n",
    "    public Integer minX();\n",
    "    public Integer minY();\n",
    "    public Integer maxX();\n",
    "    public Integer maxY();\n",
    "    // default methods using above four abstract methods\n",
    "    default public Pair<Integer,Integer> minPoint() {\n",
    "        return Pair.of( this.minX(), this.minY() );\n",
    "    }\n",
    "    default public Pair<Integer,Integer> maxPoint() {\n",
    "        return Pair.of( this.maxX(), this.maxY() );\n",
    "    }\n",
    "}"
   ]
  },
  {
   "cell_type": "code",
   "execution_count": 76,
   "metadata": {},
   "outputs": [],
   "source": [
    "import io.github.spencerpark.ijava.runtime.*;\n",
    "import org.apache.commons.lang3.tuple.*;\n",
    "\n",
    "abstract class Shape implements Displayable {\n",
    "    // 인스턴스 변수\n",
    "    int width;  // 양과 음의 정수값 모두 가능\n",
    "    int height; // 양과 음의 정수값 모두 가능\n",
    "    String fill; // 도형의 안쪽을 채우는 색깔\n",
    "    double opacity; // 도형을 그렸을 때 투명도\n",
    "    \n",
    "    Shape(int width, int height, String fill, double opacity) {\n",
    "        this.width = width;\n",
    "        this.height = height;\n",
    "        this.fill = fill;\n",
    "        this.opacity = opacity;\n",
    "    }\n",
    "\n",
    "    // 추상 메소드 \n",
    "    abstract double area(); // 넓이 계산\n",
    "    abstract String toSVGshape(Pair<Integer,Integer> point); // SVG 기본 도형 태그 생성\n",
    "    \n",
    "    @Override\n",
    "    public String toString() {\n",
    "        return super.toString()\n",
    "            + String.format(\"(width=%d, height=%d, fill=%s, opacity=%f)\",\n",
    "                            width, height, fill, opacity );\n",
    "    }\n",
    "    \n",
    "    @Override\n",
    "    public void display() { // 이미지 형태로 보여주기 위한 메소드\n",
    "        Pair<Integer,Integer> point = Pair.of( (width<0)? Math.abs(width) :0,\n",
    "                                              (height<0)? Math.abs(height):0 );\n",
    "        String svgStr = String.format(\n",
    "            \"<svg width='%d' height='%d'>%s</svg>\",\n",
    "            Math.abs(width), Math.abs(height), this.toSVGshape(point) );\n",
    "        Display.display(svgStr,\"text/html\");\n",
    "    }\n",
    "}"
   ]
  },
  {
   "cell_type": "code",
   "execution_count": 77,
   "metadata": {},
   "outputs": [],
   "source": [
    "class RightTri extends Shape {\n",
    "    RightTri(int width, int height, String fill, double opacity) {\n",
    "        super(width, height, fill, opacity);\n",
    "    }\n",
    "    \n",
    "    @Override\n",
    "    double area() { return Math.abs(width * height) / 2; } // 삼각형 넓이공식에 맞게\n",
    "    \n",
    "    @Override\n",
    "    String toSVGshape(Pair<Integer,Integer> point) {\n",
    "        int x0 = point.getLeft();\n",
    "        int y0 = point.getRight();\n",
    "        return\n",
    "            String.format(\"<circle cx='%d' cy='%d' r='3' fill='%s' opacity='%f' />\",\n",
    "                          x0,y0, fill, opacity)\n",
    "            +\n",
    "            String.format(\"<polygon points='%d,%d %d,%d %d,%d' fill='%s' opacity='%f' />\",\n",
    "                          x0,y0, x0+width,y0, x0,y0+height, fill, opacity );\n",
    "    }\n",
    "}"
   ]
  },
  {
   "cell_type": "code",
   "execution_count": 78,
   "metadata": {},
   "outputs": [],
   "source": [
    "class Rectangle extends Shape {\n",
    "    Rectangle(int width, int height, String fill, double opacity) {\n",
    "        super(width, height, fill, opacity);\n",
    "    }\n",
    "    \n",
    "    @Override\n",
    "    double area() { return Math.abs(width * height); } // 직사각형 넓이공식에 맞게\n",
    "    \n",
    "    @Override\n",
    "    String toSVGshape(Pair<Integer,Integer> point) {\n",
    "        int x0 = point.getLeft();\n",
    "        int y0 = point.getRight();\n",
    "        return\n",
    "            String.format(\"<circle cx='%d' cy='%d' r='3' fill='%s' opacity='%f' />\",\n",
    "                          x0,y0, fill, opacity)\n",
    "            +\n",
    "            String.format(\"<rect width='%d' height='%d' fill='%s' opacity='%f' />\",\n",
    "                          Math.abs(width), Math.abs(height), fill, opacity );\n",
    "    }\n",
    "}"
   ]
  },
  {
   "cell_type": "code",
   "execution_count": 79,
   "metadata": {},
   "outputs": [
    {
     "data": {
      "text/html": [
       "<svg width='20' height='40'><circle cx='0' cy='0' r='3' fill='red' opacity='0.300000' /><polygon points='0,0 20,0 0,40' fill='red' opacity='0.300000' /></svg>"
      ],
      "text/plain": [
       "<svg width='20' height='40'><circle cx='0' cy='0' r='3' fill='red' opacity='0.300000' /><polygon points='0,0 20,0 0,40' fill='red' opacity='0.300000' /></svg>"
      ]
     },
     "metadata": {},
     "output_type": "display_data"
    }
   ],
   "source": [
    "new RightTri(20,40,\"red\",0.3).display()"
   ]
  },
  {
   "cell_type": "code",
   "execution_count": 80,
   "metadata": {},
   "outputs": [
    {
     "data": {
      "text/html": [
       "<svg width='20' height='40'><circle cx='20' cy='0' r='3' fill='green' opacity='0.300000' /><polygon points='20,0 0,0 20,40' fill='green' opacity='0.300000' /></svg>"
      ],
      "text/plain": [
       "<svg width='20' height='40'><circle cx='20' cy='0' r='3' fill='green' opacity='0.300000' /><polygon points='20,0 0,0 20,40' fill='green' opacity='0.300000' /></svg>"
      ]
     },
     "metadata": {},
     "output_type": "display_data"
    }
   ],
   "source": [
    "new RightTri(-20,40,\"green\",0.3).display()"
   ]
  },
  {
   "cell_type": "code",
   "execution_count": 81,
   "metadata": {},
   "outputs": [
    {
     "data": {
      "text/html": [
       "<svg width='20' height='40'><circle cx='0' cy='40' r='3' fill='purple' opacity='0.300000' /><polygon points='0,40 20,40 0,0' fill='purple' opacity='0.300000' /></svg>"
      ],
      "text/plain": [
       "<svg width='20' height='40'><circle cx='0' cy='40' r='3' fill='purple' opacity='0.300000' /><polygon points='0,40 20,40 0,0' fill='purple' opacity='0.300000' /></svg>"
      ]
     },
     "metadata": {},
     "output_type": "display_data"
    }
   ],
   "source": [
    "new RightTri(20,-40,\"purple\",0.3).display()"
   ]
  },
  {
   "cell_type": "code",
   "execution_count": 82,
   "metadata": {},
   "outputs": [
    {
     "data": {
      "text/html": [
       "<svg width='20' height='40'><circle cx='20' cy='40' r='3' fill='brown' opacity='0.300000' /><polygon points='20,40 0,40 20,0' fill='brown' opacity='0.300000' /></svg>"
      ],
      "text/plain": [
       "<svg width='20' height='40'><circle cx='20' cy='40' r='3' fill='brown' opacity='0.300000' /><polygon points='20,40 0,40 20,0' fill='brown' opacity='0.300000' /></svg>"
      ]
     },
     "metadata": {},
     "output_type": "display_data"
    }
   ],
   "source": [
    "new RightTri(-20,-40,\"brown\",0.3).display()"
   ]
  },
  {
   "cell_type": "code",
   "execution_count": 83,
   "metadata": {},
   "outputs": [
    {
     "data": {
      "text/html": [
       "<svg width='20' height='40'><circle cx='0' cy='0' r='3' fill='red' opacity='0.300000' /><rect width='20' height='40' fill='red' opacity='0.300000' /></svg>"
      ],
      "text/plain": [
       "<svg width='20' height='40'><circle cx='0' cy='0' r='3' fill='red' opacity='0.300000' /><rect width='20' height='40' fill='red' opacity='0.300000' /></svg>"
      ]
     },
     "metadata": {},
     "output_type": "display_data"
    }
   ],
   "source": [
    "new Rectangle(20,40,\"red\",0.3).display()"
   ]
  },
  {
   "cell_type": "code",
   "execution_count": 84,
   "metadata": {},
   "outputs": [
    {
     "data": {
      "text/html": [
       "<svg width='20' height='40'><circle cx='20' cy='0' r='3' fill='green' opacity='0.300000' /><rect width='20' height='40' fill='green' opacity='0.300000' /></svg>"
      ],
      "text/plain": [
       "<svg width='20' height='40'><circle cx='20' cy='0' r='3' fill='green' opacity='0.300000' /><rect width='20' height='40' fill='green' opacity='0.300000' /></svg>"
      ]
     },
     "metadata": {},
     "output_type": "display_data"
    }
   ],
   "source": [
    "new Rectangle(-20,40,\"green\",0.3).display()"
   ]
  },
  {
   "cell_type": "code",
   "execution_count": 85,
   "metadata": {},
   "outputs": [
    {
     "data": {
      "text/html": [
       "<svg width='20' height='40'><circle cx='0' cy='40' r='3' fill='purple' opacity='0.300000' /><rect width='20' height='40' fill='purple' opacity='0.300000' /></svg>"
      ],
      "text/plain": [
       "<svg width='20' height='40'><circle cx='0' cy='40' r='3' fill='purple' opacity='0.300000' /><rect width='20' height='40' fill='purple' opacity='0.300000' /></svg>"
      ]
     },
     "metadata": {},
     "output_type": "display_data"
    }
   ],
   "source": [
    "new Rectangle(20,-40,\"purple\",0.3).display()"
   ]
  },
  {
   "cell_type": "code",
   "execution_count": 86,
   "metadata": {},
   "outputs": [
    {
     "data": {
      "text/html": [
       "<svg width='20' height='40'><circle cx='20' cy='40' r='3' fill='brown' opacity='0.300000' /><rect width='20' height='40' fill='brown' opacity='0.300000' /></svg>"
      ],
      "text/plain": [
       "<svg width='20' height='40'><circle cx='20' cy='40' r='3' fill='brown' opacity='0.300000' /><rect width='20' height='40' fill='brown' opacity='0.300000' /></svg>"
      ]
     },
     "metadata": {},
     "output_type": "display_data"
    }
   ],
   "source": [
    "new Rectangle(-20,-40,\"brown\",0.3).display()"
   ]
  },
  {
   "cell_type": "code",
   "execution_count": 137,
   "metadata": {},
   "outputs": [],
   "source": [
    "class ShapeObj2D implements Displayable, ToSVG {\n",
    "    Pair<Integer, Integer> point;\n",
    "    Shape shape;\n",
    "    \n",
    "    ShapeObj2D(Pair<Integer, Integer> point, Shape shape) {\n",
    "        this.point = point;\n",
    "        this.shape = shape;\n",
    "    }\n",
    "    \n",
    "    @Override\n",
    "    public String toString() {\n",
    "        return\n",
    "            super.toString()\n",
    "            +\n",
    "            String.format(\"( point=%s, shape=%s )\",\n",
    "                          point.toString(), shape.toString() );\n",
    "    }\n",
    "    \n",
    "    @Override\n",
    "    public void display() { // 이미지 형태로 보여주기 위한 메소드\n",
    "        String svgStr = String.format(\n",
    "            \"<svg width='%d' height='%d'>%s</svg>\",\n",
    "            maxX(), maxY(), this.toSVG() );\n",
    "        Display.display(svgStr,\"text/html\");\n",
    "    }\n",
    "\n",
    "    @Override\n",
    "    public String toSVG() { return shape.toSVGshape(point); }    \n",
    "    // points of the bounding rectangle\n",
    "    @Override\n",
    "    public Integer minX() { return Math.min(point.getLeft(), point.getLeft()+shape.width); }\n",
    "    @Override\n",
    "    public Integer minY() { return Math.min(point.getRight(), point.getRight()+shape.height); }\n",
    "    @Override\n",
    "    public Integer maxX() { return Math.max(point.getLeft(), point.getLeft()+shape.width); }\n",
    "    @Override\n",
    "    public Integer maxY() { return Math.max(point.getRight(), point.getRight()+shape.height); }\n",
    "}"
   ]
  },
  {
   "cell_type": "code",
   "execution_count": 138,
   "metadata": {},
   "outputs": [
    {
     "data": {
      "text/plain": [
       "(150,100)"
      ]
     },
     "execution_count": 138,
     "metadata": {},
     "output_type": "execute_result"
    }
   ],
   "source": [
    "Pair.of(150,100);"
   ]
  },
  {
   "cell_type": "code",
   "execution_count": 139,
   "metadata": {},
   "outputs": [
    {
     "data": {
      "text/plain": [
       "class org.apache.commons.lang3.tuple.ImmutablePair"
      ]
     },
     "execution_count": 139,
     "metadata": {},
     "output_type": "execute_result"
    }
   ],
   "source": [
    "Pair.of(150,100).getClass()"
   ]
  },
  {
   "cell_type": "code",
   "execution_count": 140,
   "metadata": {},
   "outputs": [],
   "source": [
    "ShapeObj2D otri1 = new ShapeObj2D( Pair.of(150,100), new RightTri(30,40,\"red\",0.3) );\n",
    "ShapeObj2D otri2 = new ShapeObj2D( Pair.of(150,100), new RightTri(-30,-40,\"red\",0.3) );"
   ]
  },
  {
   "cell_type": "code",
   "execution_count": 141,
   "metadata": {},
   "outputs": [
    {
     "data": {
      "text/plain": [
       "REPL.$JShell$28L$ShapeObj2D@35844c2e( point=(150,100), shape=REPL.$JShell$17B$RightTri@45852bb7(width=30, height=40, fill=red, opacity=0.300000) )"
      ]
     },
     "execution_count": 141,
     "metadata": {},
     "output_type": "execute_result"
    }
   ],
   "source": [
    "otri1"
   ]
  },
  {
   "cell_type": "code",
   "execution_count": 142,
   "metadata": {},
   "outputs": [
    {
     "data": {
      "text/plain": [
       "REPL.$JShell$28L$ShapeObj2D@70b68b79( point=(150,100), shape=REPL.$JShell$17B$RightTri@7916e80d(width=-30, height=-40, fill=red, opacity=0.300000) )"
      ]
     },
     "execution_count": 142,
     "metadata": {},
     "output_type": "execute_result"
    }
   ],
   "source": [
    "otri2"
   ]
  },
  {
   "cell_type": "code",
   "execution_count": 143,
   "metadata": {},
   "outputs": [
    {
     "data": {
      "text/plain": [
       "REPL.$JShell$28L$ShapeObj2D@7cdd174f( point=(150,100), shape=REPL.$JShell$18B$Rectangle@1719c788(width=30, height=40, fill=blue, opacity=0.300000) )"
      ]
     },
     "execution_count": 143,
     "metadata": {},
     "output_type": "execute_result"
    }
   ],
   "source": [
    "ShapeObj2D orect1 = new ShapeObj2D( Pair.of(150,100), new Rectangle(30,40,\"blue\",0.3) );\n",
    "\n",
    "orect1"
   ]
  },
  {
   "cell_type": "code",
   "execution_count": 144,
   "metadata": {},
   "outputs": [
    {
     "data": {
      "text/plain": [
       "<circle cx='150' cy='100' r='3' fill='blue' opacity='0.300000' /><rect width='30' height='40' fill='blue' opacity='0.300000' />"
      ]
     },
     "execution_count": 144,
     "metadata": {},
     "output_type": "execute_result"
    }
   ],
   "source": [
    "orect1.toSVG()"
   ]
  },
  {
   "cell_type": "code",
   "execution_count": 145,
   "metadata": {},
   "outputs": [
    {
     "data": {
      "text/plain": [
       "<circle cx='150' cy='100' r='3' fill='red' opacity='0.300000' /><polygon points='150,100 180,100 150,140' fill='red' opacity='0.300000' />"
      ]
     },
     "execution_count": 145,
     "metadata": {},
     "output_type": "execute_result"
    }
   ],
   "source": [
    "otri1.toSVG()"
   ]
  },
  {
   "cell_type": "code",
   "execution_count": 146,
   "metadata": {},
   "outputs": [
    {
     "data": {
      "text/html": [
       "<svg width='180' height='140'><circle cx='150' cy='100' r='3' fill='red' opacity='0.300000' /><polygon points='150,100 180,100 150,140' fill='red' opacity='0.300000' /></svg>"
      ],
      "text/plain": [
       "<svg width='180' height='140'><circle cx='150' cy='100' r='3' fill='red' opacity='0.300000' /><polygon points='150,100 180,100 150,140' fill='red' opacity='0.300000' /></svg>"
      ]
     },
     "metadata": {},
     "output_type": "display_data"
    }
   ],
   "source": [
    "otri1.display()"
   ]
  },
  {
   "cell_type": "code",
   "execution_count": 147,
   "metadata": {},
   "outputs": [
    {
     "data": {
      "text/plain": [
       "<circle cx='150' cy='100' r='3' fill='red' opacity='0.300000' /><polygon points='150,100 120,100 150,60' fill='red' opacity='0.300000' />"
      ]
     },
     "execution_count": 147,
     "metadata": {},
     "output_type": "execute_result"
    }
   ],
   "source": [
    "otri2.toSVG()"
   ]
  },
  {
   "cell_type": "code",
   "execution_count": 148,
   "metadata": {},
   "outputs": [
    {
     "data": {
      "text/html": [
       "<svg width='150' height='100'><circle cx='150' cy='100' r='3' fill='red' opacity='0.300000' /><polygon points='150,100 120,100 150,60' fill='red' opacity='0.300000' /></svg>"
      ],
      "text/plain": [
       "<svg width='150' height='100'><circle cx='150' cy='100' r='3' fill='red' opacity='0.300000' /><polygon points='150,100 120,100 150,60' fill='red' opacity='0.300000' /></svg>"
      ]
     },
     "metadata": {},
     "output_type": "display_data"
    }
   ],
   "source": [
    "otri2.display()"
   ]
  },
  {
   "cell_type": "code",
   "execution_count": 149,
   "metadata": {},
   "outputs": [],
   "source": [
    "ShapeObj2D otri3 = new ShapeObj2D( Pair.of(20,30), new RightTri(-30,-40,\"red\",0.3) );"
   ]
  },
  {
   "cell_type": "code",
   "execution_count": 150,
   "metadata": {},
   "outputs": [
    {
     "data": {
      "text/plain": [
       "<circle cx='20' cy='30' r='3' fill='red' opacity='0.300000' /><polygon points='20,30 -10,30 20,-10' fill='red' opacity='0.300000' />"
      ]
     },
     "execution_count": 150,
     "metadata": {},
     "output_type": "execute_result"
    }
   ],
   "source": [
    "otri3.toSVG()"
   ]
  },
  {
   "cell_type": "code",
   "execution_count": 151,
   "metadata": {},
   "outputs": [
    {
     "data": {
      "text/html": [
       "<svg width='20' height='30'><circle cx='20' cy='30' r='3' fill='red' opacity='0.300000' /><polygon points='20,30 -10,30 20,-10' fill='red' opacity='0.300000' /></svg>"
      ],
      "text/plain": [
       "<svg width='20' height='30'><circle cx='20' cy='30' r='3' fill='red' opacity='0.300000' /><polygon points='20,30 -10,30 20,-10' fill='red' opacity='0.300000' /></svg>"
      ]
     },
     "metadata": {},
     "output_type": "display_data"
    }
   ],
   "source": [
    "otri3.display()"
   ]
  },
  {
   "cell_type": "markdown",
   "metadata": {},
   "source": [
    "하나의 `Shape` 오브젝트로부터 여러 개의 `ShapeObj2D` 오브젝트를 만들 수 있다."
   ]
  },
  {
   "cell_type": "code",
   "execution_count": 152,
   "metadata": {},
   "outputs": [],
   "source": [
    "Shape s = new RightTri(30,40,\"blue\",0.3);\n",
    "\n",
    "ShapeObj2D o1 = new ShapeObj2D( Pair.of(10,10), s );\n",
    "ShapeObj2D o2 = new ShapeObj2D( Pair.of(60,20), s );\n",
    "ShapeObj2D o3 = new ShapeObj2D( Pair.of(20,60), s );"
   ]
  },
  {
   "cell_type": "code",
   "execution_count": 153,
   "metadata": {},
   "outputs": [
    {
     "data": {
      "text/html": [
       "<svg width='40' height='50'><circle cx='10' cy='10' r='3' fill='blue' opacity='0.300000' /><polygon points='10,10 40,10 10,50' fill='blue' opacity='0.300000' /></svg>"
      ],
      "text/plain": [
       "<svg width='40' height='50'><circle cx='10' cy='10' r='3' fill='blue' opacity='0.300000' /><polygon points='10,10 40,10 10,50' fill='blue' opacity='0.300000' /></svg>"
      ]
     },
     "metadata": {},
     "output_type": "display_data"
    }
   ],
   "source": [
    "o1.display()"
   ]
  },
  {
   "cell_type": "code",
   "execution_count": 154,
   "metadata": {},
   "outputs": [
    {
     "data": {
      "text/html": [
       "<svg width='90' height='60'><circle cx='60' cy='20' r='3' fill='blue' opacity='0.300000' /><polygon points='60,20 90,20 60,60' fill='blue' opacity='0.300000' /></svg>"
      ],
      "text/plain": [
       "<svg width='90' height='60'><circle cx='60' cy='20' r='3' fill='blue' opacity='0.300000' /><polygon points='60,20 90,20 60,60' fill='blue' opacity='0.300000' /></svg>"
      ]
     },
     "metadata": {},
     "output_type": "display_data"
    }
   ],
   "source": [
    "o2.display()"
   ]
  },
  {
   "cell_type": "code",
   "execution_count": 155,
   "metadata": {},
   "outputs": [
    {
     "data": {
      "text/html": [
       "<svg width='50' height='100'><circle cx='20' cy='60' r='3' fill='blue' opacity='0.300000' /><polygon points='20,60 50,60 20,100' fill='blue' opacity='0.300000' /></svg>"
      ],
      "text/plain": [
       "<svg width='50' height='100'><circle cx='20' cy='60' r='3' fill='blue' opacity='0.300000' /><polygon points='20,60 50,60 20,100' fill='blue' opacity='0.300000' /></svg>"
      ]
     },
     "metadata": {},
     "output_type": "display_data"
    }
   ],
   "source": [
    "o3.display()"
   ]
  },
  {
   "cell_type": "markdown",
   "metadata": {},
   "source": [
    "---\n",
    "`Shape` 오브젝트와 `ShapeObj2D` 오브젝트도 `Displayable`이라는 공통된 인터페이스가 있으므로\n",
    "이들을 함께 모아 놓고 각각을 `display`하도록 일괄 처리가 가능하다."
   ]
  },
  {
   "cell_type": "code",
   "execution_count": 156,
   "metadata": {},
   "outputs": [
    {
     "data": {
      "text/plain": [
       "true"
      ]
     },
     "execution_count": 156,
     "metadata": {},
     "output_type": "execute_result"
    }
   ],
   "source": [
    "s instanceof Shape"
   ]
  },
  {
   "cell_type": "code",
   "execution_count": 157,
   "metadata": {},
   "outputs": [
    {
     "data": {
      "text/plain": [
       "true"
      ]
     },
     "execution_count": 157,
     "metadata": {},
     "output_type": "execute_result"
    }
   ],
   "source": [
    "s instanceof Displayable"
   ]
  },
  {
   "cell_type": "code",
   "execution_count": 158,
   "metadata": {},
   "outputs": [
    {
     "data": {
      "text/plain": [
       "true"
      ]
     },
     "execution_count": 158,
     "metadata": {},
     "output_type": "execute_result"
    }
   ],
   "source": [
    "o2 instanceof ShapeObj2D"
   ]
  },
  {
   "cell_type": "code",
   "execution_count": 159,
   "metadata": {},
   "outputs": [
    {
     "data": {
      "text/plain": [
       "true"
      ]
     },
     "execution_count": 159,
     "metadata": {},
     "output_type": "execute_result"
    }
   ],
   "source": [
    "o2 instanceof Displayable"
   ]
  },
  {
   "cell_type": "code",
   "execution_count": 160,
   "metadata": {},
   "outputs": [
    {
     "data": {
      "text/plain": [
       "true"
      ]
     },
     "execution_count": 160,
     "metadata": {},
     "output_type": "execute_result"
    }
   ],
   "source": [
    "otri1 instanceof ShapeObj2D"
   ]
  },
  {
   "cell_type": "code",
   "execution_count": 161,
   "metadata": {},
   "outputs": [
    {
     "data": {
      "text/plain": [
       "true"
      ]
     },
     "execution_count": 161,
     "metadata": {},
     "output_type": "execute_result"
    }
   ],
   "source": [
    "otri1 instanceof Displayable"
   ]
  },
  {
   "cell_type": "code",
   "execution_count": 162,
   "metadata": {},
   "outputs": [],
   "source": [
    "Displayable[] ds = { s, otri1, o2 };"
   ]
  },
  {
   "cell_type": "code",
   "execution_count": 163,
   "metadata": {},
   "outputs": [
    {
     "data": {
      "text/html": [
       "<svg width='30' height='40'><circle cx='0' cy='0' r='3' fill='blue' opacity='0.300000' /><polygon points='0,0 30,0 0,40' fill='blue' opacity='0.300000' /></svg>"
      ],
      "text/plain": [
       "<svg width='30' height='40'><circle cx='0' cy='0' r='3' fill='blue' opacity='0.300000' /><polygon points='0,0 30,0 0,40' fill='blue' opacity='0.300000' /></svg>"
      ]
     },
     "metadata": {},
     "output_type": "display_data"
    }
   ],
   "source": [
    "ds[0].display()"
   ]
  },
  {
   "cell_type": "code",
   "execution_count": 164,
   "metadata": {},
   "outputs": [
    {
     "data": {
      "text/html": [
       "<svg width='180' height='140'><circle cx='150' cy='100' r='3' fill='red' opacity='0.300000' /><polygon points='150,100 180,100 150,140' fill='red' opacity='0.300000' /></svg>"
      ],
      "text/plain": [
       "<svg width='180' height='140'><circle cx='150' cy='100' r='3' fill='red' opacity='0.300000' /><polygon points='150,100 180,100 150,140' fill='red' opacity='0.300000' /></svg>"
      ]
     },
     "metadata": {},
     "output_type": "display_data"
    }
   ],
   "source": [
    "ds[1].display()"
   ]
  },
  {
   "cell_type": "code",
   "execution_count": 165,
   "metadata": {},
   "outputs": [
    {
     "data": {
      "text/html": [
       "<svg width='90' height='60'><circle cx='60' cy='20' r='3' fill='blue' opacity='0.300000' /><polygon points='60,20 90,20 60,60' fill='blue' opacity='0.300000' /></svg>"
      ],
      "text/plain": [
       "<svg width='90' height='60'><circle cx='60' cy='20' r='3' fill='blue' opacity='0.300000' /><polygon points='60,20 90,20 60,60' fill='blue' opacity='0.300000' /></svg>"
      ]
     },
     "metadata": {},
     "output_type": "display_data"
    }
   ],
   "source": [
    "ds[2].display()"
   ]
  },
  {
   "cell_type": "code",
   "execution_count": 166,
   "metadata": {},
   "outputs": [
    {
     "data": {
      "text/html": [
       "<svg width='30' height='40'><circle cx='0' cy='0' r='3' fill='blue' opacity='0.300000' /><polygon points='0,0 30,0 0,40' fill='blue' opacity='0.300000' /></svg>"
      ],
      "text/plain": [
       "<svg width='30' height='40'><circle cx='0' cy='0' r='3' fill='blue' opacity='0.300000' /><polygon points='0,0 30,0 0,40' fill='blue' opacity='0.300000' /></svg>"
      ]
     },
     "metadata": {},
     "output_type": "display_data"
    },
    {
     "data": {
      "text/html": [
       "<svg width='180' height='140'><circle cx='150' cy='100' r='3' fill='red' opacity='0.300000' /><polygon points='150,100 180,100 150,140' fill='red' opacity='0.300000' /></svg>"
      ],
      "text/plain": [
       "<svg width='180' height='140'><circle cx='150' cy='100' r='3' fill='red' opacity='0.300000' /><polygon points='150,100 180,100 150,140' fill='red' opacity='0.300000' /></svg>"
      ]
     },
     "metadata": {},
     "output_type": "display_data"
    },
    {
     "data": {
      "text/html": [
       "<svg width='90' height='60'><circle cx='60' cy='20' r='3' fill='blue' opacity='0.300000' /><polygon points='60,20 90,20 60,60' fill='blue' opacity='0.300000' /></svg>"
      ],
      "text/plain": [
       "<svg width='90' height='60'><circle cx='60' cy='20' r='3' fill='blue' opacity='0.300000' /><polygon points='60,20 90,20 60,60' fill='blue' opacity='0.300000' /></svg>"
      ]
     },
     "metadata": {},
     "output_type": "display_data"
    }
   ],
   "source": [
    "for (int i = 0; i < ds.length; ++i)\n",
    "    ds[i].display()"
   ]
  },
  {
   "cell_type": "code",
   "execution_count": 167,
   "metadata": {},
   "outputs": [
    {
     "data": {
      "text/html": [
       "<svg width='30' height='40'><circle cx='0' cy='0' r='3' fill='blue' opacity='0.300000' /><polygon points='0,0 30,0 0,40' fill='blue' opacity='0.300000' /></svg>"
      ],
      "text/plain": [
       "<svg width='30' height='40'><circle cx='0' cy='0' r='3' fill='blue' opacity='0.300000' /><polygon points='0,0 30,0 0,40' fill='blue' opacity='0.300000' /></svg>"
      ]
     },
     "metadata": {},
     "output_type": "display_data"
    },
    {
     "data": {
      "text/html": [
       "<svg width='180' height='140'><circle cx='150' cy='100' r='3' fill='red' opacity='0.300000' /><polygon points='150,100 180,100 150,140' fill='red' opacity='0.300000' /></svg>"
      ],
      "text/plain": [
       "<svg width='180' height='140'><circle cx='150' cy='100' r='3' fill='red' opacity='0.300000' /><polygon points='150,100 180,100 150,140' fill='red' opacity='0.300000' /></svg>"
      ]
     },
     "metadata": {},
     "output_type": "display_data"
    },
    {
     "data": {
      "text/html": [
       "<svg width='90' height='60'><circle cx='60' cy='20' r='3' fill='blue' opacity='0.300000' /><polygon points='60,20 90,20 60,60' fill='blue' opacity='0.300000' /></svg>"
      ],
      "text/plain": [
       "<svg width='90' height='60'><circle cx='60' cy='20' r='3' fill='blue' opacity='0.300000' /><polygon points='60,20 90,20 60,60' fill='blue' opacity='0.300000' /></svg>"
      ]
     },
     "metadata": {},
     "output_type": "display_data"
    }
   ],
   "source": [
    "for (var d : ds)\n",
    "    d.display()"
   ]
  },
  {
   "cell_type": "markdown",
   "metadata": {},
   "source": [
    "---\n",
    "위에서는 배열 `ds` 여러 개의 Displayable에 대한 각각의 SVG이미지를 따로따로 반복해서 display했다.\n",
    "\n",
    "이제는 여러 개의 2차원 오브젝트(`Obj2D`)를 한데 그룹으로 묶어 같은 하나의 SVG 이미지안에 한꺼번에 나타내는\n",
    "`GroupObj2D` 클래스를 정의해 보라.\n",
    "\n",
    "(실습으로 진행하고 관련 내용으로 HW4 과제 진행 예정)"
   ]
  },
  {
   "cell_type": "code",
   "execution_count": 168,
   "metadata": {},
   "outputs": [
    {
     "ename": "CompilationException",
     "evalue": "",
     "output_type": "error",
     "traceback": [
      "\u001b[1m\u001b[30m|   \u001b[1m\u001b[30m\u001b[0m\u001b[1m\u001b[30m\u001b[41mclass GroupObj2D implements Displayable, ToSVG {\u001b[0m",
      "\u001b[1m\u001b[30m|   \u001b[1m\u001b[30m\u001b[41m    ShapeObj2D[] objects;\u001b[0m",
      "\u001b[1m\u001b[30m|   \u001b[1m\u001b[30m\u001b[41m    \u001b[0m",
      "\u001b[1m\u001b[30m|   \u001b[1m\u001b[30m\u001b[41m    GroupObj2D(ShapeObj2D[] objects) {\u001b[0m",
      "\u001b[1m\u001b[30m|   \u001b[1m\u001b[30m\u001b[41m        this.objects = objects;\u001b[0m",
      "\u001b[1m\u001b[30m|   \u001b[1m\u001b[30m\u001b[41m    }\u001b[0m",
      "\u001b[1m\u001b[30m|   \u001b[1m\u001b[30m\u001b[41m}\u001b[0m",
      "\u001b[1m\u001b[31mGroupObj2D is not abstract and does not override abstract method display() in Displayable\u001b[0m",
      ""
     ]
    }
   ],
   "source": [
    "class GroupObj2D implements Displayable, ToSVG {\n",
    "    ShapeObj2D[] objects;\n",
    "    \n",
    "    GroupObj2D(ShapeObj2D[] objects) {\n",
    "        this.objects = objects;\n",
    "    }\n",
    "}"
   ]
  },
  {
   "cell_type": "code",
   "execution_count": null,
   "metadata": {},
   "outputs": [],
   "source": []
  }
 ],
 "metadata": {
  "kernelspec": {
   "display_name": "Java",
   "language": "java",
   "name": "java"
  },
  "language_info": {
   "name": "java"
  }
 },
 "nbformat": 4,
 "nbformat_minor": 4
}
