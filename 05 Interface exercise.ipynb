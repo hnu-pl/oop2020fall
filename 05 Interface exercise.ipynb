{
 "cells": [
  {
   "cell_type": "markdown",
   "metadata": {},
   "source": [
    "# 05. Interface exercise\n",
    "\n",
    "예전에 다뤘던 `Obj2D` 클래스는 `Shape` 클래스의 인스턴스 변수를 포함한다.\n",
    "이렇게 상속 관계(is-a 관계)가 아닌 포함 관계(has-a 관계)지만 공통적으로 `display`라는 메소드로 화면에 그리는 동작을 한다.\n",
    "이럴 때 활용할 수 있는 것이 바로 지난 시간에 배웠던 인터페이스다."
   ]
  },
  {
   "cell_type": "code",
   "execution_count": 1,
   "metadata": {},
   "outputs": [],
   "source": [
    "interface Displayable {\n",
    "    public void display();\n",
    "}"
   ]
  },
  {
   "cell_type": "code",
   "execution_count": 2,
   "metadata": {},
   "outputs": [],
   "source": [
    "import io.github.spencerpark.ijava.runtime.*;\n",
    "import org.apache.commons.lang3.tuple.*;\n",
    "\n",
    "abstract class Shape implements Displayable {\n",
    "    // 인스턴스 변수\n",
    "    int width;  // 양과 음의 정수값 모두 가능\n",
    "    int height; // 양과 음의 정수값 모두 가능\n",
    "    String fill; // 도형의 안쪽을 채우는 색깔\n",
    "    double opacity; // 도형을 그렸을 때 투명도\n",
    "    \n",
    "    Shape(int width, int height, String fill, double opacity) {\n",
    "        this.width = width;\n",
    "        this.height = height;\n",
    "        this.fill = fill;\n",
    "        this.opacity = opacity;\n",
    "    }\n",
    "\n",
    "    // 추상 메소드 \n",
    "    abstract double area(); // 넓이 계산\n",
    "    abstract String toSVGshape(Pair<Integer,Integer> point); // SVG 기본 도형 태그 생성\n",
    "    \n",
    "    @Override\n",
    "    public String toString() {\n",
    "        return super.toString()\n",
    "            + String.format(\"(width=%d, height=%d, fill=%s, opacity=%f)\",\n",
    "                            width, height, fill, opacity );\n",
    "    }\n",
    "    \n",
    "    @Override\n",
    "    public void display() { // 이미지 형태로 보여주기 위한 메소드\n",
    "        Pair<Integer,Integer> point = Pair.of( (width<0)? Math.abs(width) :0,\n",
    "                                              (height<0)? Math.abs(height):0 );\n",
    "        String svgStr = String.format(\n",
    "            \"<svg width='%d' height='%d'>%s</svg>\",\n",
    "            Math.abs(width), Math.abs(height), this.toSVGshape(point) );\n",
    "        Display.display(svgStr,\"text/html\");\n",
    "    }\n",
    "}"
   ]
  },
  {
   "cell_type": "code",
   "execution_count": 3,
   "metadata": {},
   "outputs": [],
   "source": [
    "class RightTri extends Shape {\n",
    "    RightTri(int width, int height, String fill, double opacity) {\n",
    "        super(width, height, fill, opacity);\n",
    "    }\n",
    "    \n",
    "    @Override\n",
    "    double area() { return Math.abs(width * height) / 2; } // 삼각형 넓이공식에 맞게\n",
    "    \n",
    "    @Override\n",
    "    String toSVGshape(Pair<Integer,Integer> point) {\n",
    "        int x0 = point.getLeft();\n",
    "        int y0 = point.getRight();\n",
    "        return\n",
    "            String.format(\"<circle cx='%d' cy='%d' r='3' fill='%s' opacity='%f' />\",\n",
    "                          x0,y0, fill, opacity)\n",
    "            +\n",
    "            String.format(\"<polygon points='%d,%d %d,%d %d,%d' fill='%s' opacity='%f' />\",\n",
    "                          x0,y0, x0+width,y0, x0,y0+height, fill, opacity );\n",
    "    }\n",
    "}"
   ]
  },
  {
   "cell_type": "code",
   "execution_count": 4,
   "metadata": {},
   "outputs": [],
   "source": [
    "class Rectangle extends Shape {\n",
    "    Rectangle(int width, int height, String fill, double opacity) {\n",
    "        super(width, height, fill, opacity);\n",
    "    }\n",
    "    \n",
    "    @Override\n",
    "    double area() { return Math.abs(width * height); } // 직사각형 넓이공식에 맞게\n",
    "    \n",
    "    @Override\n",
    "    String toSVGshape(Pair<Integer,Integer> point) {\n",
    "        int x0 = point.getLeft();\n",
    "        int y0 = point.getRight();\n",
    "        return\n",
    "            String.format(\"<circle cx='%d' cy='%d' r='3' fill='%s' opacity='%f' />\",\n",
    "                          x0,y0, fill, opacity)\n",
    "            +\n",
    "            String.format(\"<rect width='%d' height='%d' fill='%s' opacity='%f' />\",\n",
    "                          Math.abs(width), Math.abs(height), fill, opacity );\n",
    "    }\n",
    "}"
   ]
  },
  {
   "cell_type": "code",
   "execution_count": 5,
   "metadata": {},
   "outputs": [
    {
     "data": {
      "text/html": [
       "<svg width='20' height='40'><circle cx='0' cy='0' r='3' fill='red' opacity='0.300000' /><polygon points='0,0 20,0 0,40' fill='red' opacity='0.300000' /></svg>"
      ],
      "text/plain": [
       "<svg width='20' height='40'><circle cx='0' cy='0' r='3' fill='red' opacity='0.300000' /><polygon points='0,0 20,0 0,40' fill='red' opacity='0.300000' /></svg>"
      ]
     },
     "metadata": {},
     "output_type": "display_data"
    }
   ],
   "source": [
    "new RightTri(20,40,\"red\",0.3).display()"
   ]
  },
  {
   "cell_type": "code",
   "execution_count": 6,
   "metadata": {},
   "outputs": [
    {
     "data": {
      "text/html": [
       "<svg width='20' height='40'><circle cx='20' cy='0' r='3' fill='green' opacity='0.300000' /><polygon points='20,0 0,0 20,40' fill='green' opacity='0.300000' /></svg>"
      ],
      "text/plain": [
       "<svg width='20' height='40'><circle cx='20' cy='0' r='3' fill='green' opacity='0.300000' /><polygon points='20,0 0,0 20,40' fill='green' opacity='0.300000' /></svg>"
      ]
     },
     "metadata": {},
     "output_type": "display_data"
    }
   ],
   "source": [
    "new RightTri(-20,40,\"green\",0.3).display()"
   ]
  },
  {
   "cell_type": "code",
   "execution_count": 7,
   "metadata": {},
   "outputs": [
    {
     "data": {
      "text/html": [
       "<svg width='20' height='40'><circle cx='0' cy='40' r='3' fill='purple' opacity='0.300000' /><polygon points='0,40 20,40 0,0' fill='purple' opacity='0.300000' /></svg>"
      ],
      "text/plain": [
       "<svg width='20' height='40'><circle cx='0' cy='40' r='3' fill='purple' opacity='0.300000' /><polygon points='0,40 20,40 0,0' fill='purple' opacity='0.300000' /></svg>"
      ]
     },
     "metadata": {},
     "output_type": "display_data"
    }
   ],
   "source": [
    "new RightTri(20,-40,\"purple\",0.3).display()"
   ]
  },
  {
   "cell_type": "code",
   "execution_count": 8,
   "metadata": {},
   "outputs": [
    {
     "data": {
      "text/html": [
       "<svg width='20' height='40'><circle cx='20' cy='40' r='3' fill='brown' opacity='0.300000' /><polygon points='20,40 0,40 20,0' fill='brown' opacity='0.300000' /></svg>"
      ],
      "text/plain": [
       "<svg width='20' height='40'><circle cx='20' cy='40' r='3' fill='brown' opacity='0.300000' /><polygon points='20,40 0,40 20,0' fill='brown' opacity='0.300000' /></svg>"
      ]
     },
     "metadata": {},
     "output_type": "display_data"
    }
   ],
   "source": [
    "new RightTri(-20,-40,\"brown\",0.3).display()"
   ]
  },
  {
   "cell_type": "code",
   "execution_count": 9,
   "metadata": {},
   "outputs": [
    {
     "data": {
      "text/html": [
       "<svg width='20' height='40'><circle cx='0' cy='0' r='3' fill='red' opacity='0.300000' /><rect width='20' height='40' fill='red' opacity='0.300000' /></svg>"
      ],
      "text/plain": [
       "<svg width='20' height='40'><circle cx='0' cy='0' r='3' fill='red' opacity='0.300000' /><rect width='20' height='40' fill='red' opacity='0.300000' /></svg>"
      ]
     },
     "metadata": {},
     "output_type": "display_data"
    }
   ],
   "source": [
    "new Rectangle(20,40,\"red\",0.3).display()"
   ]
  },
  {
   "cell_type": "code",
   "execution_count": 10,
   "metadata": {},
   "outputs": [
    {
     "data": {
      "text/html": [
       "<svg width='20' height='40'><circle cx='20' cy='0' r='3' fill='green' opacity='0.300000' /><rect width='20' height='40' fill='green' opacity='0.300000' /></svg>"
      ],
      "text/plain": [
       "<svg width='20' height='40'><circle cx='20' cy='0' r='3' fill='green' opacity='0.300000' /><rect width='20' height='40' fill='green' opacity='0.300000' /></svg>"
      ]
     },
     "metadata": {},
     "output_type": "display_data"
    }
   ],
   "source": [
    "new Rectangle(-20,40,\"green\",0.3).display()"
   ]
  },
  {
   "cell_type": "code",
   "execution_count": 11,
   "metadata": {},
   "outputs": [
    {
     "data": {
      "text/html": [
       "<svg width='20' height='40'><circle cx='0' cy='40' r='3' fill='purple' opacity='0.300000' /><rect width='20' height='40' fill='purple' opacity='0.300000' /></svg>"
      ],
      "text/plain": [
       "<svg width='20' height='40'><circle cx='0' cy='40' r='3' fill='purple' opacity='0.300000' /><rect width='20' height='40' fill='purple' opacity='0.300000' /></svg>"
      ]
     },
     "metadata": {},
     "output_type": "display_data"
    }
   ],
   "source": [
    "new Rectangle(20,-40,\"purple\",0.3).display()"
   ]
  },
  {
   "cell_type": "code",
   "execution_count": 12,
   "metadata": {},
   "outputs": [
    {
     "data": {
      "text/html": [
       "<svg width='20' height='40'><circle cx='20' cy='40' r='3' fill='brown' opacity='0.300000' /><rect width='20' height='40' fill='brown' opacity='0.300000' /></svg>"
      ],
      "text/plain": [
       "<svg width='20' height='40'><circle cx='20' cy='40' r='3' fill='brown' opacity='0.300000' /><rect width='20' height='40' fill='brown' opacity='0.300000' /></svg>"
      ]
     },
     "metadata": {},
     "output_type": "display_data"
    }
   ],
   "source": [
    "new Rectangle(-20,-40,\"brown\",0.3).display()"
   ]
  },
  {
   "cell_type": "code",
   "execution_count": 13,
   "metadata": {},
   "outputs": [],
   "source": [
    "class Obj2D implements Displayable {\n",
    "    Pair<Integer, Integer> point;\n",
    "    Shape shape;\n",
    "    \n",
    "    Obj2D(Pair<Integer, Integer> point, Shape shape) {\n",
    "        this.point = point;\n",
    "        this.shape = shape;\n",
    "    }\n",
    "    \n",
    "    @Override\n",
    "    public String toString() {\n",
    "        return\n",
    "            super.toString()\n",
    "            +\n",
    "            String.format(\"( point=%s, shape=%s )\",\n",
    "                          point.toString(), shape.toString() );\n",
    "    }\n",
    "    \n",
    "    String toSVGshape() { return shape.toSVGshape(point); }\n",
    "\n",
    "    @Override\n",
    "    public void display() { // 이미지 형태로 보여주기 위한 메소드\n",
    "        String svgStr = String.format(\n",
    "            \"<svg width='%d' height='%d'>%s</svg>\",\n",
    "            point.getLeft()+Math.abs(shape.width),\n",
    "            point.getRight()+Math.abs(shape.height),\n",
    "            this.toSVGshape() );\n",
    "        Display.display(svgStr,\"text/html\");\n",
    "    }\n",
    "}"
   ]
  },
  {
   "cell_type": "code",
   "execution_count": 14,
   "metadata": {},
   "outputs": [
    {
     "data": {
      "text/plain": [
       "(150,100)"
      ]
     },
     "execution_count": 14,
     "metadata": {},
     "output_type": "execute_result"
    }
   ],
   "source": [
    "Pair.of(150,100);"
   ]
  },
  {
   "cell_type": "code",
   "execution_count": 15,
   "metadata": {},
   "outputs": [
    {
     "data": {
      "text/plain": [
       "class org.apache.commons.lang3.tuple.ImmutablePair"
      ]
     },
     "execution_count": 15,
     "metadata": {},
     "output_type": "execute_result"
    }
   ],
   "source": [
    "Pair.of(150,100).getClass()"
   ]
  },
  {
   "cell_type": "code",
   "execution_count": 16,
   "metadata": {},
   "outputs": [],
   "source": [
    "Obj2D otri1 = new Obj2D( Pair.of(150,100), new RightTri(30,40,\"red\",0.3) );\n",
    "Obj2D otri2 = new Obj2D( Pair.of(150,100), new RightTri(-30,-40,\"red\",0.3) );"
   ]
  },
  {
   "cell_type": "code",
   "execution_count": 17,
   "metadata": {},
   "outputs": [
    {
     "data": {
      "text/plain": [
       "REPL.$JShell$26$Obj2D@4d2fd911( point=(150,100), shape=REPL.$JShell$16$RightTri@343ff194(width=30, height=40, fill=red, opacity=0.300000) )"
      ]
     },
     "execution_count": 17,
     "metadata": {},
     "output_type": "execute_result"
    }
   ],
   "source": [
    "otri1"
   ]
  },
  {
   "cell_type": "code",
   "execution_count": 18,
   "metadata": {},
   "outputs": [
    {
     "data": {
      "text/plain": [
       "REPL.$JShell$26$Obj2D@3b05af8d( point=(150,100), shape=REPL.$JShell$16$RightTri@1f96fdc8(width=-30, height=-40, fill=red, opacity=0.300000) )"
      ]
     },
     "execution_count": 18,
     "metadata": {},
     "output_type": "execute_result"
    }
   ],
   "source": [
    "otri2"
   ]
  },
  {
   "cell_type": "code",
   "execution_count": 19,
   "metadata": {},
   "outputs": [
    {
     "data": {
      "text/plain": [
       "REPL.$JShell$26$Obj2D@671b13c7( point=(150,100), shape=REPL.$JShell$17$Rectangle@67f9c52f(width=30, height=40, fill=blue, opacity=0.300000) )"
      ]
     },
     "execution_count": 19,
     "metadata": {},
     "output_type": "execute_result"
    }
   ],
   "source": [
    "Obj2D orect1 = new Obj2D( Pair.of(150,100), new Rectangle(30,40,\"blue\",0.3) );\n",
    "\n",
    "orect1"
   ]
  },
  {
   "cell_type": "code",
   "execution_count": 20,
   "metadata": {},
   "outputs": [
    {
     "data": {
      "text/plain": [
       "<circle cx='150' cy='100' r='3' fill='blue' opacity='0.300000' /><rect width='30' height='40' fill='blue' opacity='0.300000' />"
      ]
     },
     "execution_count": 20,
     "metadata": {},
     "output_type": "execute_result"
    }
   ],
   "source": [
    "orect1.toSVGshape()"
   ]
  },
  {
   "cell_type": "code",
   "execution_count": 21,
   "metadata": {},
   "outputs": [
    {
     "data": {
      "text/plain": [
       "<circle cx='150' cy='100' r='3' fill='red' opacity='0.300000' /><polygon points='150,100 180,100 150,140' fill='red' opacity='0.300000' />"
      ]
     },
     "execution_count": 21,
     "metadata": {},
     "output_type": "execute_result"
    }
   ],
   "source": [
    "otri1.toSVGshape()"
   ]
  },
  {
   "cell_type": "code",
   "execution_count": 22,
   "metadata": {},
   "outputs": [
    {
     "data": {
      "text/html": [
       "<svg width='180' height='140'><circle cx='150' cy='100' r='3' fill='red' opacity='0.300000' /><polygon points='150,100 180,100 150,140' fill='red' opacity='0.300000' /></svg>"
      ],
      "text/plain": [
       "<svg width='180' height='140'><circle cx='150' cy='100' r='3' fill='red' opacity='0.300000' /><polygon points='150,100 180,100 150,140' fill='red' opacity='0.300000' /></svg>"
      ]
     },
     "metadata": {},
     "output_type": "display_data"
    }
   ],
   "source": [
    "otri1.display()"
   ]
  },
  {
   "cell_type": "code",
   "execution_count": 23,
   "metadata": {},
   "outputs": [
    {
     "data": {
      "text/plain": [
       "<circle cx='150' cy='100' r='3' fill='red' opacity='0.300000' /><polygon points='150,100 120,100 150,60' fill='red' opacity='0.300000' />"
      ]
     },
     "execution_count": 23,
     "metadata": {},
     "output_type": "execute_result"
    }
   ],
   "source": [
    "otri2.toSVGshape()"
   ]
  },
  {
   "cell_type": "code",
   "execution_count": 24,
   "metadata": {},
   "outputs": [
    {
     "data": {
      "text/html": [
       "<svg width='180' height='140'><circle cx='150' cy='100' r='3' fill='red' opacity='0.300000' /><polygon points='150,100 120,100 150,60' fill='red' opacity='0.300000' /></svg>"
      ],
      "text/plain": [
       "<svg width='180' height='140'><circle cx='150' cy='100' r='3' fill='red' opacity='0.300000' /><polygon points='150,100 120,100 150,60' fill='red' opacity='0.300000' /></svg>"
      ]
     },
     "metadata": {},
     "output_type": "display_data"
    }
   ],
   "source": [
    "otri2.display()"
   ]
  },
  {
   "cell_type": "code",
   "execution_count": 25,
   "metadata": {},
   "outputs": [],
   "source": [
    "Obj2D otri3 = new Obj2D( Pair.of(20,30), new RightTri(-30,-40,\"red\",0.3) );"
   ]
  },
  {
   "cell_type": "code",
   "execution_count": 26,
   "metadata": {},
   "outputs": [
    {
     "data": {
      "text/plain": [
       "<circle cx='20' cy='30' r='3' fill='red' opacity='0.300000' /><polygon points='20,30 -10,30 20,-10' fill='red' opacity='0.300000' />"
      ]
     },
     "execution_count": 26,
     "metadata": {},
     "output_type": "execute_result"
    }
   ],
   "source": [
    "otri3.toSVGshape()"
   ]
  },
  {
   "cell_type": "code",
   "execution_count": 27,
   "metadata": {},
   "outputs": [
    {
     "data": {
      "text/html": [
       "<svg width='50' height='70'><circle cx='20' cy='30' r='3' fill='red' opacity='0.300000' /><polygon points='20,30 -10,30 20,-10' fill='red' opacity='0.300000' /></svg>"
      ],
      "text/plain": [
       "<svg width='50' height='70'><circle cx='20' cy='30' r='3' fill='red' opacity='0.300000' /><polygon points='20,30 -10,30 20,-10' fill='red' opacity='0.300000' /></svg>"
      ]
     },
     "metadata": {},
     "output_type": "display_data"
    }
   ],
   "source": [
    "otri3.display()"
   ]
  },
  {
   "cell_type": "markdown",
   "metadata": {},
   "source": [
    "하나의 `Shape` 오브젝트로부터 여러 개의 `Obj2D` 오브젝트를 만들 수 있다."
   ]
  },
  {
   "cell_type": "code",
   "execution_count": 28,
   "metadata": {},
   "outputs": [],
   "source": [
    "Shape s = new RightTri(30,40,\"blue\",0.3);\n",
    "\n",
    "Obj2D o1 = new Obj2D( Pair.of(10,10), s );\n",
    "Obj2D o2 = new Obj2D( Pair.of(60,20), s );\n",
    "Obj2D o3 = new Obj2D( Pair.of(20,60), s );"
   ]
  },
  {
   "cell_type": "code",
   "execution_count": 29,
   "metadata": {},
   "outputs": [
    {
     "data": {
      "text/html": [
       "<svg width='40' height='50'><circle cx='10' cy='10' r='3' fill='blue' opacity='0.300000' /><polygon points='10,10 40,10 10,50' fill='blue' opacity='0.300000' /></svg>"
      ],
      "text/plain": [
       "<svg width='40' height='50'><circle cx='10' cy='10' r='3' fill='blue' opacity='0.300000' /><polygon points='10,10 40,10 10,50' fill='blue' opacity='0.300000' /></svg>"
      ]
     },
     "metadata": {},
     "output_type": "display_data"
    }
   ],
   "source": [
    "o1.display()"
   ]
  },
  {
   "cell_type": "code",
   "execution_count": 30,
   "metadata": {},
   "outputs": [
    {
     "data": {
      "text/html": [
       "<svg width='90' height='60'><circle cx='60' cy='20' r='3' fill='blue' opacity='0.300000' /><polygon points='60,20 90,20 60,60' fill='blue' opacity='0.300000' /></svg>"
      ],
      "text/plain": [
       "<svg width='90' height='60'><circle cx='60' cy='20' r='3' fill='blue' opacity='0.300000' /><polygon points='60,20 90,20 60,60' fill='blue' opacity='0.300000' /></svg>"
      ]
     },
     "metadata": {},
     "output_type": "display_data"
    }
   ],
   "source": [
    "o2.display()"
   ]
  },
  {
   "cell_type": "code",
   "execution_count": 31,
   "metadata": {},
   "outputs": [
    {
     "data": {
      "text/html": [
       "<svg width='50' height='100'><circle cx='20' cy='60' r='3' fill='blue' opacity='0.300000' /><polygon points='20,60 50,60 20,100' fill='blue' opacity='0.300000' /></svg>"
      ],
      "text/plain": [
       "<svg width='50' height='100'><circle cx='20' cy='60' r='3' fill='blue' opacity='0.300000' /><polygon points='20,60 50,60 20,100' fill='blue' opacity='0.300000' /></svg>"
      ]
     },
     "metadata": {},
     "output_type": "display_data"
    }
   ],
   "source": [
    "o3.display()"
   ]
  },
  {
   "cell_type": "markdown",
   "metadata": {},
   "source": [
    "---\n",
    "이제 `Shape` 오브젝트와 `Obj2D` 오브젝트를 `Displayable`이라는 공통된 인터페이스를 통해 일괄 처리가 가능하다."
   ]
  },
  {
   "cell_type": "code",
   "execution_count": 32,
   "metadata": {},
   "outputs": [
    {
     "data": {
      "text/plain": [
       "true"
      ]
     },
     "execution_count": 32,
     "metadata": {},
     "output_type": "execute_result"
    }
   ],
   "source": [
    "s instanceof Shape"
   ]
  },
  {
   "cell_type": "code",
   "execution_count": 33,
   "metadata": {},
   "outputs": [
    {
     "data": {
      "text/plain": [
       "true"
      ]
     },
     "execution_count": 33,
     "metadata": {},
     "output_type": "execute_result"
    }
   ],
   "source": [
    "s instanceof Displayable"
   ]
  },
  {
   "cell_type": "code",
   "execution_count": 34,
   "metadata": {},
   "outputs": [
    {
     "data": {
      "text/plain": [
       "true"
      ]
     },
     "execution_count": 34,
     "metadata": {},
     "output_type": "execute_result"
    }
   ],
   "source": [
    "o2 instanceof Obj2D"
   ]
  },
  {
   "cell_type": "code",
   "execution_count": 35,
   "metadata": {},
   "outputs": [
    {
     "data": {
      "text/plain": [
       "true"
      ]
     },
     "execution_count": 35,
     "metadata": {},
     "output_type": "execute_result"
    }
   ],
   "source": [
    "o2 instanceof Displayable"
   ]
  },
  {
   "cell_type": "code",
   "execution_count": 36,
   "metadata": {},
   "outputs": [
    {
     "data": {
      "text/plain": [
       "true"
      ]
     },
     "execution_count": 36,
     "metadata": {},
     "output_type": "execute_result"
    }
   ],
   "source": [
    "otri1 instanceof Obj2D"
   ]
  },
  {
   "cell_type": "code",
   "execution_count": 37,
   "metadata": {},
   "outputs": [
    {
     "data": {
      "text/plain": [
       "true"
      ]
     },
     "execution_count": 37,
     "metadata": {},
     "output_type": "execute_result"
    }
   ],
   "source": [
    "otri1 instanceof Displayable"
   ]
  },
  {
   "cell_type": "code",
   "execution_count": 38,
   "metadata": {},
   "outputs": [],
   "source": [
    "Displayable[] ds = { s, otri1, o2 };"
   ]
  },
  {
   "cell_type": "code",
   "execution_count": 39,
   "metadata": {},
   "outputs": [
    {
     "data": {
      "text/html": [
       "<svg width='30' height='40'><circle cx='0' cy='0' r='3' fill='blue' opacity='0.300000' /><polygon points='0,0 30,0 0,40' fill='blue' opacity='0.300000' /></svg>"
      ],
      "text/plain": [
       "<svg width='30' height='40'><circle cx='0' cy='0' r='3' fill='blue' opacity='0.300000' /><polygon points='0,0 30,0 0,40' fill='blue' opacity='0.300000' /></svg>"
      ]
     },
     "metadata": {},
     "output_type": "display_data"
    }
   ],
   "source": [
    "ds[0].display()"
   ]
  },
  {
   "cell_type": "code",
   "execution_count": 40,
   "metadata": {},
   "outputs": [
    {
     "data": {
      "text/html": [
       "<svg width='180' height='140'><circle cx='150' cy='100' r='3' fill='red' opacity='0.300000' /><polygon points='150,100 180,100 150,140' fill='red' opacity='0.300000' /></svg>"
      ],
      "text/plain": [
       "<svg width='180' height='140'><circle cx='150' cy='100' r='3' fill='red' opacity='0.300000' /><polygon points='150,100 180,100 150,140' fill='red' opacity='0.300000' /></svg>"
      ]
     },
     "metadata": {},
     "output_type": "display_data"
    }
   ],
   "source": [
    "ds[1].display()"
   ]
  },
  {
   "cell_type": "code",
   "execution_count": 41,
   "metadata": {},
   "outputs": [
    {
     "data": {
      "text/html": [
       "<svg width='90' height='60'><circle cx='60' cy='20' r='3' fill='blue' opacity='0.300000' /><polygon points='60,20 90,20 60,60' fill='blue' opacity='0.300000' /></svg>"
      ],
      "text/plain": [
       "<svg width='90' height='60'><circle cx='60' cy='20' r='3' fill='blue' opacity='0.300000' /><polygon points='60,20 90,20 60,60' fill='blue' opacity='0.300000' /></svg>"
      ]
     },
     "metadata": {},
     "output_type": "display_data"
    }
   ],
   "source": [
    "ds[2].display()"
   ]
  },
  {
   "cell_type": "code",
   "execution_count": 42,
   "metadata": {},
   "outputs": [
    {
     "data": {
      "text/html": [
       "<svg width='30' height='40'><circle cx='0' cy='0' r='3' fill='blue' opacity='0.300000' /><polygon points='0,0 30,0 0,40' fill='blue' opacity='0.300000' /></svg>"
      ],
      "text/plain": [
       "<svg width='30' height='40'><circle cx='0' cy='0' r='3' fill='blue' opacity='0.300000' /><polygon points='0,0 30,0 0,40' fill='blue' opacity='0.300000' /></svg>"
      ]
     },
     "metadata": {},
     "output_type": "display_data"
    },
    {
     "data": {
      "text/html": [
       "<svg width='180' height='140'><circle cx='150' cy='100' r='3' fill='red' opacity='0.300000' /><polygon points='150,100 180,100 150,140' fill='red' opacity='0.300000' /></svg>"
      ],
      "text/plain": [
       "<svg width='180' height='140'><circle cx='150' cy='100' r='3' fill='red' opacity='0.300000' /><polygon points='150,100 180,100 150,140' fill='red' opacity='0.300000' /></svg>"
      ]
     },
     "metadata": {},
     "output_type": "display_data"
    },
    {
     "data": {
      "text/html": [
       "<svg width='90' height='60'><circle cx='60' cy='20' r='3' fill='blue' opacity='0.300000' /><polygon points='60,20 90,20 60,60' fill='blue' opacity='0.300000' /></svg>"
      ],
      "text/plain": [
       "<svg width='90' height='60'><circle cx='60' cy='20' r='3' fill='blue' opacity='0.300000' /><polygon points='60,20 90,20 60,60' fill='blue' opacity='0.300000' /></svg>"
      ]
     },
     "metadata": {},
     "output_type": "display_data"
    }
   ],
   "source": [
    "for (int i = 0; i < ds.length; ++i)\n",
    "    ds[i].display()"
   ]
  },
  {
   "cell_type": "code",
   "execution_count": 43,
   "metadata": {},
   "outputs": [
    {
     "data": {
      "text/html": [
       "<svg width='30' height='40'><circle cx='0' cy='0' r='3' fill='blue' opacity='0.300000' /><polygon points='0,0 30,0 0,40' fill='blue' opacity='0.300000' /></svg>"
      ],
      "text/plain": [
       "<svg width='30' height='40'><circle cx='0' cy='0' r='3' fill='blue' opacity='0.300000' /><polygon points='0,0 30,0 0,40' fill='blue' opacity='0.300000' /></svg>"
      ]
     },
     "metadata": {},
     "output_type": "display_data"
    },
    {
     "data": {
      "text/html": [
       "<svg width='180' height='140'><circle cx='150' cy='100' r='3' fill='red' opacity='0.300000' /><polygon points='150,100 180,100 150,140' fill='red' opacity='0.300000' /></svg>"
      ],
      "text/plain": [
       "<svg width='180' height='140'><circle cx='150' cy='100' r='3' fill='red' opacity='0.300000' /><polygon points='150,100 180,100 150,140' fill='red' opacity='0.300000' /></svg>"
      ]
     },
     "metadata": {},
     "output_type": "display_data"
    },
    {
     "data": {
      "text/html": [
       "<svg width='90' height='60'><circle cx='60' cy='20' r='3' fill='blue' opacity='0.300000' /><polygon points='60,20 90,20 60,60' fill='blue' opacity='0.300000' /></svg>"
      ],
      "text/plain": [
       "<svg width='90' height='60'><circle cx='60' cy='20' r='3' fill='blue' opacity='0.300000' /><polygon points='60,20 90,20 60,60' fill='blue' opacity='0.300000' /></svg>"
      ]
     },
     "metadata": {},
     "output_type": "display_data"
    }
   ],
   "source": [
    "for (var d : ds)\n",
    "    d.display()"
   ]
  },
  {
   "cell_type": "code",
   "execution_count": null,
   "metadata": {},
   "outputs": [],
   "source": []
  }
 ],
 "metadata": {
  "kernelspec": {
   "display_name": "Java",
   "language": "java",
   "name": "java"
  },
  "language_info": {
   "name": "java"
  }
 },
 "nbformat": 4,
 "nbformat_minor": 4
}
