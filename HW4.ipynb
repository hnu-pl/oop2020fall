{
 "cells": [
  {
   "cell_type": "markdown",
   "metadata": {},
   "source": [
    "# HW4 2D 오브젝트 그룹 (15점)\n",
    "\n",
    "?분반 HW4-1??그룹:\n",
    "\n",
    "* 이름: ???\n",
    "* 이름: ???\n",
    "* 이름: ???"
   ]
  },
  {
   "cell_type": "markdown",
   "metadata": {},
   "source": [
    "이 과제는 3 단계로 이루어진다.\n",
    "각 단계를 완수할 때마다 부분점수가 주어지지만, 주의할 점은 실행가능한 코드가 아니면 0점이라는 것이다.\n",
    "\n",
    "예를 들어 1단계까지만 했다면 1단계가 완성되어 실행가능한 형태의 코드로 제출해야 한다.\n",
    "\n",
    "1단계를 수행한 후 2단계를 하려다 만 코드라면 점수를 얻지 못하고 0점이다.\n",
    "\n",
    "1단와와 2단계를 완료한 직후에 파일을 따로 저장해 놓고 그 다음 단계 작업을 진행하는 것을 추천한다.\n",
    "\n",
    "수정해도 된다고 밝힌 클래스의 정의만 수정해야 한다.\n",
    "\n",
    "## Level 1. 일차원적 2D 오브젝트 그룹 클래스 정의 (4점)\n",
    "여러개의 ShapeObj2D로 구성된 GroupObj2D의 정의를 완성하라.\n",
    "즉, toString 및 Displayable과 ToSVG에서 오버라이드하라고 요구하는 메소드를 구현하라는 뜻이다.\n",
    "\n",
    "테스트로 3개 이상의 ShapeObj2D를 함께 묶어놓은 GroupObj2D 오브젝트를 정의하여 display 해보라.\n",
    "\n",
    "## Level 2. HW3의 변환 기능 추가 (5점)\n",
    "HW3에서 작성한 3가지 변환함수 메소드를 Trans2D 인터페이스로 추상화하라.\n",
    "\n",
    "그리고 ShapeObj2D와 GroupObj2D 클래스가 공통적인 인터페이스 Trans2D를 구현하도록 두 클래스의 정의를 수정하라.\n",
    "\n",
    "이차원 변환에 테스트는 Level 1에서 정의했던 GroupObj2D 오브젝트에 대해 수행하면 된다.\n",
    "\n",
    "## Level 3. 중첩 가능한 2D 오브젝트 그룹 클래스로 개선 (6점)\n",
    "\n",
    "GroupObj2D 클래스의 멤버 변수 배열인 objects에 ShapeObj2D 인스턴스 뿐만 아니라 GroupObj2D 인스턴스도 포함될 수 있도록\n",
    "GroupObj2D 클래스의 정의를 개선하라. 필요하다면 ShapeObj2D 클래스의 (심하게 뜯어고치는 건 안되고) 정의를 약간은 수정해도 된다.\n"
   ]
  },
  {
   "cell_type": "code",
   "execution_count": 1,
   "metadata": {},
   "outputs": [],
   "source": [
    "import org.apache.commons.lang3.tuple.*;\n",
    "\n",
    "interface Displayable {\n",
    "    public void display();\n",
    "}\n",
    "\n",
    "interface ToSVG {\n",
    "    public String toSVG();\n",
    "    \n",
    "    // points of the bounding rectangle\n",
    "    public Integer minX();\n",
    "    public Integer minY();\n",
    "    public Integer maxX();\n",
    "    public Integer maxY();\n",
    "    // default methods using above four abstract methods\n",
    "    default public Pair<Integer,Integer> minPoint() {\n",
    "        return Pair.of( this.minX(), this.minY() );\n",
    "    }\n",
    "    default public Pair<Integer,Integer> maxPoint() {\n",
    "        return Pair.of( this.maxX(), this.maxY() );\n",
    "    }\n",
    "}"
   ]
  },
  {
   "cell_type": "code",
   "execution_count": 2,
   "metadata": {},
   "outputs": [],
   "source": [
    "import io.github.spencerpark.ijava.runtime.*;\n",
    "import org.apache.commons.lang3.tuple.*;\n",
    "\n",
    "abstract class Shape {\n",
    "    // 인스턴스 변수\n",
    "    int width;  // 양과 음의 정수값 모두 가능\n",
    "    int height; // 양과 음의 정수값 모두 가능\n",
    "    String fill; // 도형의 안쪽을 채우는 색깔\n",
    "    double opacity; // 도형을 그렸을 때 투명도\n",
    "    \n",
    "    Shape(int width, int height, String fill, double opacity) {\n",
    "        this.width = width;\n",
    "        this.height = height;\n",
    "        this.fill = fill;\n",
    "        this.opacity = opacity;\n",
    "    }\n",
    "\n",
    "    // 추상 메소드 \n",
    "    abstract double area(); // 넓이 계산\n",
    "    abstract String toSVGshape(Pair<Integer,Integer> point); // SVG 기본 도형 태그 생성\n",
    "    \n",
    "    @Override\n",
    "    public String toString() {\n",
    "        return super.toString()\n",
    "            + String.format(\"(width=%d, height=%d, fill=%s, opacity=%f)\",\n",
    "                            width, height, fill, opacity );\n",
    "    }\n",
    "\n",
    "    void display() { // 이미지 형태로 보여주기 위한 메소드\n",
    "        Pair<Integer,Integer> point = Pair.of( (width<0)? Math.abs(width) :0,\n",
    "                                              (height<0)? Math.abs(height):0 );\n",
    "        String svgStr = String.format(\n",
    "            \"<svg width='%d' height='%d'>%s</svg>\",\n",
    "            Math.abs(width), Math.abs(height), this.toSVGshape(point) );\n",
    "        Display.display(svgStr,\"text/html\");\n",
    "    }\n",
    "}"
   ]
  },
  {
   "cell_type": "code",
   "execution_count": 3,
   "metadata": {},
   "outputs": [],
   "source": [
    "class RightTri extends Shape {\n",
    "    RightTri(int width, int height, String fill, double opacity) {\n",
    "        super(width, height, fill, opacity);\n",
    "    }\n",
    "    \n",
    "    @Override\n",
    "    double area() { return Math.abs(width * height) / 2; } // 삼각형 넓이공식에 맞게\n",
    "    \n",
    "    @Override\n",
    "    String toSVGshape(Pair<Integer,Integer> point) {\n",
    "        int x0 = point.getLeft();\n",
    "        int y0 = point.getRight();\n",
    "        return\n",
    "            String.format(\"<circle cx='%d' cy='%d' r='3' fill='%s' opacity='%f' />\",\n",
    "                          x0,y0, fill, opacity)\n",
    "            +\n",
    "            String.format(\"<polygon points='%d,%d %d,%d %d,%d' fill='%s' opacity='%f' />\",\n",
    "                          x0,y0, x0+width,y0, x0,y0+height, fill, opacity );\n",
    "    }\n",
    "}"
   ]
  },
  {
   "cell_type": "code",
   "execution_count": 89,
   "metadata": {},
   "outputs": [],
   "source": [
    "class Rectangle extends Shape {\n",
    "    Rectangle(int width, int height, String fill, double opacity) {\n",
    "        super(width, height, fill, opacity);\n",
    "    }\n",
    "    \n",
    "    @Override\n",
    "    double area() { return Math.abs(width * height); } // 직사각형 넓이공식에 맞게\n",
    "    \n",
    "    @Override\n",
    "    String toSVGshape(Pair<Integer,Integer> point) {\n",
    "        int x0 = point.getLeft();\n",
    "        int y0 = point.getRight();\n",
    "        return\n",
    "            String.format(\"<circle cx='%d' cy='%d' r='3' fill='%s' opacity='%f' />\",\n",
    "                          x0,y0, fill, opacity)\n",
    "            +\n",
    "            String.format(\"<rect x='%d' y='%d' width='%d' height='%d' fill='%s' opacity='%f' />\",\n",
    "                          (width>0)? x0: x0+width, (height>0)? y0: y0+height,\n",
    "                          Math.abs(width), Math.abs(height), fill, opacity );\n",
    "    }\n",
    "}"
   ]
  },
  {
   "cell_type": "code",
   "execution_count": 90,
   "metadata": {},
   "outputs": [],
   "source": [
    "interface Trans2D { // 변환을 한 다음에 변환만 할거에요? 아니죠 display도 하고 그래야죠?\n",
    "    InterfaceObj2D translate(int dx, int dy);\n",
    "    InterfaceObj2D scale(int rx, int ry);\n",
    "    InterfaceObj2D rotate(int k);\n",
    "}\n",
    "\n",
    "interface InterfaceObj2D extends Displayable, ToSVG, Trans2D { } // 인터페이스 상속"
   ]
  },
  {
   "cell_type": "code",
   "execution_count": 91,
   "metadata": {},
   "outputs": [],
   "source": [
    "class ShapeObj2D implements InterfaceObj2D {\n",
    "    Pair<Integer, Integer> point;\n",
    "    Shape shape;\n",
    "    \n",
    "    ShapeObj2D(Pair<Integer, Integer> point, Shape shape) {\n",
    "        this.point = point;\n",
    "        this.shape = shape;\n",
    "    }\n",
    "    \n",
    "    @Override\n",
    "    public String toString() {\n",
    "        return\n",
    "            super.toString()\n",
    "            +\n",
    "            String.format(\"( point=%s, shape=%s )\",\n",
    "                          point.toString(), shape.toString() );\n",
    "    }\n",
    "    \n",
    "    // Displayable에서 오버라이드하라고 요구하는 메소드를 구현\n",
    "    @Override // 지금은 무조건 원점부터 1사분면만 그리고 있다고 생각하고 작성하고 있음\n",
    "    public void display() { // 이미지 형태로 보여주기 위한 메소드\n",
    "        String svgStr = String.format(\n",
    "            \"<svg width='%d' height='%d'>%s</svg>\",\n",
    "            maxX(), maxY(), this.toSVG() );\n",
    "        Display.display(svgStr,\"text/html\");\n",
    "    }\n",
    "    \n",
    "    // ToSVG에서 오버라이드하라고 요구하는 메소드들을 구현\n",
    "    @Override\n",
    "    public String toSVG() { return shape.toSVGshape(point); }    \n",
    "    // points of the bounding rectangle\n",
    "    @Override\n",
    "    public Integer minX() { return Math.min(point.getLeft(), point.getLeft()+shape.width); }\n",
    "    @Override\n",
    "    public Integer minY() { return Math.min(point.getRight(), point.getRight()+shape.height); }\n",
    "    @Override\n",
    "    public Integer maxX() { return Math.max(point.getLeft(), point.getLeft()+shape.width); }\n",
    "    @Override\n",
    "    public Integer maxY() { return Math.max(point.getRight(), point.getRight()+shape.height); }\n",
    "\n",
    "    // Trans2D에서 오버라이드하라고 요구하는 메소드들을 구현 (실제 구현은 생략 HW3과 대략 마찬가지)\n",
    "    @Override\n",
    "    public InterfaceObj2D translate(int dx, int dy) {\n",
    "        // this.point = Pair.of(point.getLeft()+dx,point.getRight()+dy); // 원본 좌표 변경\n",
    "        // return this;\n",
    "        return new ShapeObj2D(Pair.of(point.getLeft()+dx,point.getRight()+dy), shape);\n",
    "    }\n",
    "    @Override\n",
    "    public InterfaceObj2D scale(int rx, int ry) { return null; } // 나머지도 HW3과 마찬가지로\n",
    "    @Override\n",
    "    public InterfaceObj2D rotate(int k)  { return null; } // 나머지도 HW3과 마찬가지로\n",
    "}"
   ]
  },
  {
   "cell_type": "code",
   "execution_count": null,
   "metadata": {},
   "outputs": [],
   "source": []
  },
  {
   "cell_type": "code",
   "execution_count": 92,
   "metadata": {},
   "outputs": [],
   "source": [
    "class GroupObj2D implements InterfaceObj2D {\n",
    "    InterfaceObj2D [] objects;\n",
    "    \n",
    "    GroupObj2D(InterfaceObj2D[] objects) { // ShapeObj2D의 배열을 받는 생성자\n",
    "        this.objects = objects;\n",
    "    }\n",
    "    \n",
    "    @Override\n",
    "    public String toString() { // 반복문으로 String으로 만들어 줍시다\n",
    "        String str = \"\";\n",
    "        for (var o : objects) {\n",
    "            str += \"\\n\" + o.toString();\n",
    "        }\n",
    "        return \"GroupObj2D: \" + str;\n",
    "    }\n",
    "    \n",
    "    // Displayable에서 오버라이드하라고 요구하는 메소드를 구현\n",
    "    @Override // 지금은 무조건 원점부터 1사분면만 그리고 있다고 생각하고 작성하고 있음\n",
    "    public void display() { // 이미지 형태로 보여주기 위한 메소드\n",
    "        String svgStr = String.format(\n",
    "            \"<svg width='%d' height='%d'>%s</svg>\",\n",
    "            maxX(), maxY(), this.toSVG() );\n",
    "        Display.display(svgStr,\"text/html\");\n",
    "    }\n",
    "\n",
    "    // ToSVG에서 오버라이드하라고 요구하는 메소드들을 구현\n",
    "    @Override \n",
    "    public String toSVG() { // 각각의 ShapeObj2D의 toSVG의 결과를 이어붙이면\n",
    "        String str = \"\";\n",
    "        for (var o : objects) {\n",
    "            str += \"\\n\" + o.toSVG();\n",
    "        }\n",
    "        return str;\n",
    "    } \n",
    "    // points of the bounding rectangle\n",
    "    @Override\n",
    "    public Integer minX() {\n",
    "        // objects 에 아무것도 안 들어 있는 경우를 혹시 대비해서 (원래 이런 그룹은 만들며 안됨)\n",
    "        if (objects.length == 0) return 0;\n",
    "        \n",
    "        int x = objects[0].minX();\n",
    "        for (var o : objects)\n",
    "            x = Math.min(x, o.minX());\n",
    "        return x;\n",
    "    }\n",
    "    @Override\n",
    "    public Integer minY() {\n",
    "        // objects 에 아무것도 안 들어 있는 경우를 혹시 대비해서 (원래 이런 그룹은 만들며 안됨)\n",
    "        if (objects.length == 0) return 0;\n",
    "        \n",
    "        int y = objects[0].minY();\n",
    "        for (var o : objects)\n",
    "            y = Math.min(y, o.minY());\n",
    "        return y;        \n",
    "    }\n",
    "    @Override\n",
    "    public Integer maxX() {\n",
    "        // objects 에 아무것도 안 들어 있는 경우를 혹시 대비해서 (원래 이런 그룹은 만들며 안됨)\n",
    "        if (objects.length == 0) return 0;\n",
    "        \n",
    "        int x = objects[0].maxX();\n",
    "        for (var o : objects)\n",
    "            x = Math.max(x, o.maxX());\n",
    "        return x;        \n",
    "    }\n",
    "    @Override\n",
    "    public Integer maxY() {\n",
    "        // objects 에 아무것도 안 들어 있는 경우를 혹시 대비해서 (원래 이런 그룹은 만들며 안됨)\n",
    "        if (objects.length == 0) return 0;\n",
    "        \n",
    "        int y = objects[0].maxY();\n",
    "        for (var o : objects)\n",
    "            y = Math.max(y, o.maxY());\n",
    "        return y; \n",
    "    }\n",
    "    \n",
    "    // Trans2D에서 오버라이드하라고 요구하는 메소드들을 구현\n",
    "    @Override\n",
    "    public InterfaceObj2D translate(int dx, int dy) {\n",
    "        InterfaceObj2D objs[] = new InterfaceObj2D[objects.length];\n",
    "        for (int i=0; i<objs.length; ++i) \n",
    "            objs[i] = objects[i].translate(dx,dy);\n",
    "        return new GroupObj2D( objs ); // 대략은 맞는데\n",
    "    }\n",
    "    @Override\n",
    "    public InterfaceObj2D scale(int rx, int ry) { return null; } // 나머지도 HW3과 마찬가지로\n",
    "    @Override\n",
    "    public InterfaceObj2D rotate(int k)  { return null; } // 나머지도 HW3과 마찬가지로\n",
    "}"
   ]
  },
  {
   "cell_type": "code",
   "execution_count": 93,
   "metadata": {},
   "outputs": [],
   "source": [
    "RightTri t1 = new RightTri(20,40,\"red\",0.3);\n",
    "RightTri t2 = new RightTri(40,20,\"blue\",0.3);\n",
    "Rectangle r1 = new Rectangle(30,80,\"green\",0.3);\n",
    "\n",
    "ShapeObj2D o1 = new ShapeObj2D(Pair.of(1,1), t1);\n",
    "ShapeObj2D o2 = new ShapeObj2D(Pair.of(30,20), t2);\n",
    "ShapeObj2D o3 = new ShapeObj2D(Pair.of(50,30), r1);"
   ]
  },
  {
   "cell_type": "code",
   "execution_count": 94,
   "metadata": {},
   "outputs": [
    {
     "data": {
      "text/plain": [
       "REPL.$JShell$20E$ShapeObj2D@956cb03( point=(1,1), shape=REPL.$JShell$17$RightTri@6a5ad4bb(width=20, height=40, fill=red, opacity=0.300000) )"
      ]
     },
     "execution_count": 94,
     "metadata": {},
     "output_type": "execute_result"
    }
   ],
   "source": [
    "o1"
   ]
  },
  {
   "cell_type": "code",
   "execution_count": 95,
   "metadata": {},
   "outputs": [
    {
     "data": {
      "text/plain": [
       "REPL.$JShell$20E$ShapeObj2D@5d5aac9a( point=(30,20), shape=REPL.$JShell$17$RightTri@5b8c3892(width=40, height=20, fill=blue, opacity=0.300000) )"
      ]
     },
     "execution_count": 95,
     "metadata": {},
     "output_type": "execute_result"
    }
   ],
   "source": [
    "o2"
   ]
  },
  {
   "cell_type": "code",
   "execution_count": 96,
   "metadata": {},
   "outputs": [
    {
     "data": {
      "text/plain": [
       "REPL.$JShell$20E$ShapeObj2D@6fc7b695( point=(50,30), shape=REPL.$JShell$18$Rectangle@6ee6a761(width=30, height=80, fill=green, opacity=0.300000) )"
      ]
     },
     "execution_count": 96,
     "metadata": {},
     "output_type": "execute_result"
    }
   ],
   "source": [
    "o3"
   ]
  },
  {
   "cell_type": "code",
   "execution_count": 97,
   "metadata": {},
   "outputs": [
    {
     "data": {
      "text/html": [
       "<svg width='21' height='41'><circle cx='1' cy='1' r='3' fill='red' opacity='0.300000' /><polygon points='1,1 21,1 1,41' fill='red' opacity='0.300000' /></svg>"
      ],
      "text/plain": [
       "<svg width='21' height='41'><circle cx='1' cy='1' r='3' fill='red' opacity='0.300000' /><polygon points='1,1 21,1 1,41' fill='red' opacity='0.300000' /></svg>"
      ]
     },
     "metadata": {},
     "output_type": "display_data"
    }
   ],
   "source": [
    "o1.display()"
   ]
  },
  {
   "cell_type": "code",
   "execution_count": 98,
   "metadata": {},
   "outputs": [
    {
     "data": {
      "text/html": [
       "<svg width='70' height='40'><circle cx='30' cy='20' r='3' fill='blue' opacity='0.300000' /><polygon points='30,20 70,20 30,40' fill='blue' opacity='0.300000' /></svg>"
      ],
      "text/plain": [
       "<svg width='70' height='40'><circle cx='30' cy='20' r='3' fill='blue' opacity='0.300000' /><polygon points='30,20 70,20 30,40' fill='blue' opacity='0.300000' /></svg>"
      ]
     },
     "metadata": {},
     "output_type": "display_data"
    }
   ],
   "source": [
    "o2.display();"
   ]
  },
  {
   "cell_type": "code",
   "execution_count": 99,
   "metadata": {},
   "outputs": [
    {
     "data": {
      "text/html": [
       "<svg width='80' height='110'><circle cx='50' cy='30' r='3' fill='green' opacity='0.300000' /><rect x='50' y='30' width='30' height='80' fill='green' opacity='0.300000' /></svg>"
      ],
      "text/plain": [
       "<svg width='80' height='110'><circle cx='50' cy='30' r='3' fill='green' opacity='0.300000' /><rect x='50' y='30' width='30' height='80' fill='green' opacity='0.300000' /></svg>"
      ]
     },
     "metadata": {},
     "output_type": "display_data"
    }
   ],
   "source": [
    "o3.display();"
   ]
  },
  {
   "cell_type": "code",
   "execution_count": 100,
   "metadata": {},
   "outputs": [],
   "source": [
    "ShapeObj2D objs[] = { o1, o2, o3 };\n",
    "\n",
    "GroupObj2D group1 = new GroupObj2D(objs);"
   ]
  },
  {
   "cell_type": "code",
   "execution_count": 101,
   "metadata": {},
   "outputs": [
    {
     "data": {
      "text/html": [
       "<svg width='80' height='110'>\n",
       "<circle cx='1' cy='1' r='3' fill='red' opacity='0.300000' /><polygon points='1,1 21,1 1,41' fill='red' opacity='0.300000' />\n",
       "<circle cx='30' cy='20' r='3' fill='blue' opacity='0.300000' /><polygon points='30,20 70,20 30,40' fill='blue' opacity='0.300000' />\n",
       "<circle cx='50' cy='30' r='3' fill='green' opacity='0.300000' /><rect x='50' y='30' width='30' height='80' fill='green' opacity='0.300000' /></svg>"
      ],
      "text/plain": [
       "<svg width='80' height='110'>\n",
       "<circle cx='1' cy='1' r='3' fill='red' opacity='0.300000' /><polygon points='1,1 21,1 1,41' fill='red' opacity='0.300000' />\n",
       "<circle cx='30' cy='20' r='3' fill='blue' opacity='0.300000' /><polygon points='30,20 70,20 30,40' fill='blue' opacity='0.300000' />\n",
       "<circle cx='50' cy='30' r='3' fill='green' opacity='0.300000' /><rect x='50' y='30' width='30' height='80' fill='green' opacity='0.300000' /></svg>"
      ]
     },
     "metadata": {},
     "output_type": "display_data"
    }
   ],
   "source": [
    "group1.display()"
   ]
  },
  {
   "cell_type": "code",
   "execution_count": null,
   "metadata": {},
   "outputs": [],
   "source": []
  },
  {
   "cell_type": "code",
   "execution_count": 102,
   "metadata": {},
   "outputs": [],
   "source": [
    "GroupObj2D group2 = (GroupObj2D) group1.translate(100,50);"
   ]
  },
  {
   "cell_type": "code",
   "execution_count": 103,
   "metadata": {},
   "outputs": [
    {
     "data": {
      "text/html": [
       "<svg width='80' height='110'>\n",
       "<circle cx='1' cy='1' r='3' fill='red' opacity='0.300000' /><polygon points='1,1 21,1 1,41' fill='red' opacity='0.300000' />\n",
       "<circle cx='30' cy='20' r='3' fill='blue' opacity='0.300000' /><polygon points='30,20 70,20 30,40' fill='blue' opacity='0.300000' />\n",
       "<circle cx='50' cy='30' r='3' fill='green' opacity='0.300000' /><rect x='50' y='30' width='30' height='80' fill='green' opacity='0.300000' /></svg>"
      ],
      "text/plain": [
       "<svg width='80' height='110'>\n",
       "<circle cx='1' cy='1' r='3' fill='red' opacity='0.300000' /><polygon points='1,1 21,1 1,41' fill='red' opacity='0.300000' />\n",
       "<circle cx='30' cy='20' r='3' fill='blue' opacity='0.300000' /><polygon points='30,20 70,20 30,40' fill='blue' opacity='0.300000' />\n",
       "<circle cx='50' cy='30' r='3' fill='green' opacity='0.300000' /><rect x='50' y='30' width='30' height='80' fill='green' opacity='0.300000' /></svg>"
      ]
     },
     "metadata": {},
     "output_type": "display_data"
    }
   ],
   "source": [
    "group1.display();"
   ]
  },
  {
   "cell_type": "code",
   "execution_count": 104,
   "metadata": {},
   "outputs": [
    {
     "data": {
      "text/html": [
       "<svg width='180' height='160'>\n",
       "<circle cx='101' cy='51' r='3' fill='red' opacity='0.300000' /><polygon points='101,51 121,51 101,91' fill='red' opacity='0.300000' />\n",
       "<circle cx='130' cy='70' r='3' fill='blue' opacity='0.300000' /><polygon points='130,70 170,70 130,90' fill='blue' opacity='0.300000' />\n",
       "<circle cx='150' cy='80' r='3' fill='green' opacity='0.300000' /><rect x='150' y='80' width='30' height='80' fill='green' opacity='0.300000' /></svg>"
      ],
      "text/plain": [
       "<svg width='180' height='160'>\n",
       "<circle cx='101' cy='51' r='3' fill='red' opacity='0.300000' /><polygon points='101,51 121,51 101,91' fill='red' opacity='0.300000' />\n",
       "<circle cx='130' cy='70' r='3' fill='blue' opacity='0.300000' /><polygon points='130,70 170,70 130,90' fill='blue' opacity='0.300000' />\n",
       "<circle cx='150' cy='80' r='3' fill='green' opacity='0.300000' /><rect x='150' y='80' width='30' height='80' fill='green' opacity='0.300000' /></svg>"
      ]
     },
     "metadata": {},
     "output_type": "display_data"
    }
   ],
   "source": [
    "group2.display();"
   ]
  },
  {
   "cell_type": "code",
   "execution_count": 105,
   "metadata": {},
   "outputs": [],
   "source": [
    "InterfaceObj2D objs3[] = { o1, o2, group2 };\n",
    "\n",
    "GroupObj2D group3 = new GroupObj2D(objs3);"
   ]
  },
  {
   "cell_type": "code",
   "execution_count": 106,
   "metadata": {},
   "outputs": [
    {
     "data": {
      "text/html": [
       "<svg width='180' height='160'>\n",
       "<circle cx='1' cy='1' r='3' fill='red' opacity='0.300000' /><polygon points='1,1 21,1 1,41' fill='red' opacity='0.300000' />\n",
       "<circle cx='30' cy='20' r='3' fill='blue' opacity='0.300000' /><polygon points='30,20 70,20 30,40' fill='blue' opacity='0.300000' />\n",
       "\n",
       "<circle cx='101' cy='51' r='3' fill='red' opacity='0.300000' /><polygon points='101,51 121,51 101,91' fill='red' opacity='0.300000' />\n",
       "<circle cx='130' cy='70' r='3' fill='blue' opacity='0.300000' /><polygon points='130,70 170,70 130,90' fill='blue' opacity='0.300000' />\n",
       "<circle cx='150' cy='80' r='3' fill='green' opacity='0.300000' /><rect x='150' y='80' width='30' height='80' fill='green' opacity='0.300000' /></svg>"
      ],
      "text/plain": [
       "<svg width='180' height='160'>\n",
       "<circle cx='1' cy='1' r='3' fill='red' opacity='0.300000' /><polygon points='1,1 21,1 1,41' fill='red' opacity='0.300000' />\n",
       "<circle cx='30' cy='20' r='3' fill='blue' opacity='0.300000' /><polygon points='30,20 70,20 30,40' fill='blue' opacity='0.300000' />\n",
       "\n",
       "<circle cx='101' cy='51' r='3' fill='red' opacity='0.300000' /><polygon points='101,51 121,51 101,91' fill='red' opacity='0.300000' />\n",
       "<circle cx='130' cy='70' r='3' fill='blue' opacity='0.300000' /><polygon points='130,70 170,70 130,90' fill='blue' opacity='0.300000' />\n",
       "<circle cx='150' cy='80' r='3' fill='green' opacity='0.300000' /><rect x='150' y='80' width='30' height='80' fill='green' opacity='0.300000' /></svg>"
      ]
     },
     "metadata": {},
     "output_type": "display_data"
    }
   ],
   "source": [
    "group3.display()"
   ]
  },
  {
   "cell_type": "code",
   "execution_count": 19,
   "metadata": {},
   "outputs": [
    {
     "data": {
      "text/plain": [
       "<circle cx='101' cy='51' r='3' fill='red' opacity='0.300000' /><polygon points='101,51 121,51 101,91' fill='red' opacity='0.300000' /><circle cx='130' cy='70' r='3' fill='blue' opacity='0.300000' /><polygon points='130,70 170,70 130,90' fill='blue' opacity='0.300000' /><circle cx='150' cy='80' r='3' fill='green' opacity='0.300000' /><rect x='150' y='80' width='30' height='80' fill='green' opacity='0.300000' />"
      ]
     },
     "execution_count": 19,
     "metadata": {},
     "output_type": "execute_result"
    }
   ],
   "source": [
    "o1.toSVG() + o2.toSVG() + o3.toSVG()"
   ]
  },
  {
   "cell_type": "code",
   "execution_count": 20,
   "metadata": {},
   "outputs": [
    {
     "data": {
      "text/plain": [
       "101"
      ]
     },
     "execution_count": 20,
     "metadata": {},
     "output_type": "execute_result"
    }
   ],
   "source": [
    "group1.minX()"
   ]
  },
  {
   "cell_type": "code",
   "execution_count": 21,
   "metadata": {},
   "outputs": [
    {
     "data": {
      "text/plain": [
       "51"
      ]
     },
     "execution_count": 21,
     "metadata": {},
     "output_type": "execute_result"
    }
   ],
   "source": [
    "group1.minY()"
   ]
  },
  {
   "cell_type": "code",
   "execution_count": 22,
   "metadata": {},
   "outputs": [
    {
     "data": {
      "text/plain": [
       "180"
      ]
     },
     "execution_count": 22,
     "metadata": {},
     "output_type": "execute_result"
    }
   ],
   "source": [
    "group1.maxX()"
   ]
  },
  {
   "cell_type": "code",
   "execution_count": 23,
   "metadata": {},
   "outputs": [
    {
     "data": {
      "text/plain": [
       "160"
      ]
     },
     "execution_count": 23,
     "metadata": {},
     "output_type": "execute_result"
    }
   ],
   "source": [
    "group1.maxY()"
   ]
  },
  {
   "cell_type": "code",
   "execution_count": 24,
   "metadata": {},
   "outputs": [
    {
     "data": {
      "text/plain": [
       "GroupObj2D: \n",
       "REPL.$JShell$20$ShapeObj2D@6ee98dbe( point=(201,251), shape=REPL.$JShell$17$RightTri@1568d424(width=20, height=40, fill=red, opacity=0.300000) )\n",
       "REPL.$JShell$20$ShapeObj2D@62778677( point=(230,270), shape=REPL.$JShell$17$RightTri@56fb44ec(width=40, height=20, fill=blue, opacity=0.300000) )\n",
       "REPL.$JShell$20$ShapeObj2D@21310ef6( point=(250,280), shape=REPL.$JShell$18$Rectangle@78dc9254(width=30, height=80, fill=green, opacity=0.300000) )"
      ]
     },
     "execution_count": 24,
     "metadata": {},
     "output_type": "execute_result"
    }
   ],
   "source": [
    "group1.translate(100,200);"
   ]
  },
  {
   "cell_type": "code",
   "execution_count": 41,
   "metadata": {},
   "outputs": [],
   "source": [
    "Integer arr1[] = {1,2,3};\n",
    "Integer arr2[] = arr1.clone();"
   ]
  },
  {
   "cell_type": "code",
   "execution_count": 42,
   "metadata": {},
   "outputs": [
    {
     "data": {
      "text/plain": [
       "[1, 2, 3]"
      ]
     },
     "execution_count": 42,
     "metadata": {},
     "output_type": "execute_result"
    }
   ],
   "source": [
    "Arrays.toString(arr2)"
   ]
  },
  {
   "cell_type": "code",
   "execution_count": null,
   "metadata": {},
   "outputs": [],
   "source": []
  }
 ],
 "metadata": {
  "kernelspec": {
   "display_name": "Java",
   "language": "java",
   "name": "java"
  },
  "language_info": {
   "name": "java"
  }
 },
 "nbformat": 4,
 "nbformat_minor": 4
}
