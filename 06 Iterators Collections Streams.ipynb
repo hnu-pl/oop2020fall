{
 "cells": [
  {
   "cell_type": "markdown",
   "metadata": {},
   "source": [
    "# 06. Iterators, Collections, and Streams\n",
    "\n",
    "Java를 포함한 많은 프로그래밍 언어에서 *반복자*(iterator)와 *컬렉션*(collection)이라는 개념을 표준라이브러리에 포함하고 있다.\n",
    "\n",
    "컬렉션은 여러 개의 오브젝트를 모아 놓은 데이타 구조이며 반복자는 그러한 데이터 구조를 따라 각각의 오브젝트 순회하는 기능을 제공한다.\n",
    "\n",
    "자바 표준라이브러리(JDK)에서 이 부분에 해당하는 것을 *자바 컬렉션 프레임워크*(Java Collection Framework)라고 부르기도 한다.\n",
    "\n",
    "이러한 컬렉션 프레임워크가 범용 프로그래밍 언어 표준라이브러리의 일부로 제공되기 시작한 것은 C++ 언어부터 유행하기 시작했다.\n",
    "Standard Template Library (STL)가 C++ 표준라이브러리의 *컨테이너*, *이터레이터*, *알고리듬*, *함수객체*\n",
    "관련 내용으로 표준화되기 시작한 것을 계기로 그 이후 Java를 비롯한 다른 언어들(C#, Python, JavaScript, ...)도 이런 추세를 따르고 있다.\n",
    "C++에서 *컨테이너*가 Java에서는 *컬렉션*에 해당하며 *이터레이터*는 C++에서도 Java에서도 똑같이 부르고 있다.\n",
    "다른 언어들도 *컬렉션*(혹은 *컨테이너*)과 *이터레이터*(혹은 *제너레이터*) 이 두 개념을 포함하여 표준라이브러리로 제공하는 경우가 많다.\n",
    "\n",
    "참고로 자바 컬렉션 프레임워크에는 없지만 유용한 컬렉션(mutiset 등)을\n",
    "Guava나 Apache Commons 라이브러리에서 제공하고 있다.\n",
    "\n",
    "Stream은 영어 단어 의미로는 *물줄기* 또는 *시냇물*을 의미한다. 이런 단어의 원래 이미지처럼 한번 주르륵 흘러가고 나면 없어지는 대상으로 일련의 물건들을 마치 컨베이어 벨트에서 흘러가면서 처리해서 내보내는 그런 것으로 생각하면 된다. 단 Stream은 실제로 대상을 처리하기 전까지는 실체화를 최대한 미루기 때문에 개념상으로는 매우 많은 객체를 포함하는 기다란 스트림을 정의하더라도 실제로 뽑아서 처리하는 객체들만 실체화되기도 하는데, 이를 게으른(lazy) 계산법을 구현한다고 이야기하기도 한다. `map`, `filter` 등 함수형 프로그래밍의 관용구(idiom)격인 고차함수 메소드를 Java에서는 바로 보통 스트림을 통해 활용한다고 보면 된다."
   ]
  },
  {
   "cell_type": "markdown",
   "metadata": {},
   "source": [
    "----\n",
    "## Iterators"
   ]
  },
  {
   "cell_type": "code",
   "execution_count": 1,
   "metadata": {},
   "outputs": [],
   "source": [
    "String courses[] = {\"데이터구조\", \"객체지향프로그래밍\", \"이산수학\", \"프로그래밍언어\"};"
   ]
  },
  {
   "cell_type": "markdown",
   "metadata": {},
   "source": [
    "자바의 배열 순회를 위해 두 가지 다른 형태의 for 문을 활용할 수 있다."
   ]
  },
  {
   "cell_type": "code",
   "execution_count": 2,
   "metadata": {},
   "outputs": [
    {
     "name": "stdout",
     "output_type": "stream",
     "text": [
      "데이터구조\n",
      "객체지향프로그래밍\n",
      "이산수학\n",
      "프로그래밍언어\n"
     ]
    }
   ],
   "source": [
    "for (int i = 0; i < courses.length; ++i) { // 전통적인 for 문\n",
    "    System.out.println( courses[i] );\n",
    "}"
   ]
  },
  {
   "cell_type": "code",
   "execution_count": 3,
   "metadata": {},
   "outputs": [
    {
     "name": "stdout",
     "output_type": "stream",
     "text": [
      "데이터구조\n",
      "객체지향프로그래밍\n",
      "이산수학\n",
      "프로그래밍언어\n"
     ]
    }
   ],
   "source": [
    "for (String c : courses) { // 자바에 나중에 추가된 방식\n",
    "    System.out.println( c );\n",
    "}"
   ]
  },
  {
   "cell_type": "code",
   "execution_count": 4,
   "metadata": {},
   "outputs": [],
   "source": [
    "List<String> cs = List.of(\"고급프로그래밍\", \"인공지능\", \"시스템프로그래밍\");"
   ]
  },
  {
   "cell_type": "markdown",
   "metadata": {},
   "source": [
    "기본적으로 제공되는 배열이 아닌 사용자 정의 데이타 구조도 Iterable 인터페이스를 구현하고 있는\n",
    "경우에는 위에서 살펴본 두 번째 형태의 for 문을 활용할 수 있다."
   ]
  },
  {
   "cell_type": "code",
   "execution_count": 6,
   "metadata": {},
   "outputs": [
    {
     "data": {
      "text/plain": [
       "true"
      ]
     },
     "execution_count": 6,
     "metadata": {},
     "output_type": "execute_result"
    }
   ],
   "source": [
    "cs instanceof List"
   ]
  },
  {
   "cell_type": "code",
   "execution_count": 7,
   "metadata": {},
   "outputs": [
    {
     "data": {
      "text/plain": [
       "true"
      ]
     },
     "execution_count": 7,
     "metadata": {},
     "output_type": "execute_result"
    }
   ],
   "source": [
    "cs instanceof Collection"
   ]
  },
  {
   "cell_type": "code",
   "execution_count": 8,
   "metadata": {},
   "outputs": [
    {
     "data": {
      "text/plain": [
       "true"
      ]
     },
     "execution_count": 8,
     "metadata": {},
     "output_type": "execute_result"
    }
   ],
   "source": [
    "cs instanceof Iterable"
   ]
  },
  {
   "cell_type": "code",
   "execution_count": 10,
   "metadata": {},
   "outputs": [
    {
     "name": "stdout",
     "output_type": "stream",
     "text": [
      "고급프로그래밍\n",
      "인공지능\n",
      "시스템프로그래밍\n"
     ]
    }
   ],
   "source": [
    "for (String c : cs) {\n",
    "    System.out.println( c );\n",
    "}"
   ]
  },
  {
   "cell_type": "code",
   "execution_count": 11,
   "metadata": {},
   "outputs": [
    {
     "name": "stdout",
     "output_type": "stream",
     "text": [
      "고급프로그래밍\n",
      "인공지능\n",
      "시스템프로그래밍\n"
     ]
    }
   ],
   "source": [
    "// 위의 for 문을 같은 일을 하는 전통적인 for 문으로 바꿔 작성해보면\n",
    "for (var i = cs.iterator(); i.hasNext(); /*내용없음*/ ) {\n",
    "    String c = i.next(); //\n",
    "    System.out.println( c );\n",
    "}"
   ]
  },
  {
   "cell_type": "markdown",
   "metadata": {},
   "source": [
    "----\n",
    "## Collections\n",
    "* `List` : 일렬로 배열된 원소를 포함하는 데이터 구조에 대한 인터페이스. C++ 등 다른 언어에서는 이에 해당하는 개념을 Sequence라는 용어로 부르기도 함.\n",
    "    - ImmutableList\n",
    "    - ArrayList - 배열을 대신해서 쓸 수 있는 (크기를 미리 정해놓지 않은 배열이라고 보면 됩니다)\n",
    "    - LinkedList\n",
    "* `Set` : 집합(중복 없는 원소들의 모임)을 표현하는 데이터 구조에 대한 인터페이스 \n",
    "    - ImmutableSet\n",
    "    - HashSet\n",
    "    - TreeSet\n",
    "* `Map` : 키(key)에 대응되는 값(value)을 모아놓은 데이터 구조에 대한 인터페이스\n",
    "    - ImmutableMap\n",
    "    - HashMap\n",
    "    - TreeMap\n",
    "    \n",
    "참고로 `Map`은 `Collection`이나 `Iterable`의 하위 인터페이스가 아니다!!!"
   ]
  },
  {
   "cell_type": "markdown",
   "metadata": {},
   "source": [
    "### `List`"
   ]
  },
  {
   "cell_type": "code",
   "execution_count": 12,
   "metadata": {},
   "outputs": [],
   "source": [
    "List<Integer> l1 = List.of(1,2,3,4);"
   ]
  },
  {
   "cell_type": "code",
   "execution_count": 13,
   "metadata": {},
   "outputs": [
    {
     "data": {
      "text/plain": [
       "class java.util.ImmutableCollections$ListN"
      ]
     },
     "execution_count": 13,
     "metadata": {},
     "output_type": "execute_result"
    }
   ],
   "source": [
    "l1.getClass()"
   ]
  },
  {
   "cell_type": "code",
   "execution_count": 14,
   "metadata": {},
   "outputs": [
    {
     "ename": "EvalException",
     "evalue": "null",
     "output_type": "error",
     "traceback": [
      "\u001b[1m\u001b[31m---------------------------------------------------------------------------\u001b[0m",
      "\u001b[1m\u001b[31mjava.lang.UnsupportedOperationException: null\u001b[0m",
      "\u001b[1m\u001b[31m\tat java.base/java.util.ImmutableCollections.uoe(ImmutableCollections.java:71)\u001b[0m",
      "\u001b[1m\u001b[31m\tat java.base/java.util.ImmutableCollections$AbstractImmutableCollection.add(ImmutableCollections.java:75)\u001b[0m",
      "\u001b[1m\u001b[31m\tat .(#25:1)\u001b[0m"
     ]
    }
   ],
   "source": [
    "l1.add(5)"
   ]
  },
  {
   "cell_type": "code",
   "execution_count": 16,
   "metadata": {},
   "outputs": [],
   "source": [
    "List<Integer> l2 = new LinkedList<Integer>()"
   ]
  },
  {
   "cell_type": "code",
   "execution_count": 17,
   "metadata": {},
   "outputs": [
    {
     "data": {
      "text/plain": [
       "[]"
      ]
     },
     "execution_count": 17,
     "metadata": {},
     "output_type": "execute_result"
    }
   ],
   "source": [
    "l2"
   ]
  },
  {
   "cell_type": "code",
   "execution_count": 18,
   "metadata": {},
   "outputs": [
    {
     "data": {
      "text/plain": [
       "true"
      ]
     },
     "execution_count": 18,
     "metadata": {},
     "output_type": "execute_result"
    }
   ],
   "source": [
    "l2.add(1)"
   ]
  },
  {
   "cell_type": "code",
   "execution_count": 19,
   "metadata": {},
   "outputs": [
    {
     "data": {
      "text/plain": [
       "true"
      ]
     },
     "execution_count": 19,
     "metadata": {},
     "output_type": "execute_result"
    }
   ],
   "source": [
    "l2.add(2)"
   ]
  },
  {
   "cell_type": "code",
   "execution_count": 20,
   "metadata": {},
   "outputs": [
    {
     "data": {
      "text/plain": [
       "[1, 2]"
      ]
     },
     "execution_count": 20,
     "metadata": {},
     "output_type": "execute_result"
    }
   ],
   "source": [
    "l2"
   ]
  },
  {
   "cell_type": "code",
   "execution_count": 21,
   "metadata": {},
   "outputs": [
    {
     "data": {
      "text/plain": [
       "class java.util.LinkedList"
      ]
     },
     "execution_count": 21,
     "metadata": {},
     "output_type": "execute_result"
    }
   ],
   "source": [
    "l2.getClass()"
   ]
  },
  {
   "cell_type": "code",
   "execution_count": 22,
   "metadata": {},
   "outputs": [],
   "source": [
    "List<Integer> l3 = new LinkedList<Integer>( List.of(1,2,3) );"
   ]
  },
  {
   "cell_type": "code",
   "execution_count": 23,
   "metadata": {},
   "outputs": [
    {
     "data": {
      "text/plain": [
       "[1, 2, 3]"
      ]
     },
     "execution_count": 23,
     "metadata": {},
     "output_type": "execute_result"
    }
   ],
   "source": [
    "l3"
   ]
  },
  {
   "cell_type": "code",
   "execution_count": 24,
   "metadata": {},
   "outputs": [
    {
     "data": {
      "text/plain": [
       "true"
      ]
     },
     "execution_count": 24,
     "metadata": {},
     "output_type": "execute_result"
    }
   ],
   "source": [
    "l3.add(4)"
   ]
  },
  {
   "cell_type": "code",
   "execution_count": 25,
   "metadata": {},
   "outputs": [
    {
     "data": {
      "text/plain": [
       "[1, 2, 3, 4]"
      ]
     },
     "execution_count": 25,
     "metadata": {},
     "output_type": "execute_result"
    }
   ],
   "source": [
    "l3"
   ]
  },
  {
   "cell_type": "code",
   "execution_count": 26,
   "metadata": {},
   "outputs": [
    {
     "data": {
      "text/plain": [
       "class java.util.LinkedList"
      ]
     },
     "execution_count": 26,
     "metadata": {},
     "output_type": "execute_result"
    }
   ],
   "source": [
    "l3.getClass()"
   ]
  },
  {
   "cell_type": "code",
   "execution_count": 30,
   "metadata": {},
   "outputs": [],
   "source": [
    "Integer[] arr4 = {1,2,3,4};\n",
    "\n",
    "List<Integer> l4 = Arrays.asList( arr4 ); // 자바 배열로부터 LinkedList를 초기화"
   ]
  },
  {
   "cell_type": "code",
   "execution_count": 28,
   "metadata": {},
   "outputs": [
    {
     "data": {
      "text/plain": [
       "[1, 2, 3, 4]"
      ]
     },
     "execution_count": 28,
     "metadata": {},
     "output_type": "execute_result"
    }
   ],
   "source": [
    "l4;"
   ]
  },
  {
   "cell_type": "code",
   "execution_count": 29,
   "metadata": {},
   "outputs": [
    {
     "data": {
      "text/plain": [
       "class java.util.LinkedList"
      ]
     },
     "execution_count": 29,
     "metadata": {},
     "output_type": "execute_result"
    }
   ],
   "source": [
    "l2.getClass()"
   ]
  },
  {
   "cell_type": "code",
   "execution_count": 31,
   "metadata": {},
   "outputs": [],
   "source": [
    "List<Integer> l5 = new ArrayList<>( List.of(1,2,3,4,5) ); // ImmutableList로부터 초기화"
   ]
  },
  {
   "cell_type": "code",
   "execution_count": 32,
   "metadata": {},
   "outputs": [
    {
     "data": {
      "text/plain": [
       "[1, 2, 3, 4, 5]"
      ]
     },
     "execution_count": 32,
     "metadata": {},
     "output_type": "execute_result"
    }
   ],
   "source": [
    "l5"
   ]
  },
  {
   "cell_type": "code",
   "execution_count": 33,
   "metadata": {},
   "outputs": [
    {
     "data": {
      "text/plain": [
       "class java.util.ArrayList"
      ]
     },
     "execution_count": 33,
     "metadata": {},
     "output_type": "execute_result"
    }
   ],
   "source": [
    "l5.getClass()"
   ]
  },
  {
   "cell_type": "code",
   "execution_count": 34,
   "metadata": {},
   "outputs": [
    {
     "data": {
      "text/plain": [
       "true"
      ]
     },
     "execution_count": 34,
     "metadata": {},
     "output_type": "execute_result"
    }
   ],
   "source": [
    "l5.add(6)"
   ]
  },
  {
   "cell_type": "code",
   "execution_count": 35,
   "metadata": {},
   "outputs": [
    {
     "data": {
      "text/plain": [
       "[1, 2, 3, 4, 5, 6]"
      ]
     },
     "execution_count": 35,
     "metadata": {},
     "output_type": "execute_result"
    }
   ],
   "source": [
    "l5"
   ]
  },
  {
   "cell_type": "code",
   "execution_count": 36,
   "metadata": {},
   "outputs": [],
   "source": [
    "import org.apache.commons.lang3.tuple.*;\n",
    "\n",
    "List<Pair<String,Integer> > l6 = List.of( Pair.of(\"one\",1), Pair.of(\"two\",2), Pair.of(\"three\",3) );"
   ]
  },
  {
   "cell_type": "code",
   "execution_count": 37,
   "metadata": {},
   "outputs": [
    {
     "data": {
      "text/plain": [
       "[(one,1), (two,2), (three,3)]"
      ]
     },
     "execution_count": 37,
     "metadata": {},
     "output_type": "execute_result"
    }
   ],
   "source": [
    "l6"
   ]
  },
  {
   "cell_type": "code",
   "execution_count": 38,
   "metadata": {},
   "outputs": [],
   "source": [
    "List<List<Integer> > l7 = List.of( List.of(1,2), List.of(3,4,5), List.of(6,7,8,9) );"
   ]
  },
  {
   "cell_type": "code",
   "execution_count": 39,
   "metadata": {},
   "outputs": [
    {
     "data": {
      "text/plain": [
       "[[1, 2], [3, 4, 5], [6, 7, 8, 9]]"
      ]
     },
     "execution_count": 39,
     "metadata": {},
     "output_type": "execute_result"
    }
   ],
   "source": [
    "l7"
   ]
  },
  {
   "cell_type": "markdown",
   "metadata": {},
   "source": [
    "### `Set`"
   ]
  },
  {
   "cell_type": "code",
   "execution_count": 49,
   "metadata": {},
   "outputs": [],
   "source": [
    "Set<Integer> s1 = Set.of(1,2,3,4);"
   ]
  },
  {
   "cell_type": "code",
   "execution_count": 50,
   "metadata": {},
   "outputs": [
    {
     "data": {
      "text/plain": [
       "[4, 3, 2, 1]"
      ]
     },
     "execution_count": 50,
     "metadata": {},
     "output_type": "execute_result"
    }
   ],
   "source": [
    "s1"
   ]
  },
  {
   "cell_type": "code",
   "execution_count": 51,
   "metadata": {},
   "outputs": [
    {
     "data": {
      "text/plain": [
       "class java.util.ImmutableCollections$SetN"
      ]
     },
     "execution_count": 51,
     "metadata": {},
     "output_type": "execute_result"
    }
   ],
   "source": [
    "s1.getClass()"
   ]
  },
  {
   "cell_type": "code",
   "execution_count": 52,
   "metadata": {},
   "outputs": [
    {
     "data": {
      "text/plain": [
       "true"
      ]
     },
     "execution_count": 52,
     "metadata": {},
     "output_type": "execute_result"
    }
   ],
   "source": [
    "s1.contains(3)"
   ]
  },
  {
   "cell_type": "code",
   "execution_count": 53,
   "metadata": {},
   "outputs": [
    {
     "data": {
      "text/plain": [
       "false"
      ]
     },
     "execution_count": 53,
     "metadata": {},
     "output_type": "execute_result"
    }
   ],
   "source": [
    "s1.contains(5)"
   ]
  },
  {
   "cell_type": "code",
   "execution_count": 54,
   "metadata": {},
   "outputs": [
    {
     "data": {
      "text/plain": [
       "true"
      ]
     },
     "execution_count": 54,
     "metadata": {},
     "output_type": "execute_result"
    }
   ],
   "source": [
    "s1 instanceof Iterable"
   ]
  },
  {
   "cell_type": "code",
   "execution_count": 55,
   "metadata": {},
   "outputs": [
    {
     "name": "stdout",
     "output_type": "stream",
     "text": [
      "4\n",
      "3\n",
      "2\n",
      "1\n"
     ]
    }
   ],
   "source": [
    "for (Integer v : s1)\n",
    "    System.out.println(v)"
   ]
  },
  {
   "cell_type": "code",
   "execution_count": 56,
   "metadata": {},
   "outputs": [
    {
     "ename": "EvalException",
     "evalue": "null",
     "output_type": "error",
     "traceback": [
      "\u001b[1m\u001b[31m---------------------------------------------------------------------------\u001b[0m",
      "\u001b[1m\u001b[31mjava.lang.UnsupportedOperationException: null\u001b[0m",
      "\u001b[1m\u001b[31m\tat java.base/java.util.ImmutableCollections.uoe(ImmutableCollections.java:71)\u001b[0m",
      "\u001b[1m\u001b[31m\tat java.base/java.util.ImmutableCollections$AbstractImmutableCollection.add(ImmutableCollections.java:75)\u001b[0m",
      "\u001b[1m\u001b[31m\tat .(#65:1)\u001b[0m"
     ]
    }
   ],
   "source": [
    "s1.add(5)"
   ]
  },
  {
   "cell_type": "code",
   "execution_count": 57,
   "metadata": {},
   "outputs": [],
   "source": [
    "Set<Integer> s2 = new HashSet<>( Set.of(2,3,4) ); // ImmutableSet으로 초기화"
   ]
  },
  {
   "cell_type": "code",
   "execution_count": 58,
   "metadata": {},
   "outputs": [
    {
     "data": {
      "text/plain": [
       "[2, 3, 4]"
      ]
     },
     "execution_count": 58,
     "metadata": {},
     "output_type": "execute_result"
    }
   ],
   "source": [
    "s2"
   ]
  },
  {
   "cell_type": "code",
   "execution_count": 59,
   "metadata": {},
   "outputs": [
    {
     "data": {
      "text/plain": [
       "true"
      ]
     },
     "execution_count": 59,
     "metadata": {},
     "output_type": "execute_result"
    }
   ],
   "source": [
    "s2.add(1)"
   ]
  },
  {
   "cell_type": "code",
   "execution_count": 60,
   "metadata": {},
   "outputs": [
    {
     "data": {
      "text/plain": [
       "false"
      ]
     },
     "execution_count": 60,
     "metadata": {},
     "output_type": "execute_result"
    }
   ],
   "source": [
    "s2.add(3)"
   ]
  },
  {
   "cell_type": "code",
   "execution_count": 61,
   "metadata": {},
   "outputs": [
    {
     "data": {
      "text/plain": [
       "true"
      ]
     },
     "execution_count": 61,
     "metadata": {},
     "output_type": "execute_result"
    }
   ],
   "source": [
    "s2.add(5)"
   ]
  },
  {
   "cell_type": "code",
   "execution_count": 62,
   "metadata": {},
   "outputs": [
    {
     "data": {
      "text/plain": [
       "[1, 2, 3, 4, 5]"
      ]
     },
     "execution_count": 62,
     "metadata": {},
     "output_type": "execute_result"
    }
   ],
   "source": [
    "s2"
   ]
  },
  {
   "cell_type": "code",
   "execution_count": 63,
   "metadata": {},
   "outputs": [],
   "source": [
    "Set<String> s3 = new HashSet<>( Set.of(\"hello\", \"world\", \"hi\", \"wall\") );"
   ]
  },
  {
   "cell_type": "code",
   "execution_count": 64,
   "metadata": {},
   "outputs": [
    {
     "data": {
      "text/plain": [
       "[hi, world, hello, wall]"
      ]
     },
     "execution_count": 64,
     "metadata": {},
     "output_type": "execute_result"
    }
   ],
   "source": [
    "s3"
   ]
  },
  {
   "cell_type": "code",
   "execution_count": 65,
   "metadata": {},
   "outputs": [],
   "source": [
    "Set<String> s4 = new TreeSet<>( Set.of(\"hello\", \"world\", \"hi\", \"wall\") );"
   ]
  },
  {
   "cell_type": "code",
   "execution_count": 66,
   "metadata": {},
   "outputs": [
    {
     "data": {
      "text/plain": [
       "[hello, hi, wall, world]"
      ]
     },
     "execution_count": 66,
     "metadata": {},
     "output_type": "execute_result"
    }
   ],
   "source": [
    "s4"
   ]
  },
  {
   "cell_type": "code",
   "execution_count": 67,
   "metadata": {},
   "outputs": [],
   "source": [
    "Set<Pair<String,Integer> > s5 =\n",
    "    Set.of( Pair.of(\"one\",1), Pair.of(\"two\",2), Pair.of(\"three\",3), Pair.of(\"three\",4) );"
   ]
  },
  {
   "cell_type": "code",
   "execution_count": 68,
   "metadata": {},
   "outputs": [
    {
     "data": {
      "text/plain": [
       "[(one,1), (two,2), (three,3), (three,4)]"
      ]
     },
     "execution_count": 68,
     "metadata": {},
     "output_type": "execute_result"
    }
   ],
   "source": [
    "s5"
   ]
  },
  {
   "cell_type": "code",
   "execution_count": 69,
   "metadata": {},
   "outputs": [],
   "source": [
    "Set<Pair<String,Integer> > s6 = new TreeSet<>( s5 );"
   ]
  },
  {
   "cell_type": "code",
   "execution_count": 70,
   "metadata": {},
   "outputs": [
    {
     "data": {
      "text/plain": [
       "[(one,1), (three,3), (three,4), (two,2)]"
      ]
     },
     "execution_count": 70,
     "metadata": {},
     "output_type": "execute_result"
    }
   ],
   "source": [
    "s6"
   ]
  },
  {
   "cell_type": "code",
   "execution_count": 71,
   "metadata": {},
   "outputs": [],
   "source": [
    "Set<List<Integer> > s7 = Set.of( List.of(1,2), List.of(2,3,4), List.of(5,6,7,8) );"
   ]
  },
  {
   "cell_type": "code",
   "execution_count": 72,
   "metadata": {},
   "outputs": [
    {
     "data": {
      "text/plain": [
       "[[1, 2], [5, 6, 7, 8], [2, 3, 4]]"
      ]
     },
     "execution_count": 72,
     "metadata": {},
     "output_type": "execute_result"
    }
   ],
   "source": [
    "s7"
   ]
  },
  {
   "cell_type": "code",
   "execution_count": 73,
   "metadata": {},
   "outputs": [
    {
     "ename": "EvalException",
     "evalue": "class java.util.ImmutableCollections$List12 cannot be cast to class java.lang.Comparable (java.util.ImmutableCollections$List12 and java.lang.Comparable are in module java.base of loader 'bootstrap')",
     "output_type": "error",
     "traceback": [
      "\u001b[1m\u001b[31m---------------------------------------------------------------------------\u001b[0m",
      "\u001b[1m\u001b[31mjava.lang.ClassCastException: class java.util.ImmutableCollections$List12 cannot be cast to class java.lang.Comparable (java.util.ImmutableCollections$List12 and java.lang.Comparable are in module java.base of loader 'bootstrap')\u001b[0m",
      "\u001b[1m\u001b[31m\tat java.base/java.util.TreeMap.compare(TreeMap.java:1291)\u001b[0m",
      "\u001b[1m\u001b[31m\tat java.base/java.util.TreeMap.put(TreeMap.java:536)\u001b[0m",
      "\u001b[1m\u001b[31m\tat java.base/java.util.TreeSet.add(TreeSet.java:255)\u001b[0m",
      "\u001b[1m\u001b[31m\tat java.base/java.util.AbstractCollection.addAll(AbstractCollection.java:352)\u001b[0m",
      "\u001b[1m\u001b[31m\tat java.base/java.util.TreeSet.addAll(TreeSet.java:312)\u001b[0m",
      "\u001b[1m\u001b[31m\tat java.base/java.util.TreeSet.<init>(TreeSet.java:160)\u001b[0m",
      "\u001b[1m\u001b[31m\tat .(#82:1)\u001b[0m"
     ]
    }
   ],
   "source": [
    "Set<List<Integer> > s8 = new TreeSet<>( s7 ); // 왜 안될까?"
   ]
  },
  {
   "cell_type": "markdown",
   "metadata": {},
   "source": [
    "### `Map`"
   ]
  },
  {
   "cell_type": "code",
   "execution_count": null,
   "metadata": {},
   "outputs": [],
   "source": [
    "Map<String,Integer> m1 = Map.of(\"Bob\",13, \"Sam\",16, \"Ted\",17);"
   ]
  },
  {
   "cell_type": "code",
   "execution_count": null,
   "metadata": {},
   "outputs": [],
   "source": [
    "m1"
   ]
  },
  {
   "cell_type": "code",
   "execution_count": null,
   "metadata": {},
   "outputs": [],
   "source": [
    "m1.get(\"Sam\")"
   ]
  },
  {
   "cell_type": "code",
   "execution_count": null,
   "metadata": {},
   "outputs": [],
   "source": [
    "m1.get(\"Bob\")"
   ]
  },
  {
   "cell_type": "code",
   "execution_count": null,
   "metadata": {},
   "outputs": [],
   "source": [
    "m1.put(\"Paul\",20);"
   ]
  },
  {
   "cell_type": "code",
   "execution_count": null,
   "metadata": {},
   "outputs": [],
   "source": [
    "m1.getClass()"
   ]
  },
  {
   "cell_type": "code",
   "execution_count": null,
   "metadata": {},
   "outputs": [],
   "source": [
    "m1.get(\"Paul\") == null"
   ]
  },
  {
   "cell_type": "code",
   "execution_count": null,
   "metadata": {},
   "outputs": [],
   "source": [
    "m1 instanceof Iterable"
   ]
  },
  {
   "cell_type": "code",
   "execution_count": null,
   "metadata": {},
   "outputs": [],
   "source": [
    "m1.entrySet()"
   ]
  },
  {
   "cell_type": "code",
   "execution_count": null,
   "metadata": {},
   "outputs": [],
   "source": [
    "Set<Map.Entry<String,Integer> > es = m1.entrySet();"
   ]
  },
  {
   "cell_type": "code",
   "execution_count": null,
   "metadata": {},
   "outputs": [],
   "source": [
    "es instanceof Iterable"
   ]
  },
  {
   "cell_type": "code",
   "execution_count": null,
   "metadata": {},
   "outputs": [],
   "source": [
    "for (var e : es) \n",
    "    System.out.println(e)"
   ]
  },
  {
   "cell_type": "code",
   "execution_count": null,
   "metadata": {},
   "outputs": [],
   "source": [
    "for (var e : es) \n",
    "    System.out.println( e.getKey() )"
   ]
  },
  {
   "cell_type": "code",
   "execution_count": null,
   "metadata": {},
   "outputs": [],
   "source": [
    "for (var e : es) \n",
    "    System.out.println( e.getValue() )"
   ]
  },
  {
   "cell_type": "code",
   "execution_count": null,
   "metadata": {},
   "outputs": [],
   "source": [
    "Map<String,Integer> m2 = new HashMap<String,Integer>();"
   ]
  },
  {
   "cell_type": "code",
   "execution_count": null,
   "metadata": {},
   "outputs": [],
   "source": [
    "m2.put(\"Bob\",13);\n",
    "m2.put(\"Sam\",16);\n",
    "m2.put(\"Ted\",17);"
   ]
  },
  {
   "cell_type": "code",
   "execution_count": null,
   "metadata": {},
   "outputs": [],
   "source": [
    "m2"
   ]
  },
  {
   "cell_type": "code",
   "execution_count": null,
   "metadata": {},
   "outputs": [],
   "source": [
    "m2.get(\"Sam\");"
   ]
  },
  {
   "cell_type": "code",
   "execution_count": null,
   "metadata": {},
   "outputs": [],
   "source": [
    "m2.getClass()"
   ]
  },
  {
   "cell_type": "code",
   "execution_count": null,
   "metadata": {},
   "outputs": [],
   "source": [
    "m2.put(\"Paul\",20)"
   ]
  },
  {
   "cell_type": "code",
   "execution_count": null,
   "metadata": {},
   "outputs": [],
   "source": [
    "m2"
   ]
  },
  {
   "cell_type": "markdown",
   "metadata": {},
   "source": [
    "---\n",
    "## Streams"
   ]
  },
  {
   "cell_type": "code",
   "execution_count": null,
   "metadata": {},
   "outputs": [],
   "source": [
    "import java.util.stream.*;\n",
    "\n",
    "Stream stream1 = Stream.of(1,2,3,4,2,3);"
   ]
  },
  {
   "cell_type": "code",
   "execution_count": null,
   "metadata": {},
   "outputs": [],
   "source": [
    "stream1.collect( Collectors.toList() )"
   ]
  },
  {
   "cell_type": "code",
   "execution_count": null,
   "metadata": {},
   "outputs": [],
   "source": [
    "stream1.collect( Collectors.toSet() )"
   ]
  },
  {
   "cell_type": "code",
   "execution_count": null,
   "metadata": {},
   "outputs": [],
   "source": [
    "List.of(1,2,3,4,2,3).stream().map( x -> x*2 ).collect( Collectors.toSet() );"
   ]
  },
  {
   "cell_type": "code",
   "execution_count": null,
   "metadata": {},
   "outputs": [],
   "source": [
    "List.of(1,2,3,4,2,3).stream().map( x -> x*2 ).collect( Collectors.toList() );"
   ]
  },
  {
   "cell_type": "code",
   "execution_count": null,
   "metadata": {},
   "outputs": [],
   "source": [
    "Stream<Integer> stream2 = Stream.of(1,2,3,4);\n",
    "Stream<Integer> stream3 = Stream.of(11,12,13,14);\n",
    "\n",
    "Stream.concat(stream2, stream3).collect( Collectors.toList() )"
   ]
  },
  {
   "cell_type": "code",
   "execution_count": null,
   "metadata": {},
   "outputs": [],
   "source": [
    "// 1,2,3,4,... 무한 스트림\n",
    "Stream<Integer> stream4 = Stream.iterate( 1, x -> x+1 );\n",
    "\n",
    "stream4.limit(100).collect( Collectors.toList() ) // 유한한 개수만큼만 실체화하여 List로 변환"
   ]
  },
  {
   "cell_type": "code",
   "execution_count": null,
   "metadata": {},
   "outputs": [],
   "source": [
    "// 자연수를 제곱한 수들 중에서 앞에서 10개만 모아서 리스트로 변환\n",
    "Stream.iterate( 1, x -> x+1 ).map(x -> x*x).limit(10).collect( Collectors.toList() )"
   ]
  },
  {
   "cell_type": "code",
   "execution_count": null,
   "metadata": {},
   "outputs": [],
   "source": [
    "// 자연수 중에서 홀수만 선택해 제곱한 수들 중에서 앞에서 10개만 모아서 리스트로 변환\n",
    "Stream.iterate( 1, x -> x+1 ).filter(x -> x%2 != 0).map(x -> x*x).limit(10).collect( Collectors.toList() )"
   ]
  },
  {
   "cell_type": "code",
   "execution_count": null,
   "metadata": {},
   "outputs": [],
   "source": [
    "List<List<Integer> > ll1 = List.of( List.of(1,2), List.of(3,4,5), List.of(6,7,8,9,10) );\n",
    "\n",
    "ll1.stream()\n",
    "    .map( l -> l.stream() ) // Stream<Stream<Integer> >\n",
    "    .collect( Collectors.toList() ) // List<Stream<Integer> >"
   ]
  },
  {
   "cell_type": "code",
   "execution_count": null,
   "metadata": {},
   "outputs": [],
   "source": [
    "List<List<Integer> > ll2 = List.of( List.of(1,2), List.of(3,4,5), List.of(6,7,8,9,10) );\n",
    "\n",
    "ll2.stream()\n",
    "    .map( l -> l.stream() ) //  // Stream<Stream<Integer> >\n",
    "    .map( s -> s.collect( Collectors.toList() ) ) // Stream<List<Integer> >\n",
    "    .collect( Collectors.toList() ) // List<List<Integer> >"
   ]
  },
  {
   "cell_type": "code",
   "execution_count": null,
   "metadata": {},
   "outputs": [],
   "source": [
    "List<List<Integer> > ll2 = List.of( List.of(1,2), List.of(3,4,5), List.of(6,7,8,9,10) );\n",
    "\n",
    "ll2.stream()\n",
    "    .flatMap( l -> l.stream() ) // // Stream<Integer>\n",
    "    .collect( Collectors.toList() ) // List<Integer>"
   ]
  },
  {
   "cell_type": "code",
   "execution_count": null,
   "metadata": {},
   "outputs": [],
   "source": [
    "List<Integer> list1 = Stream.iterate(1, x -> x+1).limit(10).collect( Collectors.toList() );\n",
    "\n",
    "list1"
   ]
  },
  {
   "cell_type": "code",
   "execution_count": null,
   "metadata": {},
   "outputs": [],
   "source": [
    "list1.stream().reduce( (x,y) -> x+y )"
   ]
  },
  {
   "cell_type": "code",
   "execution_count": null,
   "metadata": {},
   "outputs": [],
   "source": [
    "list1.stream().reduce( (x,y) -> x+y ).get()"
   ]
  },
  {
   "cell_type": "code",
   "execution_count": null,
   "metadata": {},
   "outputs": [],
   "source": [
    "new LinkedList<Integer>().stream().reduce( (x,y) -> x+y )"
   ]
  },
  {
   "cell_type": "code",
   "execution_count": null,
   "metadata": {},
   "outputs": [],
   "source": [
    "list1.stream().reduce(0, (x,y) -> x+y)"
   ]
  },
  {
   "cell_type": "code",
   "execution_count": null,
   "metadata": {},
   "outputs": [],
   "source": [
    "new LinkedList<Integer>().stream().reduce(0, (x,y) -> x+y)"
   ]
  },
  {
   "cell_type": "code",
   "execution_count": null,
   "metadata": {},
   "outputs": [],
   "source": [
    "list1.stream().reduce( 1000, (x,y) -> x+y )"
   ]
  },
  {
   "cell_type": "code",
   "execution_count": null,
   "metadata": {},
   "outputs": [],
   "source": [
    "new LinkedList<Integer>().stream().reduce( 1000, (x,y) -> x+y )"
   ]
  },
  {
   "cell_type": "code",
   "execution_count": null,
   "metadata": {},
   "outputs": [],
   "source": []
  }
 ],
 "metadata": {
  "kernelspec": {
   "display_name": "Java",
   "language": "java",
   "name": "java"
  },
  "language_info": {
   "name": "java"
  }
 },
 "nbformat": 4,
 "nbformat_minor": 4
}
