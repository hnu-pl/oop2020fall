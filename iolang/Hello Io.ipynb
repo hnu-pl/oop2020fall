{
 "cells": [
  {
   "cell_type": "markdown",
   "metadata": {},
   "source": [
    "# Hello Io\n",
    "\n",
    "[IO 언어 홈페이지](https://iolanguage.org/) tutorial 내용의 일부를 발췌하여 수정/추가함.\n",
    "\n",
    "기타 참고자료 슬라이드:\n",
    "http://soft.vub.ac.be/~tvcutsem/talks/presentations/IO-tvcutsem-26-11-04.pdf"
   ]
  },
  {
   "cell_type": "markdown",
   "metadata": {},
   "source": [
    "---\n",
    "## Math"
   ]
  },
  {
   "cell_type": "code",
   "execution_count": 1,
   "metadata": {},
   "outputs": [
    {
     "name": "stdout",
     "output_type": "stream",
     "text": [
      "==> 12\n"
     ]
    }
   ],
   "source": [
    "2 * 5 + 6 / 2 - 1"
   ]
  },
  {
   "cell_type": "code",
   "execution_count": 2,
   "metadata": {},
   "outputs": [
    {
     "name": "stdout",
     "output_type": "stream",
     "text": [
      "==> 12\n"
     ]
    }
   ],
   "source": [
    "(2 * 5) + (6 / 2) - 1"
   ]
  },
  {
   "cell_type": "code",
   "execution_count": 3,
   "metadata": {},
   "outputs": [
    {
     "name": "stdout",
     "output_type": "stream",
     "text": [
      "1\n",
      "==> 12\n"
     ]
    }
   ],
   "source": [
    "2 * 5 + 6 / 2 - 1 println"
   ]
  },
  {
   "cell_type": "code",
   "execution_count": 4,
   "metadata": {},
   "outputs": [
    {
     "name": "stdout",
     "output_type": "stream",
     "text": [
      "==> 1.4142135623730951\n"
     ]
    }
   ],
   "source": [
    "2 sqrt"
   ]
  },
  {
   "cell_type": "markdown",
   "metadata": {},
   "source": [
    "## Variables"
   ]
  },
  {
   "cell_type": "code",
   "execution_count": 5,
   "metadata": {},
   "outputs": [
    {
     "name": "stdout",
     "output_type": "stream",
     "text": [
      "==> 1\n"
     ]
    }
   ],
   "source": [
    "a := 1"
   ]
  },
  {
   "cell_type": "code",
   "execution_count": 6,
   "metadata": {},
   "outputs": [
    {
     "name": "stdout",
     "output_type": "stream",
     "text": [
      "==> 1\n"
     ]
    }
   ],
   "source": [
    "a"
   ]
  },
  {
   "cell_type": "code",
   "execution_count": 7,
   "metadata": {},
   "outputs": [
    {
     "name": "stdout",
     "output_type": "stream",
     "text": [
      "==> Number\n"
     ]
    }
   ],
   "source": [
    "a type"
   ]
  },
  {
   "cell_type": "code",
   "execution_count": 8,
   "metadata": {},
   "outputs": [
    {
     "name": "stdout",
     "output_type": "stream",
     "text": [
      "==> 0\n"
     ]
    }
   ],
   "source": [
    "a proto"
   ]
  },
  {
   "cell_type": "code",
   "execution_count": 9,
   "metadata": {},
   "outputs": [
    {
     "name": "stdout",
     "output_type": "stream",
     "text": [
      "==> Number\n"
     ]
    }
   ],
   "source": [
    "a proto type"
   ]
  },
  {
   "cell_type": "code",
   "execution_count": 10,
   "metadata": {},
   "outputs": [
    {
     "name": "stdout",
     "output_type": "stream",
     "text": [
      "==> 6\n"
     ]
    }
   ],
   "source": [
    "b := 2 * 3"
   ]
  },
  {
   "cell_type": "code",
   "execution_count": 11,
   "metadata": {},
   "outputs": [
    {
     "name": "stdout",
     "output_type": "stream",
     "text": [
      "==> 7\n"
     ]
    }
   ],
   "source": [
    "a + b"
   ]
  },
  {
   "cell_type": "markdown",
   "metadata": {},
   "source": [
    "---\n",
    "## Strings"
   ]
  },
  {
   "cell_type": "code",
   "execution_count": 12,
   "metadata": {},
   "outputs": [
    {
     "name": "stdout",
     "output_type": "stream",
     "text": [
      "Hello\n",
      "==> Hello\n"
     ]
    }
   ],
   "source": [
    "\"Hello\" println"
   ]
  },
  {
   "cell_type": "code",
   "execution_count": 13,
   "metadata": {},
   "outputs": [
    {
     "name": "stdout",
     "output_type": "stream",
     "text": [
      "==> Hello Io!\n"
     ]
    }
   ],
   "source": [
    "\"Hello \"..\"Io!\""
   ]
  },
  {
   "cell_type": "code",
   "execution_count": 14,
   "metadata": {},
   "outputs": [
    {
     "name": "stdout",
     "output_type": "stream",
     "text": [
      "Io!\n",
      "==> Hello Io!\n"
     ]
    }
   ],
   "source": [
    "\"Hello \"..\"Io!\" println"
   ]
  },
  {
   "cell_type": "code",
   "execution_count": 15,
   "metadata": {},
   "outputs": [
    {
     "name": "stdout",
     "output_type": "stream",
     "text": [
      "==> this is a test\n"
     ]
    }
   ],
   "source": [
    "s := \"this is\"..\" \"..\"a test\""
   ]
  },
  {
   "cell_type": "code",
   "execution_count": 16,
   "metadata": {},
   "outputs": [
    {
     "name": "stdout",
     "output_type": "stream",
     "text": [
      "==> Sequence\n"
     ]
    }
   ],
   "source": [
    "s type"
   ]
  },
  {
   "cell_type": "code",
   "execution_count": 17,
   "metadata": {},
   "outputs": [
    {
     "name": "stdout",
     "output_type": "stream",
     "text": [
      "==> 116\n"
     ]
    }
   ],
   "source": [
    "s at(0)"
   ]
  },
  {
   "cell_type": "code",
   "execution_count": 18,
   "metadata": {},
   "outputs": [
    {
     "name": "stdout",
     "output_type": "stream",
     "text": [
      "==> t\n"
     ]
    }
   ],
   "source": [
    "s at(0) asCharacter"
   ]
  },
  {
   "cell_type": "code",
   "execution_count": 19,
   "metadata": {},
   "outputs": [
    {
     "name": "stdout",
     "output_type": "stream",
     "text": [
      "==> 2\n"
     ]
    }
   ],
   "source": [
    "s findSeq(\"is\")"
   ]
  },
  {
   "cell_type": "code",
   "execution_count": 20,
   "metadata": {},
   "outputs": [
    {
     "name": "stdout",
     "output_type": "stream",
     "text": [
      "==> i\n"
     ]
    }
   ],
   "source": [
    "s at(2) asCharacter"
   ]
  },
  {
   "cell_type": "code",
   "execution_count": 21,
   "metadata": {},
   "outputs": [
    {
     "name": "stdout",
     "output_type": "stream",
     "text": [
      "==> list(this, is, a, test)\n"
     ]
    }
   ],
   "source": [
    "words := s split"
   ]
  },
  {
   "cell_type": "code",
   "execution_count": 22,
   "metadata": {},
   "outputs": [
    {
     "name": "stdout",
     "output_type": "stream",
     "text": [
      "==> list(this, is, a, test)\n"
     ]
    }
   ],
   "source": [
    "\"this,is,a,test\" split(\",\")"
   ]
  },
  {
   "cell_type": "code",
   "execution_count": 23,
   "metadata": {},
   "outputs": [
    {
     "name": "stdout",
     "output_type": "stream",
     "text": [
      "==> list(this, is, a, test)\n"
     ]
    }
   ],
   "source": [
    "\"this is,a test\" split(\" \",\",\")"
   ]
  },
  {
   "cell_type": "code",
   "execution_count": 24,
   "metadata": {},
   "outputs": [
    {
     "name": "stdout",
     "output_type": "stream",
     "text": [
      "==> false\n"
     ]
    }
   ],
   "source": [
    "123 == \"123\""
   ]
  },
  {
   "cell_type": "code",
   "execution_count": 25,
   "metadata": {},
   "outputs": [
    {
     "name": "stdout",
     "output_type": "stream",
     "text": [
      "==> true\n"
     ]
    }
   ],
   "source": [
    "123 asString == \"123\""
   ]
  },
  {
   "cell_type": "markdown",
   "metadata": {},
   "source": [
    "---\n",
    "## Lists"
   ]
  },
  {
   "cell_type": "code",
   "execution_count": 26,
   "metadata": {},
   "outputs": [
    {
     "name": "stdout",
     "output_type": "stream",
     "text": [
      "==> list()\n"
     ]
    }
   ],
   "source": [
    "List clone"
   ]
  },
  {
   "cell_type": "code",
   "execution_count": 27,
   "metadata": {},
   "outputs": [
    {
     "name": "stdout",
     "output_type": "stream",
     "text": [
      "==> list(30, 10, 5, 20)\n"
     ]
    }
   ],
   "source": [
    "list() append(30,10,5,20)"
   ]
  },
  {
   "cell_type": "code",
   "execution_count": 28,
   "metadata": {},
   "outputs": [
    {
     "name": "stdout",
     "output_type": "stream",
     "text": [
      "==> list(30, 10, 5, 20)\n"
     ]
    }
   ],
   "source": [
    "ns := List clone append(30,10,5,20)"
   ]
  },
  {
   "cell_type": "code",
   "execution_count": 29,
   "metadata": {},
   "outputs": [
    {
     "name": "stdout",
     "output_type": "stream",
     "text": [
      "==> 4\n"
     ]
    }
   ],
   "source": [
    "ns size"
   ]
  },
  {
   "cell_type": "code",
   "execution_count": 30,
   "metadata": {},
   "outputs": [
    {
     "name": "stdout",
     "output_type": "stream",
     "text": [
      "list(30, 10, 5, 20)\n",
      "==> list(30, 10, 5, 20)\n"
     ]
    }
   ],
   "source": [
    "ns println"
   ]
  },
  {
   "cell_type": "code",
   "execution_count": 31,
   "metadata": {},
   "outputs": [
    {
     "name": "stdout",
     "output_type": "stream",
     "text": [
      "==> 30\n"
     ]
    }
   ],
   "source": [
    "ns first"
   ]
  },
  {
   "cell_type": "code",
   "execution_count": 32,
   "metadata": {},
   "outputs": [
    {
     "name": "stdout",
     "output_type": "stream",
     "text": [
      "==> 20\n"
     ]
    }
   ],
   "source": [
    "ns last"
   ]
  },
  {
   "cell_type": "code",
   "execution_count": 33,
   "metadata": {},
   "outputs": [
    {
     "name": "stdout",
     "output_type": "stream",
     "text": [
      "==> list(5, 10, 20, 30)\n"
     ]
    }
   ],
   "source": [
    "ns sort"
   ]
  },
  {
   "cell_type": "code",
   "execution_count": 34,
   "metadata": {},
   "outputs": [
    {
     "name": "stdout",
     "output_type": "stream",
     "text": [
      "==> list(30, 10, 5, 20)\n"
     ]
    }
   ],
   "source": [
    "ns"
   ]
  },
  {
   "cell_type": "code",
   "execution_count": 35,
   "metadata": {},
   "outputs": [
    {
     "name": "stdout",
     "output_type": "stream",
     "text": [
      "==> list(20, 5, 10, 30)\n"
     ]
    }
   ],
   "source": [
    "ns reverse"
   ]
  },
  {
   "cell_type": "code",
   "execution_count": 36,
   "metadata": {},
   "outputs": [
    {
     "name": "stdout",
     "output_type": "stream",
     "text": [
      "==> list(30, 10, 5, 20)\n"
     ]
    }
   ],
   "source": [
    "ns"
   ]
  },
  {
   "cell_type": "code",
   "execution_count": 37,
   "metadata": {},
   "outputs": [
    {
     "name": "stdout",
     "output_type": "stream",
     "text": [
      "==> list(20, 5, 10, 30)\n"
     ]
    }
   ],
   "source": [
    "ns reverseInPlace"
   ]
  },
  {
   "cell_type": "code",
   "execution_count": 38,
   "metadata": {},
   "outputs": [
    {
     "name": "stdout",
     "output_type": "stream",
     "text": [
      "==> list(20, 5, 10, 30)\n"
     ]
    }
   ],
   "source": [
    "ns"
   ]
  },
  {
   "cell_type": "code",
   "execution_count": 39,
   "metadata": {},
   "outputs": [
    {
     "name": "stdout",
     "output_type": "stream",
     "text": [
      "==> list(20, 5, 30)\n"
     ]
    }
   ],
   "source": [
    "ns remove(10)"
   ]
  },
  {
   "cell_type": "code",
   "execution_count": 40,
   "metadata": {},
   "outputs": [
    {
     "name": "stdout",
     "output_type": "stream",
     "text": [
      "==> list(20, 5, 30)\n"
     ]
    }
   ],
   "source": [
    "ns"
   ]
  },
  {
   "cell_type": "code",
   "execution_count": 41,
   "metadata": {},
   "outputs": [
    {
     "name": "stdout",
     "output_type": "stream",
     "text": [
      "==> list(20, 50, 30)\n"
     ]
    }
   ],
   "source": [
    "ns atPut(1,50)"
   ]
  },
  {
   "cell_type": "code",
   "execution_count": 42,
   "metadata": {},
   "outputs": [
    {
     "name": "stdout",
     "output_type": "stream",
     "text": [
      "==> list(20, 50, 30)\n"
     ]
    }
   ],
   "source": [
    "ns"
   ]
  },
  {
   "cell_type": "code",
   "execution_count": 43,
   "metadata": {},
   "outputs": [
    {
     "name": "stdout",
     "output_type": "stream",
     "text": [
      "==> list(20, 100, 50, 30)\n"
     ]
    }
   ],
   "source": [
    "ns atInsert(1,100)"
   ]
  },
  {
   "cell_type": "code",
   "execution_count": 44,
   "metadata": {},
   "outputs": [
    {
     "name": "stdout",
     "output_type": "stream",
     "text": [
      "==> list(20, 100, 50, 30)\n"
     ]
    }
   ],
   "source": [
    "ns"
   ]
  },
  {
   "cell_type": "code",
   "execution_count": 45,
   "metadata": {},
   "outputs": [
    {
     "name": "stdout",
     "output_type": "stream",
     "text": [
      "==> list(100, 50)\n"
     ]
    }
   ],
   "source": [
    "ns select(>40)"
   ]
  },
  {
   "cell_type": "code",
   "execution_count": 46,
   "metadata": {},
   "outputs": [
    {
     "name": "stdout",
     "output_type": "stream",
     "text": [
      "==> 20\n"
     ]
    }
   ],
   "source": [
    "ns detect(40)"
   ]
  },
  {
   "cell_type": "code",
   "execution_count": 47,
   "metadata": {},
   "outputs": [
    {
     "name": "stdout",
     "output_type": "stream",
     "text": [
      "==> list(20, 100, 50, 30)\n"
     ]
    }
   ],
   "source": [
    "ns"
   ]
  },
  {
   "cell_type": "code",
   "execution_count": 48,
   "metadata": {},
   "outputs": [
    {
     "name": "stdout",
     "output_type": "stream",
     "text": [
      "==> list(2, 4, 6, 8)\n"
     ]
    }
   ],
   "source": [
    "list(1,2,3,4) map(*2)"
   ]
  },
  {
   "cell_type": "code",
   "execution_count": 49,
   "metadata": {},
   "outputs": [
    {
     "name": "stdout",
     "output_type": "stream",
     "text": [
      "==> list(40, 200, 100, 60)\n"
     ]
    }
   ],
   "source": [
    "ns map(*2)"
   ]
  },
  {
   "cell_type": "code",
   "execution_count": 50,
   "metadata": {},
   "outputs": [
    {
     "name": "stdout",
     "output_type": "stream",
     "text": [
      "==> list(20, 100, 50, 30)\n"
     ]
    }
   ],
   "source": [
    "ns"
   ]
  },
  {
   "cell_type": "code",
   "execution_count": 51,
   "metadata": {},
   "outputs": [
    {
     "name": "stdout",
     "output_type": "stream",
     "text": [
      "==> list(40, 200, 100, 60)\n"
     ]
    }
   ],
   "source": [
    "ns map(x,x*2)"
   ]
  },
  {
   "cell_type": "markdown",
   "metadata": {},
   "source": [
    "---\n",
    "## Loops"
   ]
  },
  {
   "cell_type": "code",
   "execution_count": 52,
   "metadata": {},
   "outputs": [
    {
     "name": "stdout",
     "output_type": "stream",
     "text": [
      "1\n",
      "2\n",
      "3\n",
      "4\n",
      "5\n",
      "6\n",
      "7\n",
      "8\n",
      "9\n",
      "10\n",
      "==> 10\n"
     ]
    }
   ],
   "source": [
    "for(i, 1, 10, i println)"
   ]
  },
  {
   "cell_type": "code",
   "execution_count": 53,
   "metadata": {},
   "outputs": [
    {
     "name": "stdout",
     "output_type": "stream",
     "text": [
      "1\n",
      "2\n",
      "3\n",
      "4\n",
      "5\n",
      "6\n",
      "7\n",
      "8\n",
      "9\n",
      "10\n",
      "==> nil\n"
     ]
    }
   ],
   "source": [
    "for(i, 1, 10, write(i,\"\\n\"))"
   ]
  },
  {
   "cell_type": "code",
   "execution_count": 54,
   "metadata": {},
   "outputs": [
    {
     "name": "stdout",
     "output_type": "stream",
     "text": [
      "==> list(20, 100, 50, 30)\n"
     ]
    }
   ],
   "source": [
    "ns"
   ]
  },
  {
   "cell_type": "code",
   "execution_count": 55,
   "metadata": {},
   "outputs": [
    {
     "name": "stdout",
     "output_type": "stream",
     "text": [
      "20\n",
      "100\n",
      "50\n",
      "30\n",
      "==> 30\n"
     ]
    }
   ],
   "source": [
    "ns foreach(println)"
   ]
  },
  {
   "cell_type": "code",
   "execution_count": 56,
   "metadata": {},
   "outputs": [
    {
     "name": "stdout",
     "output_type": "stream",
     "text": [
      "20\n",
      "100\n",
      "50\n",
      "30\n",
      "==> nil\n"
     ]
    }
   ],
   "source": [
    "ns foreach(v,write(v,\"\\n\"))"
   ]
  },
  {
   "cell_type": "code",
   "execution_count": 57,
   "metadata": {},
   "outputs": [
    {
     "name": "stdout",
     "output_type": "stream",
     "text": [
      "0: 20\n",
      "1: 100\n",
      "2: 50\n",
      "3: 30\n",
      "==> nil\n"
     ]
    }
   ],
   "source": [
    "ns foreach(i,v,write(i,\": \",v,\"\\n\"))"
   ]
  },
  {
   "cell_type": "code",
   "execution_count": 58,
   "metadata": {},
   "outputs": [
    {
     "name": "stdout",
     "output_type": "stream",
     "text": [
      "20\n",
      "100\n",
      "50\n",
      "30\n",
      "==> 3: 30\n"
     ]
    }
   ],
   "source": [
    "ns foreach(i, v, (i asString)..\": \"..(v asString) println)"
   ]
  },
  {
   "cell_type": "code",
   "execution_count": 59,
   "metadata": {},
   "outputs": [
    {
     "name": "stdout",
     "output_type": "stream",
     "text": [
      "==> true\n"
     ]
    }
   ],
   "source": [
    "123 asString == \"123\""
   ]
  },
  {
   "cell_type": "markdown",
   "metadata": {},
   "source": [
    "---\n",
    "## Dictionaries"
   ]
  },
  {
   "cell_type": "code",
   "execution_count": 60,
   "metadata": {},
   "outputs": [
    {
     "name": "stdout",
     "output_type": "stream",
     "text": [
      "==>  Map_0x561501a173f0:\n",
      "\n"
     ]
    }
   ],
   "source": [
    "dict := Map clone"
   ]
  },
  {
   "cell_type": "code",
   "execution_count": 61,
   "metadata": {},
   "outputs": [
    {
     "name": "stdout",
     "output_type": "stream",
     "text": [
      "==>  Map_0x561501a173f0:\n",
      "\n"
     ]
    }
   ],
   "source": [
    "dict atPut(\"cent\",1)"
   ]
  },
  {
   "cell_type": "code",
   "execution_count": 62,
   "metadata": {},
   "outputs": [
    {
     "name": "stdout",
     "output_type": "stream",
     "text": [
      "==>  Map_0x561501a173f0:\n",
      "\n"
     ]
    }
   ],
   "source": [
    "dict atPut(\"nickel\",5)"
   ]
  },
  {
   "cell_type": "code",
   "execution_count": 63,
   "metadata": {},
   "outputs": [
    {
     "name": "stdout",
     "output_type": "stream",
     "text": [
      "==>  Map_0x561501a173f0:\n",
      "\n"
     ]
    }
   ],
   "source": [
    "dict atPut(\"dime\",10)"
   ]
  },
  {
   "cell_type": "code",
   "execution_count": 64,
   "metadata": {},
   "outputs": [
    {
     "name": "stdout",
     "output_type": "stream",
     "text": [
      "==>  Map_0x561501a173f0:\n",
      "\n"
     ]
    }
   ],
   "source": [
    "dict atPut(\"quarter\",25)"
   ]
  },
  {
   "cell_type": "code",
   "execution_count": 65,
   "metadata": {},
   "outputs": [
    {
     "name": "stdout",
     "output_type": "stream",
     "text": [
      "==> true\n"
     ]
    }
   ],
   "source": [
    "dict hasKey(\"dime\")"
   ]
  },
  {
   "cell_type": "code",
   "execution_count": 66,
   "metadata": {},
   "outputs": [
    {
     "name": "stdout",
     "output_type": "stream",
     "text": [
      "==> true\n"
     ]
    }
   ],
   "source": [
    "dict hasValue(5)"
   ]
  },
  {
   "cell_type": "code",
   "execution_count": 67,
   "metadata": {},
   "outputs": [
    {
     "name": "stdout",
     "output_type": "stream",
     "text": [
      "==> list(dime, cent, quarter, nickel)\n"
     ]
    }
   ],
   "source": [
    "dict keys"
   ]
  },
  {
   "cell_type": "code",
   "execution_count": 68,
   "metadata": {},
   "outputs": [
    {
     "name": "stdout",
     "output_type": "stream",
     "text": [
      "==> list(10, 1, 25, 5)\n"
     ]
    }
   ],
   "source": [
    "dict values"
   ]
  },
  {
   "cell_type": "code",
   "execution_count": 69,
   "metadata": {},
   "outputs": [
    {
     "name": "stdout",
     "output_type": "stream",
     "text": [
      "==> Map\n"
     ]
    }
   ],
   "source": [
    "dict type"
   ]
  },
  {
   "cell_type": "code",
   "execution_count": 70,
   "metadata": {},
   "outputs": [
    {
     "name": "stdout",
     "output_type": "stream",
     "text": [
      "==>  Map_0x5615007718b0:\n",
      "  addKeysAndValues = method(keys, values, ...)\n",
      "  asJson           = method(...)\n",
      "  asList           = method(...)\n",
      "  asObject         = method(...)\n",
      "  at               = Map_at()\n",
      "  atIfAbsentPut    = Map_atIfAbsentPut()\n",
      "  atPut            = Map_atPut()\n",
      "  detect           = method(...)\n",
      "  empty            = Map_empty()\n",
      "  foreach          = Map_foreach()\n",
      "  hasKey           = Map_hasKey()\n",
      "  hasValue         = Map_hasValue()\n",
      "  isEmpty          = method(...)\n",
      "  isNotEmpty       = method(...)\n",
      "  justSerialized   = method(stream, ...)\n",
      "  keys             = Map_keys()\n",
      "  map              = method(...)\n",
      "  merge            = method(anotherMap, ...)\n",
      "  mergeInPlace     = method(anotherMap, ...)\n",
      "  removeAt         = Map_removeAt()\n",
      "  reverseMap       = method(...)\n",
      "  select           = method(...)\n",
      "  size             = Map_size()\n",
      "  values           = Map_values()\n",
      "  with             = method(...)\n",
      "\n"
     ]
    }
   ],
   "source": [
    "dict proto"
   ]
  },
  {
   "cell_type": "code",
   "execution_count": 71,
   "metadata": {},
   "outputs": [
    {
     "name": "stdout",
     "output_type": "stream",
     "text": [
      "==>  Object_0x561500ac0470:\n",
      "  cent             = 1\n",
      "  dime             = 10\n",
      "  nickel           = 5\n",
      "  quarter          = 25\n",
      "\n"
     ]
    }
   ],
   "source": [
    "dict asObject"
   ]
  },
  {
   "cell_type": "code",
   "execution_count": 72,
   "metadata": {},
   "outputs": [
    {
     "name": "stdout",
     "output_type": "stream",
     "text": [
      "==> list(list(dime, 10), list(cent, 1), list(quarter, 25), list(nickel, 5))\n"
     ]
    }
   ],
   "source": [
    "dict asList"
   ]
  },
  {
   "cell_type": "code",
   "execution_count": 73,
   "metadata": {},
   "outputs": [
    {
     "name": "stdout",
     "output_type": "stream",
     "text": [
      "dime: 10\n",
      "cent: 1\n",
      "quarter: 25\n",
      "nickel: 5\n",
      "==> nil\n"
     ]
    }
   ],
   "source": [
    "dict foreach(k,v, write(k,\": \",v,\"\\n\"))"
   ]
  },
  {
   "cell_type": "markdown",
   "metadata": {},
   "source": [
    "---\n",
    "## Conditionals"
   ]
  },
  {
   "cell_type": "code",
   "execution_count": 74,
   "metadata": {},
   "outputs": [
    {
     "name": "stdout",
     "output_type": "stream",
     "text": [
      "==> 2\n"
     ]
    }
   ],
   "source": [
    "a := 2"
   ]
  },
  {
   "cell_type": "code",
   "execution_count": 75,
   "metadata": {},
   "outputs": [
    {
     "name": "stdout",
     "output_type": "stream",
     "text": [
      "a is not one\n",
      "==> false\n"
     ]
    }
   ],
   "source": [
    "(a == 1) ifTrue(\"a is one\" println) ifFalse(\"a is not one\" println)"
   ]
  },
  {
   "cell_type": "code",
   "execution_count": 76,
   "metadata": {},
   "outputs": [
    {
     "name": "stdout",
     "output_type": "stream",
     "text": [
      "==> 1\n"
     ]
    }
   ],
   "source": [
    "a := 1"
   ]
  },
  {
   "cell_type": "code",
   "execution_count": 77,
   "metadata": {},
   "outputs": [
    {
     "name": "stdout",
     "output_type": "stream",
     "text": [
      "a is one\n",
      "==> true\n"
     ]
    }
   ],
   "source": [
    "(a == 1) ifTrue(\"a is one\" println) ifFalse(\"a is not one\" println)"
   ]
  },
  {
   "cell_type": "code",
   "execution_count": null,
   "metadata": {},
   "outputs": [],
   "source": []
  },
  {
   "cell_type": "code",
   "execution_count": 78,
   "metadata": {},
   "outputs": [
    {
     "name": "stdout",
     "output_type": "stream",
     "text": [
      "==> true\n"
     ]
    }
   ],
   "source": [
    "true type"
   ]
  },
  {
   "cell_type": "code",
   "execution_count": 79,
   "metadata": {},
   "outputs": [
    {
     "name": "stdout",
     "output_type": "stream",
     "text": [
      "==> false\n"
     ]
    }
   ],
   "source": [
    "false type"
   ]
  },
  {
   "cell_type": "code",
   "execution_count": 80,
   "metadata": {},
   "outputs": [
    {
     "name": "stdout",
     "output_type": "stream",
     "text": [
      "==> false\n"
     ]
    }
   ],
   "source": [
    "true type == false type"
   ]
  },
  {
   "cell_type": "code",
   "execution_count": 81,
   "metadata": {},
   "outputs": [
    {
     "name": "stdout",
     "output_type": "stream",
     "text": [
      "==> Object\n"
     ]
    }
   ],
   "source": [
    "true proto type"
   ]
  },
  {
   "cell_type": "code",
   "execution_count": 82,
   "metadata": {},
   "outputs": [
    {
     "name": "stdout",
     "output_type": "stream",
     "text": [
      "==> Object\n"
     ]
    }
   ],
   "source": [
    "false proto type"
   ]
  },
  {
   "cell_type": "code",
   "execution_count": 83,
   "metadata": {},
   "outputs": [
    {
     "name": "stdout",
     "output_type": "stream",
     "text": [
      "==> true\n"
     ]
    }
   ],
   "source": [
    "true proto == false proto"
   ]
  },
  {
   "cell_type": "code",
   "execution_count": 84,
   "metadata": {},
   "outputs": [
    {
     "name": "stdout",
     "output_type": "stream",
     "text": [
      "==>  Object_0x56150071fcb0:\n",
      "                   = Object_()\n",
      "  !=               = Object_!=()\n",
      "  -                = Object_-()\n",
      "  ..               = method(arg, ...)\n",
      "  <                = Object_<()\n",
      "  <=               = Object_<=()\n",
      "  ==               = Object_==()\n",
      "  >                = Object_>()\n",
      "  >=               = Object_>=()\n",
      "  ?                = method(...)\n",
      "  @                = method(...)\n",
      "  @@               = method(...)\n",
      "  actorProcessQueue = method(...)\n",
      "  actorRun         = method(...)\n",
      "  addTrait         = method(obj, ...)\n",
      "  ancestorWithSlot = Object_ancestorWithSlot()\n",
      "  ancestors        = method(a, ...)\n",
      "  and              = method(v, ...)\n",
      "  appendProto      = Object_appendProto()\n",
      "  apropos          = method(keyword, ...)\n",
      "  argIsActivationRecord = Object_argIsActivationRecord()\n",
      "  argIsCall        = Object_argIsCall()\n",
      "  asBoolean        = Object_asBoolean()\n",
      "  asSimpleString   = method(...)\n",
      "  asString         = method(keyword, ...)\n",
      "  asyncSend        = method(...)\n",
      "  become           = Object_become()\n",
      "  block            = Object_block()\n",
      "  break            = Object_break()\n",
      "  clone            = Object_clone()\n",
      "  cloneWithoutInit = Object_cloneWithoutInit()\n",
      "  compare          = Object_compare()\n",
      "  contextWithSlot  = Object_contextWithSlot()\n",
      "  continue         = Object_continue()\n",
      "  coroDo           = method(...)\n",
      "  coroDoLater      = method(...)\n",
      "  coroFor          = method(...)\n",
      "  coroWith         = method(...)\n",
      "  currentCoro      = method(...)\n",
      "  deprecatedWarning = method(newName, ...)\n",
      "  do               = Object_do()\n",
      "  doFile           = Object_doFile()\n",
      "  doMessage        = Object_doMessage()\n",
      "  doRelativeFile   = method(path, ...)\n",
      "  doString         = Object_doString()\n",
      "  evalArg          = Object_evalArg()\n",
      "  evalArgAndReturnNil = Object_evalArgAndReturnNil()\n",
      "  evalArgAndReturnSelf = Object_evalArgAndReturnSelf()\n",
      "  for              = Object_for()\n",
      "  foreachSlot      = method(...)\n",
      "  futureSend       = method(...)\n",
      "  getLocalSlot     = Object_getLocalSlot()\n",
      "  getSlot          = Object_getSlot()\n",
      "  handleActorException = method(e, ...)\n",
      "  hasDirtySlot     = Object_hasDirtySlot()\n",
      "  hasLocalSlot     = Object_hasLocalSlot()\n",
      "  hasProto         = Object_hasProto()\n",
      "  hasSlot          = method(n, ...)\n",
      "  if               = Object_if()\n",
      "  ifError          = method(...)\n",
      "  ifNil            = Object_thisContext()\n",
      "  ifNilEval        = Object_thisContext()\n",
      "  ifNonNil         = Object_evalArgAndReturnSelf()\n",
      "  ifNonNilEval     = Object_evalArg()\n",
      "  in               = method(aList, ...)\n",
      "  init             = Object_init()\n",
      "  inlineMethod     = method(...)\n",
      "  isActivatable    = Object_isActivatable()\n",
      "  isError          = false\n",
      "  isIdenticalTo    = Object_isIdenticalTo()\n",
      "  isKindOf         = method(anObject, ...)\n",
      "  isLaunchScript   = method(...)\n",
      "  isNil            = false\n",
      "  isTrue           = true\n",
      "  justSerialized   = method(stream, ...)\n",
      "  launchFile       = method(path, args, ...)\n",
      "  lazySlot         = method(...)\n",
      "  lexicalDo        = Object_lexicalDo()\n",
      "  list             = method(...)\n",
      "  loop             = Object_loop()\n",
      "  markClean        = Object_markClean()\n",
      "  memorySize       = Object_memorySize()\n",
      "  message          = Object_message()\n",
      "  method           = Object_method()\n",
      "  newSlot          = method(name, value, doc, ...)\n",
      "  not              = nil\n",
      "  or               = true\n",
      "  ownsSlots        = Object_ownsSlots()\n",
      "  pause            = method(...)\n",
      "  perform          = Object_perform()\n",
      "  performWithArgList = Object_performWithArgList()\n",
      "  prependProto     = Object_prependProto()\n",
      "  print            = method(...)\n",
      "  println          = method(...)\n",
      "  proto            = Object_proto()\n",
      "  protos           = Object_protos()\n",
      "  raiseIfError     = method(...)\n",
      "  relativeDoFile   = method(path, ...)\n",
      "  removeAllProtos  = Object_removeAllProtos()\n",
      "  removeAllSlots   = Object_removeAllSlots()\n",
      "  removeProto      = Object_removeProto()\n",
      "  removeSlot       = Object_removeSlot()\n",
      "  resend           = method(...)\n",
      "  return           = Object_return()\n",
      "  returnIfError    = method(...)\n",
      "  returnIfNonNil   = Object_returnIfNonNil()\n",
      "  serialized       = method(stream, ...)\n",
      "  serializedSlots  = method(stream, ...)\n",
      "  serializedSlotsWithNames = method(names, stream, ...)\n",
      "  setIsActivatable = Object_setIsActivatable()\n",
      "  setProto         = Object_setProto()\n",
      "  setProtos        = Object_setProtos()\n",
      "  setSlot          = Object_setSlot()\n",
      "  setSlotWithType  = Object_setSlotWithType()\n",
      "  shallowCopy      = Object_shallowCopy()\n",
      "  slotDescriptionMap = method(...)\n",
      "  slotNames        = Object_slotNames()\n",
      "  slotSummary      = method(keyword, ...)\n",
      "  slotValues       = Object_slotValues()\n",
      "  stopStatus       = Object_stopStatus()\n",
      "  super            = method(...)\n",
      "  switch           = method(...)\n",
      "  thisContext      = Object_thisContext()\n",
      "  thisLocalContext = Object_thisLocalContext()\n",
      "  thisMessage      = Object_thisMessage()\n",
      "  try              = method(...)\n",
      "  type             = Object_type()\n",
      "  uniqueHexId      = method(...)\n",
      "  uniqueId         = Object_uniqueId()\n",
      "  updateSlot       = Object_updateSlot()\n",
      "  wait             = method(s, ...)\n",
      "  while            = Object_while()\n",
      "  write            = Object_write()\n",
      "  writeln          = Object_writeln()\n",
      "  yield            = method(...)\n",
      "\n"
     ]
    }
   ],
   "source": [
    "true proto"
   ]
  },
  {
   "cell_type": "markdown",
   "metadata": {},
   "source": [
    "---\n",
    "## Objects"
   ]
  },
  {
   "cell_type": "code",
   "execution_count": 85,
   "metadata": {},
   "outputs": [
    {
     "name": "stdout",
     "output_type": "stream",
     "text": [
      "==>  Contact_0x561500985d40:\n",
      "  type             = \"Contact\"\n",
      "\n"
     ]
    }
   ],
   "source": [
    "Contact := Object clone"
   ]
  },
  {
   "cell_type": "code",
   "execution_count": 86,
   "metadata": {},
   "outputs": [
    {
     "name": "stdout",
     "output_type": "stream",
     "text": [
      "==> Contact\n"
     ]
    }
   ],
   "source": [
    "Contact type"
   ]
  },
  {
   "cell_type": "code",
   "execution_count": 87,
   "metadata": {},
   "outputs": [
    {
     "name": "stdout",
     "output_type": "stream",
     "text": [
      "==> Object\n"
     ]
    }
   ],
   "source": [
    "Contact proto type"
   ]
  },
  {
   "cell_type": "code",
   "execution_count": 88,
   "metadata": {},
   "outputs": [
    {
     "name": "stdout",
     "output_type": "stream",
     "text": [
      "==> nil\n"
     ]
    }
   ],
   "source": [
    "Contact name := nil"
   ]
  },
  {
   "cell_type": "code",
   "execution_count": 89,
   "metadata": {},
   "outputs": [
    {
     "name": "stdout",
     "output_type": "stream",
     "text": [
      "==>  Contact_0x561500985d40:\n",
      "  name             = nil\n",
      "  type             = \"Contact\"\n",
      "\n"
     ]
    }
   ],
   "source": [
    "Contact"
   ]
  },
  {
   "cell_type": "code",
   "execution_count": 90,
   "metadata": {},
   "outputs": [
    {
     "name": "stdout",
     "output_type": "stream",
     "text": [
      "==> nil\n"
     ]
    }
   ],
   "source": [
    "Contact name ::= nil"
   ]
  },
  {
   "cell_type": "code",
   "execution_count": 91,
   "metadata": {},
   "outputs": [
    {
     "name": "stdout",
     "output_type": "stream",
     "text": [
      "==>  Contact_0x561500985d40:\n",
      "  name             = nil\n",
      "  setName          = method(...)\n",
      "  type             = \"Contact\"\n",
      "\n"
     ]
    }
   ],
   "source": [
    "Contact"
   ]
  },
  {
   "cell_type": "code",
   "execution_count": 92,
   "metadata": {},
   "outputs": [
    {
     "name": "stdout",
     "output_type": "stream",
     "text": [
      "==> nil\n"
     ]
    }
   ],
   "source": [
    "Contact address ::= nil"
   ]
  },
  {
   "cell_type": "code",
   "execution_count": 93,
   "metadata": {},
   "outputs": [
    {
     "name": "stdout",
     "output_type": "stream",
     "text": [
      "==> nil\n"
     ]
    }
   ],
   "source": [
    "Contact city ::= nil"
   ]
  },
  {
   "cell_type": "code",
   "execution_count": 94,
   "metadata": {},
   "outputs": [
    {
     "name": "stdout",
     "output_type": "stream",
     "text": [
      "==>  Contact_0x56150096e850:\n",
      "  address          = \"122B Baker St.\"\n",
      "  city             = \"London\"\n",
      "  name             = \"Holmes\"\n",
      "\n"
     ]
    }
   ],
   "source": [
    "holmes := Contact clone setName(\"Holmes\") setAddress(\"122B Baker St.\") setCity(\"London\")"
   ]
  },
  {
   "cell_type": "code",
   "execution_count": 95,
   "metadata": {},
   "outputs": [
    {
     "name": "stdout",
     "output_type": "stream",
     "text": [
      "==> Contact\n"
     ]
    }
   ],
   "source": [
    "holmes type"
   ]
  },
  {
   "cell_type": "code",
   "execution_count": 96,
   "metadata": {},
   "outputs": [
    {
     "name": "stdout",
     "output_type": "stream",
     "text": [
      "==>  Contact_0x561500985d40:\n",
      "  address          = nil\n",
      "  city             = nil\n",
      "  name             = nil\n",
      "  setAddress       = method(...)\n",
      "  setCity          = method(...)\n",
      "  setName          = method(...)\n",
      "  type             = \"Contact\"\n",
      "\n"
     ]
    }
   ],
   "source": [
    "holmes proto"
   ]
  },
  {
   "cell_type": "code",
   "execution_count": 97,
   "metadata": {},
   "outputs": [
    {
     "name": "stdout",
     "output_type": "stream",
     "text": [
      "==> Contact\n"
     ]
    }
   ],
   "source": [
    "holmes proto type"
   ]
  },
  {
   "cell_type": "code",
   "execution_count": 98,
   "metadata": {},
   "outputs": [
    {
     "name": "stdout",
     "output_type": "stream",
     "text": [
      "==> list(city, name, address)\n"
     ]
    }
   ],
   "source": [
    "holmes slotNames"
   ]
  },
  {
   "cell_type": "code",
   "execution_count": 99,
   "metadata": {},
   "outputs": [
    {
     "name": "stdout",
     "output_type": "stream",
     "text": [
      "==> method(\n",
      "    list(name, address, city) join(\"\\n\")\n",
      ")\n"
     ]
    }
   ],
   "source": [
    "Contact fullAddress := method( list(name,address,city) join(\"\\n\") )"
   ]
  },
  {
   "cell_type": "code",
   "execution_count": 100,
   "metadata": {},
   "outputs": [
    {
     "name": "stdout",
     "output_type": "stream",
     "text": [
      "==>  Contact_0x561500985d40:\n",
      "  address          = nil\n",
      "  city             = nil\n",
      "  fullAddress      = method(...)\n",
      "  name             = nil\n",
      "  setAddress       = method(...)\n",
      "  setCity          = method(...)\n",
      "  setName          = method(...)\n",
      "  type             = \"Contact\"\n",
      "\n"
     ]
    }
   ],
   "source": [
    "Contact"
   ]
  },
  {
   "cell_type": "code",
   "execution_count": 101,
   "metadata": {},
   "outputs": [
    {
     "name": "stdout",
     "output_type": "stream",
     "text": [
      "==>  Contact_0x56150096e850:\n",
      "  address          = \"122B Baker St.\"\n",
      "  city             = \"London\"\n",
      "  name             = \"Holmes\"\n",
      "\n"
     ]
    }
   ],
   "source": [
    "holmes"
   ]
  },
  {
   "cell_type": "code",
   "execution_count": 102,
   "metadata": {},
   "outputs": [
    {
     "name": "stdout",
     "output_type": "stream",
     "text": [
      "==> Holmes\n",
      "122B Baker St.\n",
      "London\n"
     ]
    }
   ],
   "source": [
    "holmes fullAddress"
   ]
  },
  {
   "cell_type": "code",
   "execution_count": 103,
   "metadata": {},
   "outputs": [
    {
     "name": "stdout",
     "output_type": "stream",
     "text": [
      "==> 122B Baker St.\n"
     ]
    }
   ],
   "source": [
    "holmes getSlot(\"address\")"
   ]
  },
  {
   "cell_type": "code",
   "execution_count": 104,
   "metadata": {},
   "outputs": [
    {
     "name": "stdout",
     "output_type": "stream",
     "text": [
      "==> method(\n",
      "    list(name, address, city) join(\"\\n\")\n",
      ")\n"
     ]
    }
   ],
   "source": [
    "holmes getSlot(\"fullAddress\")"
   ]
  },
  {
   "cell_type": "markdown",
   "metadata": {},
   "source": [
    "### Defining Objects with the `do(...)` method"
   ]
  },
  {
   "cell_type": "code",
   "execution_count": 105,
   "metadata": {},
   "outputs": [
    {
     "name": "stdout",
     "output_type": "stream",
     "text": [
      "==>  Contact_0x561500b03c90:\n",
      "  address          = nil\n",
      "  city             = nil\n",
      "  fullAddress      = method(...)\n",
      "  name             = nil\n",
      "  setAddress       = method(...)\n",
      "  setCity          = method(...)\n",
      "  setName          = method(...)\n",
      "  type             = \"Contact\"\n",
      "\n"
     ]
    }
   ],
   "source": [
    "Contact := Object clone\n",
    "  do( name ::= nil;\n",
    "      address ::= nil;\n",
    "      city ::= nil;\n",
    "      fullAddress := method(\n",
    "            list(name,address,city) join(\"\\n\")\n",
    "        )\n",
    "    )"
   ]
  },
  {
   "cell_type": "code",
   "execution_count": 106,
   "metadata": {},
   "outputs": [
    {
     "name": "stdout",
     "output_type": "stream",
     "text": [
      "==>  Contact_0x561501224000:\n",
      "  address          = \"122B Baker St.\"\n",
      "  city             = \"London\"\n",
      "  name             = \"Holmes\"\n",
      "\n"
     ]
    }
   ],
   "source": [
    "holmes := Contact clone setName(\"Holmes\") setAddress(\"122B Baker St.\") setCity(\"London\")"
   ]
  },
  {
   "cell_type": "code",
   "execution_count": 107,
   "metadata": {},
   "outputs": [
    {
     "name": "stdout",
     "output_type": "stream",
     "text": [
      "==> Holmes\n",
      "122B Baker St.\n",
      "London\n"
     ]
    }
   ],
   "source": [
    "holmes fullAddress"
   ]
  },
  {
   "cell_type": "markdown",
   "metadata": {},
   "source": [
    "### Inheritance"
   ]
  },
  {
   "cell_type": "code",
   "execution_count": 108,
   "metadata": {},
   "outputs": [
    {
     "name": "stdout",
     "output_type": "stream",
     "text": [
      "==>  BusinessContact_0x561501bedc90:\n",
      "  companyName      = \"\"\n",
      "  fullAddress      = method(...)\n",
      "  setCompanyName   = method(...)\n",
      "  type             = \"BusinessContact\"\n",
      "\n"
     ]
    }
   ],
   "source": [
    "BusinessContact := Contact clone\n",
    "  do( companyName ::= \"\";\n",
    "      fullAddress := method(\n",
    "            companyName .. \"\\n\" .. \"Care of: \".. resend\n",
    "        )\n",
    "    )"
   ]
  },
  {
   "cell_type": "code",
   "execution_count": 109,
   "metadata": {},
   "outputs": [
    {
     "name": "stdout",
     "output_type": "stream",
     "text": [
      "==>  BusinessContact_0x561500c6e700:\n",
      "  address          = \"1 Infinite Loop\"\n",
      "  city             = \"Cupertino\"\n",
      "  companyName      = \"Apple Inc.\"\n",
      "  name             = \"Steve Jobs\"\n",
      "\n"
     ]
    }
   ],
   "source": [
    "steve := BusinessContact clone\n",
    "  do( setName(\"Steve Jobs\");\n",
    "      setCompanyName(\"Apple Inc.\");\n",
    "      setAddress(\"1 Infinite Loop\");\n",
    "      setCity(\"Cupertino\")\n",
    "    )"
   ]
  },
  {
   "cell_type": "code",
   "execution_count": 110,
   "metadata": {},
   "outputs": [
    {
     "name": "stdout",
     "output_type": "stream",
     "text": [
      "==> Apple Inc.\n",
      "Care of: Steve Jobs\n",
      "1 Infinite Loop\n",
      "Cupertino\n"
     ]
    }
   ],
   "source": [
    "steve fullAddress"
   ]
  },
  {
   "cell_type": "code",
   "execution_count": 111,
   "metadata": {},
   "outputs": [
    {
     "name": "stdout",
     "output_type": "stream",
     "text": [
      "==> BusinessContact\n"
     ]
    }
   ],
   "source": [
    "steve type"
   ]
  },
  {
   "cell_type": "code",
   "execution_count": 112,
   "metadata": {},
   "outputs": [
    {
     "name": "stdout",
     "output_type": "stream",
     "text": [
      "==> BusinessContact\n"
     ]
    }
   ],
   "source": [
    "steve proto type"
   ]
  },
  {
   "cell_type": "code",
   "execution_count": 113,
   "metadata": {},
   "outputs": [
    {
     "name": "stdout",
     "output_type": "stream",
     "text": [
      "==> Contact\n"
     ]
    }
   ],
   "source": [
    "steve proto proto type"
   ]
  },
  {
   "cell_type": "code",
   "execution_count": 114,
   "metadata": {},
   "outputs": [
    {
     "name": "stdout",
     "output_type": "stream",
     "text": [
      "==> Object\n"
     ]
    }
   ],
   "source": [
    "steve proto proto proto type"
   ]
  },
  {
   "cell_type": "code",
   "execution_count": null,
   "metadata": {},
   "outputs": [],
   "source": []
  }
 ],
 "metadata": {
  "kernelspec": {
   "display_name": "Io",
   "language": "io",
   "name": "io"
  },
  "language_info": {
   "codemirror_mode": "scheme",
   "file_extension": ".io",
   "mimetype": "text/plain",
   "name": "Io"
  }
 },
 "nbformat": 4,
 "nbformat_minor": 4
}
